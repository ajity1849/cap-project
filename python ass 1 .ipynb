{
 "cells": [
  {
   "cell_type": "markdown",
   "id": "1c02ba36",
   "metadata": {},
   "source": [
    "# importing the libraries"
   ]
  },
  {
   "cell_type": "code",
   "execution_count": 12,
   "id": "93a140b6",
   "metadata": {},
   "outputs": [],
   "source": [
    "import numpy as np\n",
    "import pandas as pd\n",
    "import matplotlib.pyplot as plt\n",
    "import seaborn as sns\n",
    "%matplotlib inline\n",
    "import warnings\n",
    "warnings.filterwarnings(\"ignore\")"
   ]
  },
  {
   "cell_type": "code",
   "execution_count": 13,
   "id": "dab46d34",
   "metadata": {},
   "outputs": [
    {
     "data": {
      "text/html": [
       "<div>\n",
       "<style scoped>\n",
       "    .dataframe tbody tr th:only-of-type {\n",
       "        vertical-align: middle;\n",
       "    }\n",
       "\n",
       "    .dataframe tbody tr th {\n",
       "        vertical-align: top;\n",
       "    }\n",
       "\n",
       "    .dataframe thead th {\n",
       "        text-align: right;\n",
       "    }\n",
       "</style>\n",
       "<table border=\"1\" class=\"dataframe\">\n",
       "  <thead>\n",
       "    <tr style=\"text-align: right;\">\n",
       "      <th></th>\n",
       "      <th>App</th>\n",
       "      <th>Category</th>\n",
       "      <th>Rating</th>\n",
       "      <th>Reviews</th>\n",
       "      <th>Size</th>\n",
       "      <th>Installs</th>\n",
       "      <th>Type</th>\n",
       "      <th>Price</th>\n",
       "      <th>Content Rating</th>\n",
       "      <th>Genres</th>\n",
       "      <th>Last Updated</th>\n",
       "      <th>Current Ver</th>\n",
       "      <th>Android Ver</th>\n",
       "    </tr>\n",
       "  </thead>\n",
       "  <tbody>\n",
       "    <tr>\n",
       "      <th>0</th>\n",
       "      <td>Photo Editor &amp; Candy Camera &amp; Grid &amp; ScrapBook</td>\n",
       "      <td>ART_AND_DESIGN</td>\n",
       "      <td>4.1</td>\n",
       "      <td>159</td>\n",
       "      <td>19000.000000</td>\n",
       "      <td>10,000+</td>\n",
       "      <td>Free</td>\n",
       "      <td>0</td>\n",
       "      <td>Everyone</td>\n",
       "      <td>Art &amp; Design</td>\n",
       "      <td>January 7, 2018</td>\n",
       "      <td>1.0.0</td>\n",
       "      <td>4.0.3 and up</td>\n",
       "    </tr>\n",
       "    <tr>\n",
       "      <th>1</th>\n",
       "      <td>Coloring book moana</td>\n",
       "      <td>ART_AND_DESIGN</td>\n",
       "      <td>3.9</td>\n",
       "      <td>967</td>\n",
       "      <td>14000.000000</td>\n",
       "      <td>500,000+</td>\n",
       "      <td>Free</td>\n",
       "      <td>0</td>\n",
       "      <td>Everyone</td>\n",
       "      <td>Art &amp; Design;Pretend Play</td>\n",
       "      <td>January 15, 2018</td>\n",
       "      <td>2.0.0</td>\n",
       "      <td>4.0.3 and up</td>\n",
       "    </tr>\n",
       "    <tr>\n",
       "      <th>2</th>\n",
       "      <td>U Launcher Lite – FREE Live Cool Themes, Hide ...</td>\n",
       "      <td>ART_AND_DESIGN</td>\n",
       "      <td>4.7</td>\n",
       "      <td>87510</td>\n",
       "      <td>8700.000000</td>\n",
       "      <td>5,000,000+</td>\n",
       "      <td>Free</td>\n",
       "      <td>0</td>\n",
       "      <td>Everyone</td>\n",
       "      <td>Art &amp; Design</td>\n",
       "      <td>August 1, 2018</td>\n",
       "      <td>1.2.4</td>\n",
       "      <td>4.0.3 and up</td>\n",
       "    </tr>\n",
       "    <tr>\n",
       "      <th>3</th>\n",
       "      <td>Sketch - Draw &amp; Paint</td>\n",
       "      <td>ART_AND_DESIGN</td>\n",
       "      <td>4.5</td>\n",
       "      <td>215644</td>\n",
       "      <td>25000.000000</td>\n",
       "      <td>50,000,000+</td>\n",
       "      <td>Free</td>\n",
       "      <td>0</td>\n",
       "      <td>Teen</td>\n",
       "      <td>Art &amp; Design</td>\n",
       "      <td>June 8, 2018</td>\n",
       "      <td>Varies with device</td>\n",
       "      <td>4.2 and up</td>\n",
       "    </tr>\n",
       "    <tr>\n",
       "      <th>4</th>\n",
       "      <td>Pixel Draw - Number Art Coloring Book</td>\n",
       "      <td>ART_AND_DESIGN</td>\n",
       "      <td>4.3</td>\n",
       "      <td>967</td>\n",
       "      <td>2800.000000</td>\n",
       "      <td>100,000+</td>\n",
       "      <td>Free</td>\n",
       "      <td>0</td>\n",
       "      <td>Everyone</td>\n",
       "      <td>Art &amp; Design;Creativity</td>\n",
       "      <td>June 20, 2018</td>\n",
       "      <td>1.1</td>\n",
       "      <td>4.4 and up</td>\n",
       "    </tr>\n",
       "    <tr>\n",
       "      <th>...</th>\n",
       "      <td>...</td>\n",
       "      <td>...</td>\n",
       "      <td>...</td>\n",
       "      <td>...</td>\n",
       "      <td>...</td>\n",
       "      <td>...</td>\n",
       "      <td>...</td>\n",
       "      <td>...</td>\n",
       "      <td>...</td>\n",
       "      <td>...</td>\n",
       "      <td>...</td>\n",
       "      <td>...</td>\n",
       "      <td>...</td>\n",
       "    </tr>\n",
       "    <tr>\n",
       "      <th>10836</th>\n",
       "      <td>Sya9a Maroc - FR</td>\n",
       "      <td>FAMILY</td>\n",
       "      <td>4.5</td>\n",
       "      <td>38</td>\n",
       "      <td>53000.000000</td>\n",
       "      <td>5,000+</td>\n",
       "      <td>Free</td>\n",
       "      <td>0</td>\n",
       "      <td>Everyone</td>\n",
       "      <td>Education</td>\n",
       "      <td>July 25, 2017</td>\n",
       "      <td>1.48</td>\n",
       "      <td>4.1 and up</td>\n",
       "    </tr>\n",
       "    <tr>\n",
       "      <th>10837</th>\n",
       "      <td>Fr. Mike Schmitz Audio Teachings</td>\n",
       "      <td>FAMILY</td>\n",
       "      <td>5.0</td>\n",
       "      <td>4</td>\n",
       "      <td>3600.000000</td>\n",
       "      <td>100+</td>\n",
       "      <td>Free</td>\n",
       "      <td>0</td>\n",
       "      <td>Everyone</td>\n",
       "      <td>Education</td>\n",
       "      <td>July 6, 2018</td>\n",
       "      <td>1.0</td>\n",
       "      <td>4.1 and up</td>\n",
       "    </tr>\n",
       "    <tr>\n",
       "      <th>10838</th>\n",
       "      <td>Parkinson Exercices FR</td>\n",
       "      <td>MEDICAL</td>\n",
       "      <td>NaN</td>\n",
       "      <td>3</td>\n",
       "      <td>9500.000000</td>\n",
       "      <td>1,000+</td>\n",
       "      <td>Free</td>\n",
       "      <td>0</td>\n",
       "      <td>Everyone</td>\n",
       "      <td>Medical</td>\n",
       "      <td>January 20, 2017</td>\n",
       "      <td>1.0</td>\n",
       "      <td>2.2 and up</td>\n",
       "    </tr>\n",
       "    <tr>\n",
       "      <th>10839</th>\n",
       "      <td>The SCP Foundation DB fr nn5n</td>\n",
       "      <td>BOOKS_AND_REFERENCE</td>\n",
       "      <td>4.5</td>\n",
       "      <td>114</td>\n",
       "      <td>21516.529524</td>\n",
       "      <td>1,000+</td>\n",
       "      <td>Free</td>\n",
       "      <td>0</td>\n",
       "      <td>Mature 17+</td>\n",
       "      <td>Books &amp; Reference</td>\n",
       "      <td>January 19, 2015</td>\n",
       "      <td>Varies with device</td>\n",
       "      <td>Varies with device</td>\n",
       "    </tr>\n",
       "    <tr>\n",
       "      <th>10840</th>\n",
       "      <td>iHoroscope - 2018 Daily Horoscope &amp; Astrology</td>\n",
       "      <td>LIFESTYLE</td>\n",
       "      <td>4.5</td>\n",
       "      <td>398307</td>\n",
       "      <td>19000.000000</td>\n",
       "      <td>10,000,000+</td>\n",
       "      <td>Free</td>\n",
       "      <td>0</td>\n",
       "      <td>Everyone</td>\n",
       "      <td>Lifestyle</td>\n",
       "      <td>July 25, 2018</td>\n",
       "      <td>Varies with device</td>\n",
       "      <td>Varies with device</td>\n",
       "    </tr>\n",
       "  </tbody>\n",
       "</table>\n",
       "<p>10841 rows × 13 columns</p>\n",
       "</div>"
      ],
      "text/plain": [
       "                                                     App             Category  \\\n",
       "0         Photo Editor & Candy Camera & Grid & ScrapBook       ART_AND_DESIGN   \n",
       "1                                    Coloring book moana       ART_AND_DESIGN   \n",
       "2      U Launcher Lite – FREE Live Cool Themes, Hide ...       ART_AND_DESIGN   \n",
       "3                                  Sketch - Draw & Paint       ART_AND_DESIGN   \n",
       "4                  Pixel Draw - Number Art Coloring Book       ART_AND_DESIGN   \n",
       "...                                                  ...                  ...   \n",
       "10836                                   Sya9a Maroc - FR               FAMILY   \n",
       "10837                   Fr. Mike Schmitz Audio Teachings               FAMILY   \n",
       "10838                             Parkinson Exercices FR              MEDICAL   \n",
       "10839                      The SCP Foundation DB fr nn5n  BOOKS_AND_REFERENCE   \n",
       "10840      iHoroscope - 2018 Daily Horoscope & Astrology            LIFESTYLE   \n",
       "\n",
       "       Rating Reviews          Size     Installs  Type Price Content Rating  \\\n",
       "0         4.1     159  19000.000000      10,000+  Free     0       Everyone   \n",
       "1         3.9     967  14000.000000     500,000+  Free     0       Everyone   \n",
       "2         4.7   87510   8700.000000   5,000,000+  Free     0       Everyone   \n",
       "3         4.5  215644  25000.000000  50,000,000+  Free     0           Teen   \n",
       "4         4.3     967   2800.000000     100,000+  Free     0       Everyone   \n",
       "...       ...     ...           ...          ...   ...   ...            ...   \n",
       "10836     4.5      38  53000.000000       5,000+  Free     0       Everyone   \n",
       "10837     5.0       4   3600.000000         100+  Free     0       Everyone   \n",
       "10838     NaN       3   9500.000000       1,000+  Free     0       Everyone   \n",
       "10839     4.5     114  21516.529524       1,000+  Free     0     Mature 17+   \n",
       "10840     4.5  398307  19000.000000  10,000,000+  Free     0       Everyone   \n",
       "\n",
       "                          Genres      Last Updated         Current Ver  \\\n",
       "0                   Art & Design   January 7, 2018               1.0.0   \n",
       "1      Art & Design;Pretend Play  January 15, 2018               2.0.0   \n",
       "2                   Art & Design    August 1, 2018               1.2.4   \n",
       "3                   Art & Design      June 8, 2018  Varies with device   \n",
       "4        Art & Design;Creativity     June 20, 2018                 1.1   \n",
       "...                          ...               ...                 ...   \n",
       "10836                  Education     July 25, 2017                1.48   \n",
       "10837                  Education      July 6, 2018                 1.0   \n",
       "10838                    Medical  January 20, 2017                 1.0   \n",
       "10839          Books & Reference  January 19, 2015  Varies with device   \n",
       "10840                  Lifestyle     July 25, 2018  Varies with device   \n",
       "\n",
       "              Android Ver  \n",
       "0            4.0.3 and up  \n",
       "1            4.0.3 and up  \n",
       "2            4.0.3 and up  \n",
       "3              4.2 and up  \n",
       "4              4.4 and up  \n",
       "...                   ...  \n",
       "10836          4.1 and up  \n",
       "10837          4.1 and up  \n",
       "10838          2.2 and up  \n",
       "10839  Varies with device  \n",
       "10840  Varies with device  \n",
       "\n",
       "[10841 rows x 13 columns]"
      ]
     },
     "execution_count": 13,
     "metadata": {},
     "output_type": "execute_result"
    }
   ],
   "source": [
    "df=pd.read_csv(r\"C:\\Users\\ajity\\Downloads\\files for python\\python ass 1\\Python Assignment 2_BI\\playstore-analysis (2) (1).csv\")\n",
    "df #reading dataframe as pl_ana"
   ]
  },
  {
   "cell_type": "code",
   "execution_count": 14,
   "id": "4ef4f8ae",
   "metadata": {},
   "outputs": [
    {
     "data": {
      "text/html": [
       "<div>\n",
       "<style scoped>\n",
       "    .dataframe tbody tr th:only-of-type {\n",
       "        vertical-align: middle;\n",
       "    }\n",
       "\n",
       "    .dataframe tbody tr th {\n",
       "        vertical-align: top;\n",
       "    }\n",
       "\n",
       "    .dataframe thead th {\n",
       "        text-align: right;\n",
       "    }\n",
       "</style>\n",
       "<table border=\"1\" class=\"dataframe\">\n",
       "  <thead>\n",
       "    <tr style=\"text-align: right;\">\n",
       "      <th></th>\n",
       "      <th>App</th>\n",
       "      <th>Category</th>\n",
       "      <th>Rating</th>\n",
       "      <th>Reviews</th>\n",
       "      <th>Size</th>\n",
       "      <th>Installs</th>\n",
       "      <th>Type</th>\n",
       "      <th>Price</th>\n",
       "      <th>Content Rating</th>\n",
       "      <th>Genres</th>\n",
       "      <th>Last Updated</th>\n",
       "      <th>Current Ver</th>\n",
       "      <th>Android Ver</th>\n",
       "    </tr>\n",
       "  </thead>\n",
       "  <tbody>\n",
       "    <tr>\n",
       "      <th>0</th>\n",
       "      <td>Photo Editor &amp; Candy Camera &amp; Grid &amp; ScrapBook</td>\n",
       "      <td>ART_AND_DESIGN</td>\n",
       "      <td>4.1</td>\n",
       "      <td>159</td>\n",
       "      <td>19000.0</td>\n",
       "      <td>10,000+</td>\n",
       "      <td>Free</td>\n",
       "      <td>0</td>\n",
       "      <td>Everyone</td>\n",
       "      <td>Art &amp; Design</td>\n",
       "      <td>January 7, 2018</td>\n",
       "      <td>1.0.0</td>\n",
       "      <td>4.0.3 and up</td>\n",
       "    </tr>\n",
       "    <tr>\n",
       "      <th>1</th>\n",
       "      <td>Coloring book moana</td>\n",
       "      <td>ART_AND_DESIGN</td>\n",
       "      <td>3.9</td>\n",
       "      <td>967</td>\n",
       "      <td>14000.0</td>\n",
       "      <td>500,000+</td>\n",
       "      <td>Free</td>\n",
       "      <td>0</td>\n",
       "      <td>Everyone</td>\n",
       "      <td>Art &amp; Design;Pretend Play</td>\n",
       "      <td>January 15, 2018</td>\n",
       "      <td>2.0.0</td>\n",
       "      <td>4.0.3 and up</td>\n",
       "    </tr>\n",
       "    <tr>\n",
       "      <th>2</th>\n",
       "      <td>U Launcher Lite – FREE Live Cool Themes, Hide ...</td>\n",
       "      <td>ART_AND_DESIGN</td>\n",
       "      <td>4.7</td>\n",
       "      <td>87510</td>\n",
       "      <td>8700.0</td>\n",
       "      <td>5,000,000+</td>\n",
       "      <td>Free</td>\n",
       "      <td>0</td>\n",
       "      <td>Everyone</td>\n",
       "      <td>Art &amp; Design</td>\n",
       "      <td>August 1, 2018</td>\n",
       "      <td>1.2.4</td>\n",
       "      <td>4.0.3 and up</td>\n",
       "    </tr>\n",
       "    <tr>\n",
       "      <th>3</th>\n",
       "      <td>Sketch - Draw &amp; Paint</td>\n",
       "      <td>ART_AND_DESIGN</td>\n",
       "      <td>4.5</td>\n",
       "      <td>215644</td>\n",
       "      <td>25000.0</td>\n",
       "      <td>50,000,000+</td>\n",
       "      <td>Free</td>\n",
       "      <td>0</td>\n",
       "      <td>Teen</td>\n",
       "      <td>Art &amp; Design</td>\n",
       "      <td>June 8, 2018</td>\n",
       "      <td>Varies with device</td>\n",
       "      <td>4.2 and up</td>\n",
       "    </tr>\n",
       "    <tr>\n",
       "      <th>4</th>\n",
       "      <td>Pixel Draw - Number Art Coloring Book</td>\n",
       "      <td>ART_AND_DESIGN</td>\n",
       "      <td>4.3</td>\n",
       "      <td>967</td>\n",
       "      <td>2800.0</td>\n",
       "      <td>100,000+</td>\n",
       "      <td>Free</td>\n",
       "      <td>0</td>\n",
       "      <td>Everyone</td>\n",
       "      <td>Art &amp; Design;Creativity</td>\n",
       "      <td>June 20, 2018</td>\n",
       "      <td>1.1</td>\n",
       "      <td>4.4 and up</td>\n",
       "    </tr>\n",
       "  </tbody>\n",
       "</table>\n",
       "</div>"
      ],
      "text/plain": [
       "                                                 App        Category  Rating  \\\n",
       "0     Photo Editor & Candy Camera & Grid & ScrapBook  ART_AND_DESIGN     4.1   \n",
       "1                                Coloring book moana  ART_AND_DESIGN     3.9   \n",
       "2  U Launcher Lite – FREE Live Cool Themes, Hide ...  ART_AND_DESIGN     4.7   \n",
       "3                              Sketch - Draw & Paint  ART_AND_DESIGN     4.5   \n",
       "4              Pixel Draw - Number Art Coloring Book  ART_AND_DESIGN     4.3   \n",
       "\n",
       "  Reviews     Size     Installs  Type Price Content Rating  \\\n",
       "0     159  19000.0      10,000+  Free     0       Everyone   \n",
       "1     967  14000.0     500,000+  Free     0       Everyone   \n",
       "2   87510   8700.0   5,000,000+  Free     0       Everyone   \n",
       "3  215644  25000.0  50,000,000+  Free     0           Teen   \n",
       "4     967   2800.0     100,000+  Free     0       Everyone   \n",
       "\n",
       "                      Genres      Last Updated         Current Ver  \\\n",
       "0               Art & Design   January 7, 2018               1.0.0   \n",
       "1  Art & Design;Pretend Play  January 15, 2018               2.0.0   \n",
       "2               Art & Design    August 1, 2018               1.2.4   \n",
       "3               Art & Design      June 8, 2018  Varies with device   \n",
       "4    Art & Design;Creativity     June 20, 2018                 1.1   \n",
       "\n",
       "    Android Ver  \n",
       "0  4.0.3 and up  \n",
       "1  4.0.3 and up  \n",
       "2  4.0.3 and up  \n",
       "3    4.2 and up  \n",
       "4    4.4 and up  "
      ]
     },
     "execution_count": 14,
     "metadata": {},
     "output_type": "execute_result"
    }
   ],
   "source": [
    "df.head() "
   ]
  },
  {
   "cell_type": "markdown",
   "id": "ab42a6f3",
   "metadata": {},
   "source": [
    "# 1. Data clean up – Missing value treatment\n"
   ]
  },
  {
   "cell_type": "code",
   "execution_count": 18,
   "id": "5690c1d8",
   "metadata": {},
   "outputs": [],
   "source": [
    "df.dropna(how='any', subset=['Rating'], axis=0, inplace = True)"
   ]
  },
  {
   "cell_type": "code",
   "execution_count": 19,
   "id": "daa3bba2",
   "metadata": {},
   "outputs": [
    {
     "data": {
      "text/plain": [
       "0"
      ]
     },
     "execution_count": 19,
     "metadata": {},
     "output_type": "execute_result"
    }
   ],
   "source": [
    "df.Rating.isnull().sum()"
   ]
  },
  {
   "cell_type": "markdown",
   "id": "b484c7b7",
   "metadata": {},
   "source": [
    "b. Check the null values for the Android Ver column.\n",
    "\n",
    "i. Are all 3 records having the same problem?"
   ]
  },
  {
   "cell_type": "code",
   "execution_count": 20,
   "id": "5dbec2c7",
   "metadata": {},
   "outputs": [
    {
     "data": {
      "text/html": [
       "<div>\n",
       "<style scoped>\n",
       "    .dataframe tbody tr th:only-of-type {\n",
       "        vertical-align: middle;\n",
       "    }\n",
       "\n",
       "    .dataframe tbody tr th {\n",
       "        vertical-align: top;\n",
       "    }\n",
       "\n",
       "    .dataframe thead th {\n",
       "        text-align: right;\n",
       "    }\n",
       "</style>\n",
       "<table border=\"1\" class=\"dataframe\">\n",
       "  <thead>\n",
       "    <tr style=\"text-align: right;\">\n",
       "      <th></th>\n",
       "      <th>App</th>\n",
       "      <th>Category</th>\n",
       "      <th>Rating</th>\n",
       "      <th>Reviews</th>\n",
       "      <th>Size</th>\n",
       "      <th>Installs</th>\n",
       "      <th>Type</th>\n",
       "      <th>Price</th>\n",
       "      <th>Content Rating</th>\n",
       "      <th>Genres</th>\n",
       "      <th>Last Updated</th>\n",
       "      <th>Current Ver</th>\n",
       "      <th>Android Ver</th>\n",
       "    </tr>\n",
       "  </thead>\n",
       "  <tbody>\n",
       "    <tr>\n",
       "      <th>4453</th>\n",
       "      <td>[substratum] Vacuum: P</td>\n",
       "      <td>PERSONALIZATION</td>\n",
       "      <td>4.4</td>\n",
       "      <td>230</td>\n",
       "      <td>11000.000000</td>\n",
       "      <td>1,000+</td>\n",
       "      <td>Paid</td>\n",
       "      <td>$1.49</td>\n",
       "      <td>Everyone</td>\n",
       "      <td>Personalization</td>\n",
       "      <td>July 20, 2018</td>\n",
       "      <td>4.4</td>\n",
       "      <td>NaN</td>\n",
       "    </tr>\n",
       "    <tr>\n",
       "      <th>4490</th>\n",
       "      <td>Pi Dark [substratum]</td>\n",
       "      <td>PERSONALIZATION</td>\n",
       "      <td>4.5</td>\n",
       "      <td>189</td>\n",
       "      <td>2100.000000</td>\n",
       "      <td>10,000+</td>\n",
       "      <td>Free</td>\n",
       "      <td>0</td>\n",
       "      <td>Everyone</td>\n",
       "      <td>Personalization</td>\n",
       "      <td>March 27, 2018</td>\n",
       "      <td>1.1</td>\n",
       "      <td>NaN</td>\n",
       "    </tr>\n",
       "    <tr>\n",
       "      <th>10472</th>\n",
       "      <td>Life Made WI-Fi Touchscreen Photo Frame</td>\n",
       "      <td>1.9</td>\n",
       "      <td>19.0</td>\n",
       "      <td>3.0M</td>\n",
       "      <td>21516.529524</td>\n",
       "      <td>Free</td>\n",
       "      <td>0</td>\n",
       "      <td>Everyone</td>\n",
       "      <td>NaN</td>\n",
       "      <td>February 11, 2018</td>\n",
       "      <td>1.0.19</td>\n",
       "      <td>4.0 and up</td>\n",
       "      <td>NaN</td>\n",
       "    </tr>\n",
       "  </tbody>\n",
       "</table>\n",
       "</div>"
      ],
      "text/plain": [
       "                                           App         Category  Rating  \\\n",
       "4453                    [substratum] Vacuum: P  PERSONALIZATION     4.4   \n",
       "4490                      Pi Dark [substratum]  PERSONALIZATION     4.5   \n",
       "10472  Life Made WI-Fi Touchscreen Photo Frame              1.9    19.0   \n",
       "\n",
       "      Reviews          Size Installs  Type     Price Content Rating  \\\n",
       "4453      230  11000.000000   1,000+  Paid     $1.49       Everyone   \n",
       "4490      189   2100.000000  10,000+  Free         0       Everyone   \n",
       "10472    3.0M  21516.529524     Free     0  Everyone            NaN   \n",
       "\n",
       "                  Genres    Last Updated Current Ver Android Ver  \n",
       "4453     Personalization   July 20, 2018         4.4         NaN  \n",
       "4490     Personalization  March 27, 2018         1.1         NaN  \n",
       "10472  February 11, 2018          1.0.19  4.0 and up         NaN  "
      ]
     },
     "execution_count": 20,
     "metadata": {},
     "output_type": "execute_result"
    }
   ],
   "source": [
    "df.loc[df['Android Ver'].isnull()]"
   ]
  },
  {
   "cell_type": "markdown",
   "id": "0539193a",
   "metadata": {},
   "source": [
    "ii. Drop the 3rd record i.e. record for “Life Made WIFI …”"
   ]
  },
  {
   "cell_type": "code",
   "execution_count": 21,
   "id": "24abf39a",
   "metadata": {},
   "outputs": [],
   "source": [
    "df.drop([10472], inplace = True)"
   ]
  },
  {
   "cell_type": "code",
   "execution_count": 22,
   "id": "d6845aa7",
   "metadata": {},
   "outputs": [
    {
     "data": {
      "text/html": [
       "<div>\n",
       "<style scoped>\n",
       "    .dataframe tbody tr th:only-of-type {\n",
       "        vertical-align: middle;\n",
       "    }\n",
       "\n",
       "    .dataframe tbody tr th {\n",
       "        vertical-align: top;\n",
       "    }\n",
       "\n",
       "    .dataframe thead th {\n",
       "        text-align: right;\n",
       "    }\n",
       "</style>\n",
       "<table border=\"1\" class=\"dataframe\">\n",
       "  <thead>\n",
       "    <tr style=\"text-align: right;\">\n",
       "      <th></th>\n",
       "      <th>App</th>\n",
       "      <th>Category</th>\n",
       "      <th>Rating</th>\n",
       "      <th>Reviews</th>\n",
       "      <th>Size</th>\n",
       "      <th>Installs</th>\n",
       "      <th>Type</th>\n",
       "      <th>Price</th>\n",
       "      <th>Content Rating</th>\n",
       "      <th>Genres</th>\n",
       "      <th>Last Updated</th>\n",
       "      <th>Current Ver</th>\n",
       "      <th>Android Ver</th>\n",
       "    </tr>\n",
       "  </thead>\n",
       "  <tbody>\n",
       "    <tr>\n",
       "      <th>4453</th>\n",
       "      <td>[substratum] Vacuum: P</td>\n",
       "      <td>PERSONALIZATION</td>\n",
       "      <td>4.4</td>\n",
       "      <td>230</td>\n",
       "      <td>11000.0</td>\n",
       "      <td>1,000+</td>\n",
       "      <td>Paid</td>\n",
       "      <td>$1.49</td>\n",
       "      <td>Everyone</td>\n",
       "      <td>Personalization</td>\n",
       "      <td>July 20, 2018</td>\n",
       "      <td>4.4</td>\n",
       "      <td>NaN</td>\n",
       "    </tr>\n",
       "    <tr>\n",
       "      <th>4490</th>\n",
       "      <td>Pi Dark [substratum]</td>\n",
       "      <td>PERSONALIZATION</td>\n",
       "      <td>4.5</td>\n",
       "      <td>189</td>\n",
       "      <td>2100.0</td>\n",
       "      <td>10,000+</td>\n",
       "      <td>Free</td>\n",
       "      <td>0</td>\n",
       "      <td>Everyone</td>\n",
       "      <td>Personalization</td>\n",
       "      <td>March 27, 2018</td>\n",
       "      <td>1.1</td>\n",
       "      <td>NaN</td>\n",
       "    </tr>\n",
       "  </tbody>\n",
       "</table>\n",
       "</div>"
      ],
      "text/plain": [
       "                         App         Category  Rating Reviews     Size  \\\n",
       "4453  [substratum] Vacuum: P  PERSONALIZATION     4.4     230  11000.0   \n",
       "4490    Pi Dark [substratum]  PERSONALIZATION     4.5     189   2100.0   \n",
       "\n",
       "     Installs  Type  Price Content Rating           Genres    Last Updated  \\\n",
       "4453   1,000+  Paid  $1.49       Everyone  Personalization   July 20, 2018   \n",
       "4490  10,000+  Free      0       Everyone  Personalization  March 27, 2018   \n",
       "\n",
       "     Current Ver Android Ver  \n",
       "4453         4.4         NaN  \n",
       "4490         1.1         NaN  "
      ]
     },
     "execution_count": 22,
     "metadata": {},
     "output_type": "execute_result"
    }
   ],
   "source": [
    "df.loc[df['Android Ver'].isnull()]"
   ]
  },
  {
   "cell_type": "markdown",
   "id": "d2776b67",
   "metadata": {},
   "source": [
    "iii. Replace remaining missing values with the mode"
   ]
  },
  {
   "cell_type": "code",
   "execution_count": 23,
   "id": "1dfa9562",
   "metadata": {},
   "outputs": [],
   "source": [
    "df['Android Ver'].fillna(df['Android Ver'].mode()[0], inplace=True)"
   ]
  },
  {
   "cell_type": "markdown",
   "id": "e70c8b2e",
   "metadata": {},
   "source": [
    "c. Current ver – replace with most common value"
   ]
  },
  {
   "cell_type": "code",
   "execution_count": 25,
   "id": "f11b377a",
   "metadata": {},
   "outputs": [],
   "source": [
    "df['Current Ver'].fillna(df['Current Ver'].mode()[0], inplace=True)"
   ]
  },
  {
   "cell_type": "markdown",
   "id": "e509f127",
   "metadata": {},
   "source": [
    "# 2. Data clean up – correcting the data types\n",
    "\n",
    "a. Which all variables need to be brought to numeric types?"
   ]
  },
  {
   "cell_type": "markdown",
   "id": "6c9f31b7",
   "metadata": {},
   "source": [
    "Reviews and installs need to be brought to numeric types."
   ]
  },
  {
   "cell_type": "markdown",
   "id": "b8d20aba",
   "metadata": {},
   "source": [
    "b. Price variable – remove $ sign and convert to float"
   ]
  },
  {
   "cell_type": "code",
   "execution_count": 26,
   "id": "fca08dc4",
   "metadata": {},
   "outputs": [],
   "source": [
    "price = []\n",
    "for i in df['Price']:\n",
    "    if i[0]=='$':\n",
    "        price.append(i[1:])\n",
    "    else:\n",
    "        price.append(i)"
   ]
  },
  {
   "cell_type": "code",
   "execution_count": 27,
   "id": "0864396c",
   "metadata": {},
   "outputs": [],
   "source": [
    "df.drop(labels=df[df['Price']=='Everyone'].index, inplace = True)\n",
    "df['Price']= price\n",
    "df['Price']= df['Price'].astype('float')"
   ]
  },
  {
   "cell_type": "markdown",
   "id": "e34d1201",
   "metadata": {},
   "source": [
    "c. Installs – remove ‘,’ and ‘+’ sign, convert to integer"
   ]
  },
  {
   "cell_type": "code",
   "execution_count": 28,
   "id": "183382f1",
   "metadata": {},
   "outputs": [],
   "source": [
    "install = []\n",
    "for j in df['Installs']:\n",
    "    install.append(j.replace(',','').replace('+','').strip())\n",
    "\n",
    "df['Installs']= install\n",
    "df['Installs']= df['Installs'].astype('int')"
   ]
  },
  {
   "cell_type": "markdown",
   "id": "ccfe42f0",
   "metadata": {},
   "source": [
    "d. Convert all other identified columns to numeric"
   ]
  },
  {
   "cell_type": "code",
   "execution_count": 29,
   "id": "022163a4",
   "metadata": {},
   "outputs": [],
   "source": [
    "df['Reviews']= df['Reviews'].astype('int')"
   ]
  },
  {
   "cell_type": "markdown",
   "id": "260f8e3e",
   "metadata": {},
   "source": [
    "# 3. Sanity checks – check for the following and handle accordingly\n",
    "\n",
    "a. Avg. rating should be between 1 and 5, as only these values are allowed on the play\n",
    "store.\n",
    "\n",
    "i. Are there any such records? Drop if so."
   ]
  },
  {
   "cell_type": "code",
   "execution_count": 30,
   "id": "df2c15d1",
   "metadata": {},
   "outputs": [
    {
     "data": {
      "text/html": [
       "<div>\n",
       "<style scoped>\n",
       "    .dataframe tbody tr th:only-of-type {\n",
       "        vertical-align: middle;\n",
       "    }\n",
       "\n",
       "    .dataframe tbody tr th {\n",
       "        vertical-align: top;\n",
       "    }\n",
       "\n",
       "    .dataframe thead th {\n",
       "        text-align: right;\n",
       "    }\n",
       "</style>\n",
       "<table border=\"1\" class=\"dataframe\">\n",
       "  <thead>\n",
       "    <tr style=\"text-align: right;\">\n",
       "      <th></th>\n",
       "      <th>App</th>\n",
       "      <th>Category</th>\n",
       "      <th>Rating</th>\n",
       "      <th>Reviews</th>\n",
       "      <th>Size</th>\n",
       "      <th>Installs</th>\n",
       "      <th>Type</th>\n",
       "      <th>Price</th>\n",
       "      <th>Content Rating</th>\n",
       "      <th>Genres</th>\n",
       "      <th>Last Updated</th>\n",
       "      <th>Current Ver</th>\n",
       "      <th>Android Ver</th>\n",
       "    </tr>\n",
       "  </thead>\n",
       "  <tbody>\n",
       "  </tbody>\n",
       "</table>\n",
       "</div>"
      ],
      "text/plain": [
       "Empty DataFrame\n",
       "Columns: [App, Category, Rating, Reviews, Size, Installs, Type, Price, Content Rating, Genres, Last Updated, Current Ver, Android Ver]\n",
       "Index: []"
      ]
     },
     "execution_count": 30,
     "metadata": {},
     "output_type": "execute_result"
    }
   ],
   "source": [
    "df.loc[df.Rating < 1] & df.loc[df.Rating > 5]"
   ]
  },
  {
   "cell_type": "markdown",
   "id": "c4090330",
   "metadata": {},
   "source": [
    "There are no such records with rating less than 1 or greater than 5."
   ]
  },
  {
   "cell_type": "markdown",
   "id": "258ad119",
   "metadata": {},
   "source": [
    "b. Reviews should not be more than installs as only those who installed can review the\n",
    "app.\n",
    "\n",
    "i. Are there any such records? Drop if so."
   ]
  },
  {
   "cell_type": "markdown",
   "id": "f393bd49",
   "metadata": {},
   "source": [
    "Yes, there are 7 records where Review is greater than Installs."
   ]
  },
  {
   "cell_type": "code",
   "execution_count": 31,
   "id": "bf3a583f",
   "metadata": {},
   "outputs": [
    {
     "data": {
      "text/html": [
       "<div>\n",
       "<style scoped>\n",
       "    .dataframe tbody tr th:only-of-type {\n",
       "        vertical-align: middle;\n",
       "    }\n",
       "\n",
       "    .dataframe tbody tr th {\n",
       "        vertical-align: top;\n",
       "    }\n",
       "\n",
       "    .dataframe thead th {\n",
       "        text-align: right;\n",
       "    }\n",
       "</style>\n",
       "<table border=\"1\" class=\"dataframe\">\n",
       "  <thead>\n",
       "    <tr style=\"text-align: right;\">\n",
       "      <th></th>\n",
       "      <th>App</th>\n",
       "      <th>Category</th>\n",
       "      <th>Rating</th>\n",
       "      <th>Reviews</th>\n",
       "      <th>Size</th>\n",
       "      <th>Installs</th>\n",
       "      <th>Type</th>\n",
       "      <th>Price</th>\n",
       "      <th>Content Rating</th>\n",
       "      <th>Genres</th>\n",
       "      <th>Last Updated</th>\n",
       "      <th>Current Ver</th>\n",
       "      <th>Android Ver</th>\n",
       "    </tr>\n",
       "  </thead>\n",
       "  <tbody>\n",
       "    <tr>\n",
       "      <th>2454</th>\n",
       "      <td>KBA-EZ Health Guide</td>\n",
       "      <td>MEDICAL</td>\n",
       "      <td>5.0</td>\n",
       "      <td>4</td>\n",
       "      <td>25000.000000</td>\n",
       "      <td>1</td>\n",
       "      <td>Free</td>\n",
       "      <td>0.00</td>\n",
       "      <td>Everyone</td>\n",
       "      <td>Medical</td>\n",
       "      <td>August 2, 2018</td>\n",
       "      <td>1.0.72</td>\n",
       "      <td>4.0.3 and up</td>\n",
       "    </tr>\n",
       "    <tr>\n",
       "      <th>4663</th>\n",
       "      <td>Alarmy (Sleep If U Can) - Pro</td>\n",
       "      <td>LIFESTYLE</td>\n",
       "      <td>4.8</td>\n",
       "      <td>10249</td>\n",
       "      <td>21516.529524</td>\n",
       "      <td>10000</td>\n",
       "      <td>Paid</td>\n",
       "      <td>2.49</td>\n",
       "      <td>Everyone</td>\n",
       "      <td>Lifestyle</td>\n",
       "      <td>July 30, 2018</td>\n",
       "      <td>Varies with device</td>\n",
       "      <td>Varies with device</td>\n",
       "    </tr>\n",
       "    <tr>\n",
       "      <th>5917</th>\n",
       "      <td>Ra Ga Ba</td>\n",
       "      <td>GAME</td>\n",
       "      <td>5.0</td>\n",
       "      <td>2</td>\n",
       "      <td>20000.000000</td>\n",
       "      <td>1</td>\n",
       "      <td>Paid</td>\n",
       "      <td>1.49</td>\n",
       "      <td>Everyone</td>\n",
       "      <td>Arcade</td>\n",
       "      <td>February 8, 2017</td>\n",
       "      <td>1.0.4</td>\n",
       "      <td>2.3 and up</td>\n",
       "    </tr>\n",
       "    <tr>\n",
       "      <th>6700</th>\n",
       "      <td>Brick Breaker BR</td>\n",
       "      <td>GAME</td>\n",
       "      <td>5.0</td>\n",
       "      <td>7</td>\n",
       "      <td>19000.000000</td>\n",
       "      <td>5</td>\n",
       "      <td>Free</td>\n",
       "      <td>0.00</td>\n",
       "      <td>Everyone</td>\n",
       "      <td>Arcade</td>\n",
       "      <td>July 23, 2018</td>\n",
       "      <td>1.0</td>\n",
       "      <td>4.1 and up</td>\n",
       "    </tr>\n",
       "    <tr>\n",
       "      <th>7402</th>\n",
       "      <td>Trovami se ci riesci</td>\n",
       "      <td>GAME</td>\n",
       "      <td>5.0</td>\n",
       "      <td>11</td>\n",
       "      <td>6100.000000</td>\n",
       "      <td>10</td>\n",
       "      <td>Free</td>\n",
       "      <td>0.00</td>\n",
       "      <td>Everyone</td>\n",
       "      <td>Arcade</td>\n",
       "      <td>March 11, 2017</td>\n",
       "      <td>0.1</td>\n",
       "      <td>2.3 and up</td>\n",
       "    </tr>\n",
       "    <tr>\n",
       "      <th>8591</th>\n",
       "      <td>DN Blog</td>\n",
       "      <td>SOCIAL</td>\n",
       "      <td>5.0</td>\n",
       "      <td>20</td>\n",
       "      <td>4200.000000</td>\n",
       "      <td>10</td>\n",
       "      <td>Free</td>\n",
       "      <td>0.00</td>\n",
       "      <td>Teen</td>\n",
       "      <td>Social</td>\n",
       "      <td>July 23, 2018</td>\n",
       "      <td>1.0</td>\n",
       "      <td>4.0 and up</td>\n",
       "    </tr>\n",
       "    <tr>\n",
       "      <th>10697</th>\n",
       "      <td>Mu.F.O.</td>\n",
       "      <td>GAME</td>\n",
       "      <td>5.0</td>\n",
       "      <td>2</td>\n",
       "      <td>16000.000000</td>\n",
       "      <td>1</td>\n",
       "      <td>Paid</td>\n",
       "      <td>0.99</td>\n",
       "      <td>Everyone</td>\n",
       "      <td>Arcade</td>\n",
       "      <td>March 3, 2017</td>\n",
       "      <td>1.0</td>\n",
       "      <td>2.3 and up</td>\n",
       "    </tr>\n",
       "  </tbody>\n",
       "</table>\n",
       "</div>"
      ],
      "text/plain": [
       "                                 App   Category  Rating  Reviews  \\\n",
       "2454             KBA-EZ Health Guide    MEDICAL     5.0        4   \n",
       "4663   Alarmy (Sleep If U Can) - Pro  LIFESTYLE     4.8    10249   \n",
       "5917                        Ra Ga Ba       GAME     5.0        2   \n",
       "6700                Brick Breaker BR       GAME     5.0        7   \n",
       "7402            Trovami se ci riesci       GAME     5.0       11   \n",
       "8591                         DN Blog     SOCIAL     5.0       20   \n",
       "10697                        Mu.F.O.       GAME     5.0        2   \n",
       "\n",
       "               Size  Installs  Type  Price Content Rating     Genres  \\\n",
       "2454   25000.000000         1  Free   0.00       Everyone    Medical   \n",
       "4663   21516.529524     10000  Paid   2.49       Everyone  Lifestyle   \n",
       "5917   20000.000000         1  Paid   1.49       Everyone     Arcade   \n",
       "6700   19000.000000         5  Free   0.00       Everyone     Arcade   \n",
       "7402    6100.000000        10  Free   0.00       Everyone     Arcade   \n",
       "8591    4200.000000        10  Free   0.00           Teen     Social   \n",
       "10697  16000.000000         1  Paid   0.99       Everyone     Arcade   \n",
       "\n",
       "           Last Updated         Current Ver         Android Ver  \n",
       "2454     August 2, 2018              1.0.72        4.0.3 and up  \n",
       "4663      July 30, 2018  Varies with device  Varies with device  \n",
       "5917   February 8, 2017               1.0.4          2.3 and up  \n",
       "6700      July 23, 2018                 1.0          4.1 and up  \n",
       "7402     March 11, 2017                 0.1          2.3 and up  \n",
       "8591      July 23, 2018                 1.0          4.0 and up  \n",
       "10697     March 3, 2017                 1.0          2.3 and up  "
      ]
     },
     "execution_count": 31,
     "metadata": {},
     "output_type": "execute_result"
    }
   ],
   "source": [
    "df.loc[df['Reviews'] > df['Installs']]"
   ]
  },
  {
   "cell_type": "code",
   "execution_count": 32,
   "id": "d7720770",
   "metadata": {},
   "outputs": [],
   "source": [
    "temp = df[df['Reviews']>df['Installs']].index\n",
    "df.drop(labels=temp, inplace=True)"
   ]
  },
  {
   "cell_type": "code",
   "execution_count": 33,
   "id": "f2e6c866",
   "metadata": {},
   "outputs": [
    {
     "data": {
      "text/html": [
       "<div>\n",
       "<style scoped>\n",
       "    .dataframe tbody tr th:only-of-type {\n",
       "        vertical-align: middle;\n",
       "    }\n",
       "\n",
       "    .dataframe tbody tr th {\n",
       "        vertical-align: top;\n",
       "    }\n",
       "\n",
       "    .dataframe thead th {\n",
       "        text-align: right;\n",
       "    }\n",
       "</style>\n",
       "<table border=\"1\" class=\"dataframe\">\n",
       "  <thead>\n",
       "    <tr style=\"text-align: right;\">\n",
       "      <th></th>\n",
       "      <th>App</th>\n",
       "      <th>Category</th>\n",
       "      <th>Rating</th>\n",
       "      <th>Reviews</th>\n",
       "      <th>Size</th>\n",
       "      <th>Installs</th>\n",
       "      <th>Type</th>\n",
       "      <th>Price</th>\n",
       "      <th>Content Rating</th>\n",
       "      <th>Genres</th>\n",
       "      <th>Last Updated</th>\n",
       "      <th>Current Ver</th>\n",
       "      <th>Android Ver</th>\n",
       "    </tr>\n",
       "  </thead>\n",
       "  <tbody>\n",
       "  </tbody>\n",
       "</table>\n",
       "</div>"
      ],
      "text/plain": [
       "Empty DataFrame\n",
       "Columns: [App, Category, Rating, Reviews, Size, Installs, Type, Price, Content Rating, Genres, Last Updated, Current Ver, Android Ver]\n",
       "Index: []"
      ]
     },
     "execution_count": 33,
     "metadata": {},
     "output_type": "execute_result"
    }
   ],
   "source": [
    "df.loc[df['Reviews'] > df['Installs']]"
   ]
  },
  {
   "cell_type": "markdown",
   "id": "e8efa531",
   "metadata": {},
   "source": [
    "# 4. Identify and handle outliers –\n",
    "\n",
    "a. Price column\n",
    "\n",
    "i. Make suitable plot to identify outliers in price"
   ]
  },
  {
   "cell_type": "code",
   "execution_count": 34,
   "id": "627226ae",
   "metadata": {},
   "outputs": [
    {
     "data": {
      "image/png": "[encoded data removed]",
      "text/plain": [
       "<Figure size 432x288 with 1 Axes>"
      ]
     },
     "metadata": {
      "needs_background": "light"
     },
     "output_type": "display_data"
    }
   ],
   "source": [
    "plt.boxplot(df['Price'])\n",
    "plt.show()"
   ]
  },
  {
   "cell_type": "markdown",
   "id": "83632875",
   "metadata": {},
   "source": [
    "ii. Do you expect apps on the play store to cost $200? Check out these cases"
   ]
  },
  {
   "cell_type": "code",
   "execution_count": 35,
   "id": "2b9a0ba2",
   "metadata": {},
   "outputs": [
    {
     "name": "stdout",
     "output_type": "stream",
     "text": [
      "Yes we can expect apps on the play store to cost $200\n"
     ]
    },
    {
     "data": {
      "text/html": [
       "<div>\n",
       "<style scoped>\n",
       "    .dataframe tbody tr th:only-of-type {\n",
       "        vertical-align: middle;\n",
       "    }\n",
       "\n",
       "    .dataframe tbody tr th {\n",
       "        vertical-align: top;\n",
       "    }\n",
       "\n",
       "    .dataframe thead th {\n",
       "        text-align: right;\n",
       "    }\n",
       "</style>\n",
       "<table border=\"1\" class=\"dataframe\">\n",
       "  <thead>\n",
       "    <tr style=\"text-align: right;\">\n",
       "      <th></th>\n",
       "      <th>App</th>\n",
       "      <th>Category</th>\n",
       "      <th>Rating</th>\n",
       "      <th>Reviews</th>\n",
       "      <th>Size</th>\n",
       "      <th>Installs</th>\n",
       "      <th>Type</th>\n",
       "      <th>Price</th>\n",
       "      <th>Content Rating</th>\n",
       "      <th>Genres</th>\n",
       "      <th>Last Updated</th>\n",
       "      <th>Current Ver</th>\n",
       "      <th>Android Ver</th>\n",
       "    </tr>\n",
       "  </thead>\n",
       "  <tbody>\n",
       "    <tr>\n",
       "      <th>4197</th>\n",
       "      <td>most expensive app (H)</td>\n",
       "      <td>FAMILY</td>\n",
       "      <td>4.3</td>\n",
       "      <td>6</td>\n",
       "      <td>1500.0</td>\n",
       "      <td>100</td>\n",
       "      <td>Paid</td>\n",
       "      <td>399.99</td>\n",
       "      <td>Everyone</td>\n",
       "      <td>Entertainment</td>\n",
       "      <td>July 16, 2018</td>\n",
       "      <td>1.0</td>\n",
       "      <td>7.0 and up</td>\n",
       "    </tr>\n",
       "    <tr>\n",
       "      <th>4362</th>\n",
       "      <td>💎 I'm rich</td>\n",
       "      <td>LIFESTYLE</td>\n",
       "      <td>3.8</td>\n",
       "      <td>718</td>\n",
       "      <td>26000.0</td>\n",
       "      <td>10000</td>\n",
       "      <td>Paid</td>\n",
       "      <td>399.99</td>\n",
       "      <td>Everyone</td>\n",
       "      <td>Lifestyle</td>\n",
       "      <td>March 11, 2018</td>\n",
       "      <td>1.0.0</td>\n",
       "      <td>4.4 and up</td>\n",
       "    </tr>\n",
       "    <tr>\n",
       "      <th>4367</th>\n",
       "      <td>I'm Rich - Trump Edition</td>\n",
       "      <td>LIFESTYLE</td>\n",
       "      <td>3.6</td>\n",
       "      <td>275</td>\n",
       "      <td>7300.0</td>\n",
       "      <td>10000</td>\n",
       "      <td>Paid</td>\n",
       "      <td>400.00</td>\n",
       "      <td>Everyone</td>\n",
       "      <td>Lifestyle</td>\n",
       "      <td>May 3, 2018</td>\n",
       "      <td>1.0.1</td>\n",
       "      <td>4.1 and up</td>\n",
       "    </tr>\n",
       "    <tr>\n",
       "      <th>5351</th>\n",
       "      <td>I am rich</td>\n",
       "      <td>LIFESTYLE</td>\n",
       "      <td>3.8</td>\n",
       "      <td>3547</td>\n",
       "      <td>1800.0</td>\n",
       "      <td>100000</td>\n",
       "      <td>Paid</td>\n",
       "      <td>399.99</td>\n",
       "      <td>Everyone</td>\n",
       "      <td>Lifestyle</td>\n",
       "      <td>January 12, 2018</td>\n",
       "      <td>2.0</td>\n",
       "      <td>4.0.3 and up</td>\n",
       "    </tr>\n",
       "    <tr>\n",
       "      <th>5354</th>\n",
       "      <td>I am Rich Plus</td>\n",
       "      <td>FAMILY</td>\n",
       "      <td>4.0</td>\n",
       "      <td>856</td>\n",
       "      <td>8700.0</td>\n",
       "      <td>10000</td>\n",
       "      <td>Paid</td>\n",
       "      <td>399.99</td>\n",
       "      <td>Everyone</td>\n",
       "      <td>Entertainment</td>\n",
       "      <td>May 19, 2018</td>\n",
       "      <td>3.0</td>\n",
       "      <td>4.4 and up</td>\n",
       "    </tr>\n",
       "    <tr>\n",
       "      <th>5355</th>\n",
       "      <td>I am rich VIP</td>\n",
       "      <td>LIFESTYLE</td>\n",
       "      <td>3.8</td>\n",
       "      <td>411</td>\n",
       "      <td>2600.0</td>\n",
       "      <td>10000</td>\n",
       "      <td>Paid</td>\n",
       "      <td>299.99</td>\n",
       "      <td>Everyone</td>\n",
       "      <td>Lifestyle</td>\n",
       "      <td>July 21, 2018</td>\n",
       "      <td>1.1.1</td>\n",
       "      <td>4.3 and up</td>\n",
       "    </tr>\n",
       "    <tr>\n",
       "      <th>5356</th>\n",
       "      <td>I Am Rich Premium</td>\n",
       "      <td>FINANCE</td>\n",
       "      <td>4.1</td>\n",
       "      <td>1867</td>\n",
       "      <td>4700.0</td>\n",
       "      <td>50000</td>\n",
       "      <td>Paid</td>\n",
       "      <td>399.99</td>\n",
       "      <td>Everyone</td>\n",
       "      <td>Finance</td>\n",
       "      <td>November 12, 2017</td>\n",
       "      <td>1.6</td>\n",
       "      <td>4.0 and up</td>\n",
       "    </tr>\n",
       "    <tr>\n",
       "      <th>5357</th>\n",
       "      <td>I am extremely Rich</td>\n",
       "      <td>LIFESTYLE</td>\n",
       "      <td>2.9</td>\n",
       "      <td>41</td>\n",
       "      <td>2900.0</td>\n",
       "      <td>1000</td>\n",
       "      <td>Paid</td>\n",
       "      <td>379.99</td>\n",
       "      <td>Everyone</td>\n",
       "      <td>Lifestyle</td>\n",
       "      <td>July 1, 2018</td>\n",
       "      <td>1.0</td>\n",
       "      <td>4.0 and up</td>\n",
       "    </tr>\n",
       "    <tr>\n",
       "      <th>5358</th>\n",
       "      <td>I am Rich!</td>\n",
       "      <td>FINANCE</td>\n",
       "      <td>3.8</td>\n",
       "      <td>93</td>\n",
       "      <td>22000.0</td>\n",
       "      <td>1000</td>\n",
       "      <td>Paid</td>\n",
       "      <td>399.99</td>\n",
       "      <td>Everyone</td>\n",
       "      <td>Finance</td>\n",
       "      <td>December 11, 2017</td>\n",
       "      <td>1.0</td>\n",
       "      <td>4.1 and up</td>\n",
       "    </tr>\n",
       "    <tr>\n",
       "      <th>5359</th>\n",
       "      <td>I am rich(premium)</td>\n",
       "      <td>FINANCE</td>\n",
       "      <td>3.5</td>\n",
       "      <td>472</td>\n",
       "      <td>965.0</td>\n",
       "      <td>5000</td>\n",
       "      <td>Paid</td>\n",
       "      <td>399.99</td>\n",
       "      <td>Everyone</td>\n",
       "      <td>Finance</td>\n",
       "      <td>May 1, 2017</td>\n",
       "      <td>3.4</td>\n",
       "      <td>4.4 and up</td>\n",
       "    </tr>\n",
       "    <tr>\n",
       "      <th>5362</th>\n",
       "      <td>I Am Rich Pro</td>\n",
       "      <td>FAMILY</td>\n",
       "      <td>4.4</td>\n",
       "      <td>201</td>\n",
       "      <td>2700.0</td>\n",
       "      <td>5000</td>\n",
       "      <td>Paid</td>\n",
       "      <td>399.99</td>\n",
       "      <td>Everyone</td>\n",
       "      <td>Entertainment</td>\n",
       "      <td>May 30, 2017</td>\n",
       "      <td>1.54</td>\n",
       "      <td>1.6 and up</td>\n",
       "    </tr>\n",
       "    <tr>\n",
       "      <th>5364</th>\n",
       "      <td>I am rich (Most expensive app)</td>\n",
       "      <td>FINANCE</td>\n",
       "      <td>4.1</td>\n",
       "      <td>129</td>\n",
       "      <td>2700.0</td>\n",
       "      <td>1000</td>\n",
       "      <td>Paid</td>\n",
       "      <td>399.99</td>\n",
       "      <td>Teen</td>\n",
       "      <td>Finance</td>\n",
       "      <td>December 6, 2017</td>\n",
       "      <td>2</td>\n",
       "      <td>4.0.3 and up</td>\n",
       "    </tr>\n",
       "    <tr>\n",
       "      <th>5366</th>\n",
       "      <td>I Am Rich</td>\n",
       "      <td>FAMILY</td>\n",
       "      <td>3.6</td>\n",
       "      <td>217</td>\n",
       "      <td>4900.0</td>\n",
       "      <td>10000</td>\n",
       "      <td>Paid</td>\n",
       "      <td>389.99</td>\n",
       "      <td>Everyone</td>\n",
       "      <td>Entertainment</td>\n",
       "      <td>June 22, 2018</td>\n",
       "      <td>1.5</td>\n",
       "      <td>4.2 and up</td>\n",
       "    </tr>\n",
       "    <tr>\n",
       "      <th>5369</th>\n",
       "      <td>I am Rich</td>\n",
       "      <td>FINANCE</td>\n",
       "      <td>4.3</td>\n",
       "      <td>180</td>\n",
       "      <td>3800.0</td>\n",
       "      <td>5000</td>\n",
       "      <td>Paid</td>\n",
       "      <td>399.99</td>\n",
       "      <td>Everyone</td>\n",
       "      <td>Finance</td>\n",
       "      <td>March 22, 2018</td>\n",
       "      <td>1.0</td>\n",
       "      <td>4.2 and up</td>\n",
       "    </tr>\n",
       "    <tr>\n",
       "      <th>5373</th>\n",
       "      <td>I AM RICH PRO PLUS</td>\n",
       "      <td>FINANCE</td>\n",
       "      <td>4.0</td>\n",
       "      <td>36</td>\n",
       "      <td>41000.0</td>\n",
       "      <td>1000</td>\n",
       "      <td>Paid</td>\n",
       "      <td>399.99</td>\n",
       "      <td>Everyone</td>\n",
       "      <td>Finance</td>\n",
       "      <td>June 25, 2018</td>\n",
       "      <td>1.0.2</td>\n",
       "      <td>4.1 and up</td>\n",
       "    </tr>\n",
       "  </tbody>\n",
       "</table>\n",
       "</div>"
      ],
      "text/plain": [
       "                                 App   Category  Rating  Reviews     Size  \\\n",
       "4197          most expensive app (H)     FAMILY     4.3        6   1500.0   \n",
       "4362                      💎 I'm rich  LIFESTYLE     3.8      718  26000.0   \n",
       "4367        I'm Rich - Trump Edition  LIFESTYLE     3.6      275   7300.0   \n",
       "5351                       I am rich  LIFESTYLE     3.8     3547   1800.0   \n",
       "5354                  I am Rich Plus     FAMILY     4.0      856   8700.0   \n",
       "5355                   I am rich VIP  LIFESTYLE     3.8      411   2600.0   \n",
       "5356               I Am Rich Premium    FINANCE     4.1     1867   4700.0   \n",
       "5357             I am extremely Rich  LIFESTYLE     2.9       41   2900.0   \n",
       "5358                      I am Rich!    FINANCE     3.8       93  22000.0   \n",
       "5359              I am rich(premium)    FINANCE     3.5      472    965.0   \n",
       "5362                   I Am Rich Pro     FAMILY     4.4      201   2700.0   \n",
       "5364  I am rich (Most expensive app)    FINANCE     4.1      129   2700.0   \n",
       "5366                       I Am Rich     FAMILY     3.6      217   4900.0   \n",
       "5369                       I am Rich    FINANCE     4.3      180   3800.0   \n",
       "5373              I AM RICH PRO PLUS    FINANCE     4.0       36  41000.0   \n",
       "\n",
       "      Installs  Type   Price Content Rating         Genres       Last Updated  \\\n",
       "4197       100  Paid  399.99       Everyone  Entertainment      July 16, 2018   \n",
       "4362     10000  Paid  399.99       Everyone      Lifestyle     March 11, 2018   \n",
       "4367     10000  Paid  400.00       Everyone      Lifestyle        May 3, 2018   \n",
       "5351    100000  Paid  399.99       Everyone      Lifestyle   January 12, 2018   \n",
       "5354     10000  Paid  399.99       Everyone  Entertainment       May 19, 2018   \n",
       "5355     10000  Paid  299.99       Everyone      Lifestyle      July 21, 2018   \n",
       "5356     50000  Paid  399.99       Everyone        Finance  November 12, 2017   \n",
       "5357      1000  Paid  379.99       Everyone      Lifestyle       July 1, 2018   \n",
       "5358      1000  Paid  399.99       Everyone        Finance  December 11, 2017   \n",
       "5359      5000  Paid  399.99       Everyone        Finance        May 1, 2017   \n",
       "5362      5000  Paid  399.99       Everyone  Entertainment       May 30, 2017   \n",
       "5364      1000  Paid  399.99           Teen        Finance   December 6, 2017   \n",
       "5366     10000  Paid  389.99       Everyone  Entertainment      June 22, 2018   \n",
       "5369      5000  Paid  399.99       Everyone        Finance     March 22, 2018   \n",
       "5373      1000  Paid  399.99       Everyone        Finance      June 25, 2018   \n",
       "\n",
       "     Current Ver   Android Ver  \n",
       "4197         1.0    7.0 and up  \n",
       "4362       1.0.0    4.4 and up  \n",
       "4367       1.0.1    4.1 and up  \n",
       "5351         2.0  4.0.3 and up  \n",
       "5354         3.0    4.4 and up  \n",
       "5355       1.1.1    4.3 and up  \n",
       "5356         1.6    4.0 and up  \n",
       "5357         1.0    4.0 and up  \n",
       "5358         1.0    4.1 and up  \n",
       "5359         3.4    4.4 and up  \n",
       "5362        1.54    1.6 and up  \n",
       "5364           2  4.0.3 and up  \n",
       "5366         1.5    4.2 and up  \n",
       "5369         1.0    4.2 and up  \n",
       "5373       1.0.2    4.1 and up  "
      ]
     },
     "execution_count": 35,
     "metadata": {},
     "output_type": "execute_result"
    }
   ],
   "source": [
    "print('Yes we can expect apps on the play store to cost $200')\n",
    "df.loc[df['Price'] > 200]"
   ]
  },
  {
   "cell_type": "markdown",
   "id": "b10ce5d4",
   "metadata": {},
   "source": [
    "iii. After dropping the useless records, make the suitable plot again to identify\n",
    "outliers"
   ]
  },
  {
   "cell_type": "code",
   "execution_count": 36,
   "id": "4f0139bf",
   "metadata": {},
   "outputs": [
    {
     "data": {
      "image/png": "[encoded data removed]",
      "text/plain": [
       "<Figure size 432x288 with 1 Axes>"
      ]
     },
     "metadata": {
      "needs_background": "light"
     },
     "output_type": "display_data"
    }
   ],
   "source": [
    "plt.boxplot(df['Price'])\n",
    "plt.show()"
   ]
  },
  {
   "cell_type": "markdown",
   "id": "7a2438ed",
   "metadata": {},
   "source": [
    "iv. Limit data to records with price < $30"
   ]
  },
  {
   "cell_type": "code",
   "execution_count": 37,
   "id": "3cd14f52",
   "metadata": {},
   "outputs": [],
   "source": [
    "gt_30 = df[df['Price'] > 30].index\n",
    "df.drop(labels=gt_30, inplace=True)"
   ]
  },
  {
   "cell_type": "code",
   "execution_count": 38,
   "id": "d96bf9d5",
   "metadata": {},
   "outputs": [
    {
     "data": {
      "text/plain": [
       "0"
      ]
     },
     "execution_count": 38,
     "metadata": {},
     "output_type": "execute_result"
    }
   ],
   "source": [
    "count = df.loc[df['Price'] > 30].index\n",
    "count.value_counts().sum()"
   ]
  },
  {
   "cell_type": "markdown",
   "id": "0b69d1f9",
   "metadata": {},
   "source": [
    "b. Reviews column\n",
    "\n",
    "i. Make suitable plot"
   ]
  },
  {
   "cell_type": "code",
   "execution_count": 39,
   "id": "1663a8f9",
   "metadata": {},
   "outputs": [
    {
     "data": {
      "image/png": "[encoded data removed]",
      "text/plain": [
       "<Figure size 432x288 with 1 Axes>"
      ]
     },
     "metadata": {
      "needs_background": "light"
     },
     "output_type": "display_data"
    }
   ],
   "source": [
    "sns.distplot(df['Reviews'])\n",
    "plt.show()"
   ]
  },
  {
   "cell_type": "markdown",
   "id": "4ae1f9e2",
   "metadata": {},
   "source": [
    "ii. Limit data to apps with < 1 Million reviews"
   ]
  },
  {
   "cell_type": "code",
   "execution_count": 40,
   "id": "f9168ae4",
   "metadata": {},
   "outputs": [
    {
     "name": "stdout",
     "output_type": "stream",
     "text": [
      "704 cols dropped\n"
     ]
    }
   ],
   "source": [
    "gt_1m = df[df['Reviews'] > 1000000 ].index\n",
    "df.drop(labels = gt_1m, inplace=True)\n",
    "print(gt_1m.value_counts().sum(),'cols dropped')"
   ]
  },
  {
   "cell_type": "markdown",
   "id": "040607bb",
   "metadata": {},
   "source": [
    "c. Installs\n",
    "\n",
    "i. What is the 95th percentile of the installs?"
   ]
  },
  {
   "cell_type": "code",
   "execution_count": 41,
   "id": "61f0d2c5",
   "metadata": {},
   "outputs": [
    {
     "name": "stdout",
     "output_type": "stream",
     "text": [
      "10000000.0 is 95th percentile of Installs\n"
     ]
    }
   ],
   "source": [
    "percentile = df.Installs.quantile(0.95)\n",
    "print(percentile,\"is 95th percentile of Installs\")"
   ]
  },
  {
   "cell_type": "markdown",
   "id": "cdc462ab",
   "metadata": {},
   "source": [
    "ii. Drop records having a value more than the 95th percentile"
   ]
  },
  {
   "cell_type": "code",
   "execution_count": 42,
   "id": "d06a86be",
   "metadata": {},
   "outputs": [
    {
     "name": "stdout",
     "output_type": "stream",
     "text": [
      " the 0 percentile of installs is 5.0 \n",
      " the 1 percentile of installs is 50.0 \n",
      " the 2 percentile of installs is 100.0 \n",
      " the 3 percentile of installs is 100.0 \n",
      " the 4 percentile of installs is 100.0 \n",
      " the 5 percentile of installs is 100.0 \n",
      " the 6 percentile of installs is 500.0 \n",
      " the 7 percentile of installs is 500.0 \n",
      " the 8 percentile of installs is 1000.0 \n",
      " the 9 percentile of installs is 1000.0 \n",
      " the 10 percentile of installs is 1000.0 \n",
      " the 11 percentile of installs is 1000.0 \n",
      " the 12 percentile of installs is 1000.0 \n",
      " the 13 percentile of installs is 1000.0 \n",
      " the 14 percentile of installs is 1000.0 \n",
      " the 15 percentile of installs is 1000.0 \n",
      " the 16 percentile of installs is 5000.0 \n",
      " the 17 percentile of installs is 5000.0 \n",
      " the 18 percentile of installs is 5000.0 \n",
      " the 19 percentile of installs is 5000.0 \n",
      " the 20 percentile of installs is 5000.0 \n",
      " the 21 percentile of installs is 10000.0 \n",
      " the 22 percentile of installs is 10000.0 \n",
      " the 23 percentile of installs is 10000.0 \n",
      " the 24 percentile of installs is 10000.0 \n",
      " the 25 percentile of installs is 10000.0 \n",
      " the 26 percentile of installs is 10000.0 \n",
      " the 27 percentile of installs is 10000.0 \n",
      " the 28 percentile of installs is 10000.0 \n",
      " the 29 percentile of installs is 10000.0 \n",
      " the 30 percentile of installs is 10000.0 \n",
      " the 31 percentile of installs is 10000.0 \n",
      " the 32 percentile of installs is 10000.0 \n",
      " the 33 percentile of installs is 50000.0 \n",
      " the 34 percentile of installs is 50000.0 \n",
      " the 35 percentile of installs is 50000.0 \n",
      " the 36 percentile of installs is 50000.0 \n",
      " the 37 percentile of installs is 50000.0 \n",
      " the 38 percentile of installs is 100000.0 \n",
      " the 39 percentile of installs is 100000.0 \n",
      " the 40 percentile of installs is 100000.0 \n",
      " the 41 percentile of installs is 100000.0 \n",
      " the 42 percentile of installs is 100000.0 \n",
      " the 43 percentile of installs is 100000.0 \n",
      " the 44 percentile of installs is 100000.0 \n",
      " the 45 percentile of installs is 100000.0 \n",
      " the 46 percentile of installs is 100000.0 \n",
      " the 47 percentile of installs is 100000.0 \n",
      " the 48 percentile of installs is 100000.0 \n",
      " the 49 percentile of installs is 100000.0 \n",
      " the 50 percentile of installs is 100000.0 \n",
      " the 51 percentile of installs is 500000.0 \n",
      " the 52 percentile of installs is 500000.0 \n",
      " the 53 percentile of installs is 500000.0 \n",
      " the 54 percentile of installs is 500000.0 \n",
      " the 55 percentile of installs is 500000.0 \n",
      " the 56 percentile of installs is 500000.0 \n",
      " the 57 percentile of installs is 500000.0 \n",
      " the 58 percentile of installs is 1000000.0 \n",
      " the 59 percentile of installs is 1000000.0 \n",
      " the 60 percentile of installs is 1000000.0 \n",
      " the 61 percentile of installs is 1000000.0 \n",
      " the 62 percentile of installs is 1000000.0 \n",
      " the 63 percentile of installs is 1000000.0 \n",
      " the 64 percentile of installs is 1000000.0 \n",
      " the 65 percentile of installs is 1000000.0 \n",
      " the 66 percentile of installs is 1000000.0 \n",
      " the 67 percentile of installs is 1000000.0 \n",
      " the 68 percentile of installs is 1000000.0 \n",
      " the 69 percentile of installs is 1000000.0 \n",
      " the 70 percentile of installs is 1000000.0 \n",
      " the 71 percentile of installs is 1000000.0 \n",
      " the 72 percentile of installs is 1000000.0 \n",
      " the 73 percentile of installs is 1000000.0 \n",
      " the 74 percentile of installs is 1000000.0 \n",
      " the 75 percentile of installs is 1000000.0 \n",
      " the 76 percentile of installs is 5000000.0 \n",
      " the 77 percentile of installs is 5000000.0 \n",
      " the 78 percentile of installs is 5000000.0 \n",
      " the 79 percentile of installs is 5000000.0 \n",
      " the 80 percentile of installs is 5000000.0 \n",
      " the 81 percentile of installs is 5000000.0 \n",
      " the 82 percentile of installs is 5000000.0 \n",
      " the 83 percentile of installs is 5000000.0 \n",
      " the 84 percentile of installs is 5000000.0 \n",
      " the 85 percentile of installs is 10000000.0 \n",
      " the 86 percentile of installs is 10000000.0 \n",
      " the 87 percentile of installs is 10000000.0 \n",
      " the 88 percentile of installs is 10000000.0 \n",
      " the 89 percentile of installs is 10000000.0 \n",
      " the 90 percentile of installs is 10000000.0 \n",
      " the 91 percentile of installs is 10000000.0 \n",
      " the 92 percentile of installs is 10000000.0 \n",
      " the 93 percentile of installs is 10000000.0 \n",
      " the 94 percentile of installs is 10000000.0 \n",
      " the 95 percentile of installs is 10000000.0 \n",
      " the 96 percentile of installs is 10000000.0 \n",
      " the 97 percentile of installs is 10000000.0 \n",
      " the 98 percentile of installs is 50000000.0 \n",
      " the 99 percentile of installs is 50000000.0 \n",
      " the 100 percentile of installs is 1000000000.0 \n"
     ]
    }
   ],
   "source": [
    "for i in range(0,101,1):\n",
    "    print(' the {} percentile of installs is {} '.format(i,np.percentile(df['Installs'],i)))"
   ]
  },
  {
   "cell_type": "code",
   "execution_count": 43,
   "id": "5dfc89ea",
   "metadata": {},
   "outputs": [
    {
     "name": "stdout",
     "output_type": "stream",
     "text": [
      "199\n"
     ]
    }
   ],
   "source": [
    "temp1 = df[df[\"Installs\"] > percentile].index\n",
    "df.drop(labels = temp1, inplace = True)\n",
    "print(temp1.value_counts().sum())"
   ]
  },
  {
   "cell_type": "markdown",
   "id": "fb5a96d2",
   "metadata": {},
   "source": [
    "# Data analysis to answer business questions\n",
    "\n",
    "# 5. What is the distribution of ratings like? (use Seaborn) More skewed towards higher/lower\n",
    "values?\n",
    "\n",
    "a. How do you explain this?"
   ]
  },
  {
   "cell_type": "code",
   "execution_count": 44,
   "id": "524977db",
   "metadata": {},
   "outputs": [
    {
     "data": {
      "image/png": "[encoded data removed]",
      "text/plain": [
       "<Figure size 432x288 with 1 Axes>"
      ]
     },
     "metadata": {
      "needs_background": "light"
     },
     "output_type": "display_data"
    },
    {
     "name": "stdout",
     "output_type": "stream",
     "text": [
      "The skewness of this distribution is -1.7434270330647985\n",
      "The Median of this distribution 4.3 is greater than mean 4.170800237107298 of this distribution\n"
     ]
    }
   ],
   "source": [
    "sns.distplot(df['Rating'])\n",
    "plt.show()\n",
    "print('The skewness of this distribution is',df['Rating'].skew())\n",
    "print('The Median of this distribution {} is greater than mean {} of this distribution'.format(df.Rating.median(),df.Rating.mean()))"
   ]
  },
  {
   "cell_type": "markdown",
   "id": "9b4a50bf",
   "metadata": {},
   "source": [
    "b. What is the implication of this on your analysis?"
   ]
  },
  {
   "cell_type": "code",
   "execution_count": 45,
   "id": "fa94fd28",
   "metadata": {},
   "outputs": [
    {
     "data": {
      "text/plain": [
       "0    4.3\n",
       "dtype: float64"
      ]
     },
     "execution_count": 45,
     "metadata": {},
     "output_type": "execute_result"
    }
   ],
   "source": [
    "df['Rating'].mode()"
   ]
  },
  {
   "cell_type": "markdown",
   "id": "56ed1a7c",
   "metadata": {},
   "source": [
    "# 6. What are the top Content Rating values?\n",
    "\n",
    "a. Are there any values with very few records?"
   ]
  },
  {
   "cell_type": "code",
   "execution_count": 46,
   "id": "be3ab438",
   "metadata": {},
   "outputs": [
    {
     "data": {
      "text/plain": [
       "Everyone           6782\n",
       "Teen                900\n",
       "Mature 17+          417\n",
       "Everyone 10+        332\n",
       "Adults only 18+       3\n",
       "Unrated               1\n",
       "Name: Content Rating, dtype: int64"
      ]
     },
     "execution_count": 46,
     "metadata": {},
     "output_type": "execute_result"
    }
   ],
   "source": [
    "df['Content Rating'].value_counts()"
   ]
  },
  {
   "cell_type": "markdown",
   "id": "800f67fc",
   "metadata": {},
   "source": [
    "b. If yes, drop those as they won’t help in the analysis"
   ]
  },
  {
   "cell_type": "code",
   "execution_count": 47,
   "id": "087d3610",
   "metadata": {},
   "outputs": [],
   "source": [
    "cr = []\n",
    "for k in df['Content Rating']:\n",
    "    cr.append(k.replace('Adults only 18+','NaN').replace('Unrated','NaN'))\n",
    "\n",
    "df['Content Rating']=cr"
   ]
  },
  {
   "cell_type": "code",
   "execution_count": 48,
   "id": "0a6b76ef",
   "metadata": {},
   "outputs": [
    {
     "name": "stdout",
     "output_type": "stream",
     "text": [
      "droped cols Int64Index([298, 3043, 6424, 8266], dtype='int64')\n"
     ]
    }
   ],
   "source": [
    "temp2 = df[df[\"Content Rating\"] == 'NaN'].index\n",
    "df.drop(labels=temp2, inplace=True)\n",
    "print('droped cols',temp2)"
   ]
  },
  {
   "cell_type": "code",
   "execution_count": 49,
   "id": "36af8fdc",
   "metadata": {},
   "outputs": [
    {
     "data": {
      "text/plain": [
       "Everyone        6782\n",
       "Teen             900\n",
       "Mature 17+       417\n",
       "Everyone 10+     332\n",
       "Name: Content Rating, dtype: int64"
      ]
     },
     "execution_count": 49,
     "metadata": {},
     "output_type": "execute_result"
    }
   ],
   "source": [
    "df['Content Rating'].value_counts()"
   ]
  },
  {
   "cell_type": "markdown",
   "id": "08568efa",
   "metadata": {},
   "source": [
    "# 7. Effect of size on rating\n",
    "\n",
    "a. Make a joinplot to understand the effect of size on rating"
   ]
  },
  {
   "cell_type": "code",
   "execution_count": 50,
   "id": "e3776332",
   "metadata": {},
   "outputs": [
    {
     "data": {
      "image/png": "[encoded data removed]",
      "text/plain": [
       "<Figure size 432x432 with 3 Axes>"
      ]
     },
     "metadata": {
      "needs_background": "light"
     },
     "output_type": "display_data"
    }
   ],
   "source": [
    "sns.jointplot(y ='Size', x ='Rating', data = df, kind ='hex')\n",
    "plt.show()"
   ]
  },
  {
   "cell_type": "markdown",
   "id": "b17cfa1b",
   "metadata": {},
   "source": [
    "b. Do you see any patterns?"
   ]
  },
  {
   "cell_type": "markdown",
   "id": "7700c644",
   "metadata": {},
   "source": [
    "Yes, patterns can be observed between Size and Rating ie. their is correlation between Size and Rating."
   ]
  },
  {
   "cell_type": "markdown",
   "id": "b428ca7d",
   "metadata": {},
   "source": [
    "c. How do you explain the pattern?"
   ]
  },
  {
   "cell_type": "markdown",
   "id": "b6252129",
   "metadata": {},
   "source": [
    "Generally on increasing Rating, Size of App also increases. But this is not always true i.e.\n",
    "for higher Rating, their is constant Size. \n",
    "Thus we can conclude that their is positive correlation between Size and Rating."
   ]
  },
  {
   "cell_type": "markdown",
   "id": "db721ee2",
   "metadata": {},
   "source": [
    "# 8. Effect of price on rating\n",
    "\n",
    "a. Make a jointplot (with regression line)"
   ]
  },
  {
   "cell_type": "code",
   "execution_count": 51,
   "id": "5dd33f6e",
   "metadata": {},
   "outputs": [
    {
     "data": {
      "image/png": "[encoded data removed]",
      "text/plain": [
       "<Figure size 432x432 with 3 Axes>"
      ]
     },
     "metadata": {
      "needs_background": "light"
     },
     "output_type": "display_data"
    }
   ],
   "source": [
    "sns.jointplot(x='Price', y='Rating', data=df, kind='reg')\n",
    "plt.show()"
   ]
  },
  {
   "cell_type": "markdown",
   "id": "b9df25e7",
   "metadata": {},
   "source": [
    "b. What pattern do you see?"
   ]
  },
  {
   "cell_type": "markdown",
   "id": "8711e970",
   "metadata": {},
   "source": [
    "Generally on increasing the Price, Rating remains almost constant greater than 4."
   ]
  },
  {
   "cell_type": "markdown",
   "id": "8b1510f9",
   "metadata": {},
   "source": [
    "c. How do you explain the pattern?"
   ]
  },
  {
   "cell_type": "markdown",
   "id": "ef59f4e3",
   "metadata": {},
   "source": [
    "Since on increasing the Price, Rating remains almost constant greater than 4. Thus it can be concluded that their is very weak Positive correlation between Rating and Price."
   ]
  },
  {
   "cell_type": "code",
   "execution_count": 52,
   "id": "41620a76",
   "metadata": {},
   "outputs": [
    {
     "data": {
      "text/html": [
       "<div>\n",
       "<style scoped>\n",
       "    .dataframe tbody tr th:only-of-type {\n",
       "        vertical-align: middle;\n",
       "    }\n",
       "\n",
       "    .dataframe tbody tr th {\n",
       "        vertical-align: top;\n",
       "    }\n",
       "\n",
       "    .dataframe thead th {\n",
       "        text-align: right;\n",
       "    }\n",
       "</style>\n",
       "<table border=\"1\" class=\"dataframe\">\n",
       "  <thead>\n",
       "    <tr style=\"text-align: right;\">\n",
       "      <th></th>\n",
       "      <th>Rating</th>\n",
       "      <th>Reviews</th>\n",
       "      <th>Size</th>\n",
       "      <th>Installs</th>\n",
       "      <th>Price</th>\n",
       "    </tr>\n",
       "  </thead>\n",
       "  <tbody>\n",
       "    <tr>\n",
       "      <th>Rating</th>\n",
       "      <td>1.000000</td>\n",
       "      <td>0.158547</td>\n",
       "      <td>0.058076</td>\n",
       "      <td>0.118414</td>\n",
       "      <td>0.031479</td>\n",
       "    </tr>\n",
       "    <tr>\n",
       "      <th>Reviews</th>\n",
       "      <td>0.158547</td>\n",
       "      <td>1.000000</td>\n",
       "      <td>0.204667</td>\n",
       "      <td>0.736038</td>\n",
       "      <td>-0.073446</td>\n",
       "    </tr>\n",
       "    <tr>\n",
       "      <th>Size</th>\n",
       "      <td>0.058076</td>\n",
       "      <td>0.204667</td>\n",
       "      <td>1.000000</td>\n",
       "      <td>0.190741</td>\n",
       "      <td>-0.001054</td>\n",
       "    </tr>\n",
       "    <tr>\n",
       "      <th>Installs</th>\n",
       "      <td>0.118414</td>\n",
       "      <td>0.736038</td>\n",
       "      <td>0.190741</td>\n",
       "      <td>1.000000</td>\n",
       "      <td>-0.110507</td>\n",
       "    </tr>\n",
       "    <tr>\n",
       "      <th>Price</th>\n",
       "      <td>0.031479</td>\n",
       "      <td>-0.073446</td>\n",
       "      <td>-0.001054</td>\n",
       "      <td>-0.110507</td>\n",
       "      <td>1.000000</td>\n",
       "    </tr>\n",
       "  </tbody>\n",
       "</table>\n",
       "</div>"
      ],
      "text/plain": [
       "            Rating   Reviews      Size  Installs     Price\n",
       "Rating    1.000000  0.158547  0.058076  0.118414  0.031479\n",
       "Reviews   0.158547  1.000000  0.204667  0.736038 -0.073446\n",
       "Size      0.058076  0.204667  1.000000  0.190741 -0.001054\n",
       "Installs  0.118414  0.736038  0.190741  1.000000 -0.110507\n",
       "Price     0.031479 -0.073446 -0.001054 -0.110507  1.000000"
      ]
     },
     "execution_count": 52,
     "metadata": {},
     "output_type": "execute_result"
    }
   ],
   "source": [
    "df.corr()"
   ]
  },
  {
   "cell_type": "markdown",
   "id": "5a0b8223",
   "metadata": {},
   "source": [
    "d. Replot the data, this time with only records with price > 0"
   ]
  },
  {
   "cell_type": "code",
   "execution_count": 53,
   "id": "e49e0336",
   "metadata": {},
   "outputs": [
    {
     "data": {
      "image/png": "[encoded data removed]",
      "text/plain": [
       "<Figure size 432x432 with 3 Axes>"
      ]
     },
     "metadata": {
      "needs_background": "light"
     },
     "output_type": "display_data"
    }
   ],
   "source": [
    "ps1=df.loc[df.Price>0]\n",
    "sns.jointplot(x='Price', y='Rating', data=ps1, kind='reg')\n",
    "plt.show()"
   ]
  },
  {
   "cell_type": "markdown",
   "id": "6c2ba7dc",
   "metadata": {},
   "source": [
    "e. Does the pattern change?"
   ]
  },
  {
   "cell_type": "markdown",
   "id": "78257bac",
   "metadata": {},
   "source": [
    "Yes, On limiting the record with Price > 0, the overall pattern changed a slight ie,\n",
    "their is very weakly Negative Correlation between Price and Rating."
   ]
  },
  {
   "cell_type": "code",
   "execution_count": 54,
   "id": "3ba444c9",
   "metadata": {},
   "outputs": [
    {
     "data": {
      "text/html": [
       "<div>\n",
       "<style scoped>\n",
       "    .dataframe tbody tr th:only-of-type {\n",
       "        vertical-align: middle;\n",
       "    }\n",
       "\n",
       "    .dataframe tbody tr th {\n",
       "        vertical-align: top;\n",
       "    }\n",
       "\n",
       "    .dataframe thead th {\n",
       "        text-align: right;\n",
       "    }\n",
       "</style>\n",
       "<table border=\"1\" class=\"dataframe\">\n",
       "  <thead>\n",
       "    <tr style=\"text-align: right;\">\n",
       "      <th></th>\n",
       "      <th>Rating</th>\n",
       "      <th>Reviews</th>\n",
       "      <th>Size</th>\n",
       "      <th>Installs</th>\n",
       "      <th>Price</th>\n",
       "    </tr>\n",
       "  </thead>\n",
       "  <tbody>\n",
       "    <tr>\n",
       "      <th>Rating</th>\n",
       "      <td>1.000000</td>\n",
       "      <td>0.095986</td>\n",
       "      <td>0.117943</td>\n",
       "      <td>0.063960</td>\n",
       "      <td>-0.025975</td>\n",
       "    </tr>\n",
       "    <tr>\n",
       "      <th>Reviews</th>\n",
       "      <td>0.095986</td>\n",
       "      <td>1.000000</td>\n",
       "      <td>0.163959</td>\n",
       "      <td>0.787628</td>\n",
       "      <td>-0.049764</td>\n",
       "    </tr>\n",
       "    <tr>\n",
       "      <th>Size</th>\n",
       "      <td>0.117943</td>\n",
       "      <td>0.163959</td>\n",
       "      <td>1.000000</td>\n",
       "      <td>0.119255</td>\n",
       "      <td>0.024912</td>\n",
       "    </tr>\n",
       "    <tr>\n",
       "      <th>Installs</th>\n",
       "      <td>0.063960</td>\n",
       "      <td>0.787628</td>\n",
       "      <td>0.119255</td>\n",
       "      <td>1.000000</td>\n",
       "      <td>-0.057710</td>\n",
       "    </tr>\n",
       "    <tr>\n",
       "      <th>Price</th>\n",
       "      <td>-0.025975</td>\n",
       "      <td>-0.049764</td>\n",
       "      <td>0.024912</td>\n",
       "      <td>-0.057710</td>\n",
       "      <td>1.000000</td>\n",
       "    </tr>\n",
       "  </tbody>\n",
       "</table>\n",
       "</div>"
      ],
      "text/plain": [
       "            Rating   Reviews      Size  Installs     Price\n",
       "Rating    1.000000  0.095986  0.117943  0.063960 -0.025975\n",
       "Reviews   0.095986  1.000000  0.163959  0.787628 -0.049764\n",
       "Size      0.117943  0.163959  1.000000  0.119255  0.024912\n",
       "Installs  0.063960  0.787628  0.119255  1.000000 -0.057710\n",
       "Price    -0.025975 -0.049764  0.024912 -0.057710  1.000000"
      ]
     },
     "execution_count": 54,
     "metadata": {},
     "output_type": "execute_result"
    }
   ],
   "source": [
    "ps1.corr()"
   ]
  },
  {
   "cell_type": "markdown",
   "id": "df12ef83",
   "metadata": {},
   "source": [
    "f. What is your overall inference on the effect of price on the rating"
   ]
  },
  {
   "cell_type": "markdown",
   "id": "516de461",
   "metadata": {},
   "source": [
    "Generally increasing the Prices, doesn't have signifcant effect on Higher Rating.\n",
    "For Higher Price, Rating is High and almost constant ie greater than 4"
   ]
  },
  {
   "cell_type": "markdown",
   "id": "95878158",
   "metadata": {},
   "source": [
    "# 9. Look at all the numeric interactions together –\n",
    "a. Make a pairplort with the colulmns - 'Reviews', 'Size', 'Rating', 'Price'"
   ]
  },
  {
   "cell_type": "code",
   "execution_count": 55,
   "id": "dc53dcf5",
   "metadata": {},
   "outputs": [
    {
     "data": {
      "image/png": "[encoded data removed]",
      "text/plain": [
       "<Figure size 720x720 with 20 Axes>"
      ]
     },
     "metadata": {
      "needs_background": "light"
     },
     "output_type": "display_data"
    }
   ],
   "source": [
    "sns.pairplot(df, vars=['Reviews', 'Size', 'Rating', 'Price'], kind='reg')\n",
    "plt.show()"
   ]
  },
  {
   "cell_type": "markdown",
   "id": "5993f510",
   "metadata": {},
   "source": [
    "# 10. Rating vs. content rating\n",
    "\n",
    "a. Make a bar plot displaying the rating for each content rating"
   ]
  },
  {
   "cell_type": "code",
   "execution_count": 56,
   "id": "d8d4753d",
   "metadata": {},
   "outputs": [
    {
     "data": {
      "image/png": "[encoded data removed]",
      "text/plain": [
       "<Figure size 432x288 with 1 Axes>"
      ]
     },
     "metadata": {
      "needs_background": "light"
     },
     "output_type": "display_data"
    }
   ],
   "source": [
    "df.groupby(['Content Rating'])['Rating'].count().plot.bar(color=\"darkgreen\")\n",
    "plt.show()"
   ]
  },
  {
   "cell_type": "markdown",
   "id": "be0fd9e8",
   "metadata": {},
   "source": [
    "b. Which metric would you use? Mean? Median? Some other quantile?"
   ]
  },
  {
   "cell_type": "markdown",
   "id": "23676a7f",
   "metadata": {},
   "source": [
    "We must use Median in this case as we are having Outliers in Rating. Because in case of Outliers , median is the best measure of central tendency."
   ]
  },
  {
   "cell_type": "code",
   "execution_count": 57,
   "id": "937cb595",
   "metadata": {},
   "outputs": [
    {
     "data": {
      "image/png": "[encoded data removed]",
      "text/plain": [
       "<Figure size 432x288 with 1 Axes>"
      ]
     },
     "metadata": {
      "needs_background": "light"
     },
     "output_type": "display_data"
    }
   ],
   "source": [
    "plt.boxplot(df['Rating'])\n",
    "plt.show()"
   ]
  },
  {
   "cell_type": "markdown",
   "id": "3982ed5b",
   "metadata": {},
   "source": [
    "c. Choose the right metric and plot"
   ]
  },
  {
   "cell_type": "code",
   "execution_count": 58,
   "id": "4a98f0b6",
   "metadata": {},
   "outputs": [
    {
     "data": {
      "image/png": "[encoded data removed]",
      "text/plain": [
       "<Figure size 432x288 with 1 Axes>"
      ]
     },
     "metadata": {
      "needs_background": "light"
     },
     "output_type": "display_data"
    }
   ],
   "source": [
    "df.groupby(['Content Rating'])['Rating'].median().plot.barh(color=\"darkgreen\")\n",
    "plt.show()"
   ]
  },
  {
   "cell_type": "markdown",
   "id": "16e5c30a",
   "metadata": {},
   "source": [
    "# 11. Content rating vs. size vs. rating – 3 variables at a time\n",
    "\n",
    "a. Create 5 buckets (20% records in each) based on Size"
   ]
  },
  {
   "cell_type": "code",
   "execution_count": 59,
   "id": "59a943d3",
   "metadata": {},
   "outputs": [
    {
     "data": {
      "text/html": [
       "<div>\n",
       "<style scoped>\n",
       "    .dataframe tbody tr th:only-of-type {\n",
       "        vertical-align: middle;\n",
       "    }\n",
       "\n",
       "    .dataframe tbody tr th {\n",
       "        vertical-align: top;\n",
       "    }\n",
       "\n",
       "    .dataframe thead th {\n",
       "        text-align: right;\n",
       "    }\n",
       "</style>\n",
       "<table border=\"1\" class=\"dataframe\">\n",
       "  <thead>\n",
       "    <tr style=\"text-align: right;\">\n",
       "      <th>Content Rating</th>\n",
       "      <th>Everyone</th>\n",
       "      <th>Everyone 10+</th>\n",
       "      <th>Mature 17+</th>\n",
       "      <th>Teen</th>\n",
       "    </tr>\n",
       "    <tr>\n",
       "      <th>Bucket Size</th>\n",
       "      <th></th>\n",
       "      <th></th>\n",
       "      <th></th>\n",
       "      <th></th>\n",
       "    </tr>\n",
       "  </thead>\n",
       "  <tbody>\n",
       "    <tr>\n",
       "      <th>0-20k</th>\n",
       "      <td>4.145730</td>\n",
       "      <td>4.247561</td>\n",
       "      <td>4.010582</td>\n",
       "      <td>4.182240</td>\n",
       "    </tr>\n",
       "    <tr>\n",
       "      <th>20k-40k</th>\n",
       "      <td>4.200195</td>\n",
       "      <td>4.169811</td>\n",
       "      <td>4.156291</td>\n",
       "      <td>4.170432</td>\n",
       "    </tr>\n",
       "    <tr>\n",
       "      <th>40k-60k</th>\n",
       "      <td>4.167083</td>\n",
       "      <td>4.263636</td>\n",
       "      <td>4.190476</td>\n",
       "      <td>4.237383</td>\n",
       "    </tr>\n",
       "    <tr>\n",
       "      <th>60k-80k</th>\n",
       "      <td>4.245408</td>\n",
       "      <td>4.280769</td>\n",
       "      <td>4.200000</td>\n",
       "      <td>4.274194</td>\n",
       "    </tr>\n",
       "    <tr>\n",
       "      <th>80k-100k</th>\n",
       "      <td>4.260127</td>\n",
       "      <td>4.304762</td>\n",
       "      <td>4.252632</td>\n",
       "      <td>4.270313</td>\n",
       "    </tr>\n",
       "  </tbody>\n",
       "</table>\n",
       "</div>"
      ],
      "text/plain": [
       "Content Rating  Everyone  Everyone 10+  Mature 17+      Teen\n",
       "Bucket Size                                                 \n",
       "0-20k           4.145730      4.247561    4.010582  4.182240\n",
       "20k-40k         4.200195      4.169811    4.156291  4.170432\n",
       "40k-60k         4.167083      4.263636    4.190476  4.237383\n",
       "60k-80k         4.245408      4.280769    4.200000  4.274194\n",
       "80k-100k        4.260127      4.304762    4.252632  4.270313"
      ]
     },
     "execution_count": 59,
     "metadata": {},
     "output_type": "execute_result"
    }
   ],
   "source": [
    "bins=[0, 20000, 40000, 60000, 80000, 100000]\n",
    "df['Bucket Size'] = pd.cut(df['Size'], bins, labels=['0-20k','20k-40k','40k-60k','60k-80k','80k-100k'])\n",
    "pd.pivot_table(df, values='Rating', index='Bucket Size', columns='Content Rating')"
   ]
  },
  {
   "cell_type": "markdown",
   "id": "0793f16c",
   "metadata": {},
   "source": [
    "b. By Content Rating vs. Size buckets, get the rating (20th percentile) for each\n",
    "combination"
   ]
  },
  {
   "cell_type": "code",
   "execution_count": 60,
   "id": "900a414b",
   "metadata": {},
   "outputs": [
    {
     "data": {
      "text/html": [
       "<div>\n",
       "<style scoped>\n",
       "    .dataframe tbody tr th:only-of-type {\n",
       "        vertical-align: middle;\n",
       "    }\n",
       "\n",
       "    .dataframe tbody tr th {\n",
       "        vertical-align: top;\n",
       "    }\n",
       "\n",
       "    .dataframe thead th {\n",
       "        text-align: right;\n",
       "    }\n",
       "</style>\n",
       "<table border=\"1\" class=\"dataframe\">\n",
       "  <thead>\n",
       "    <tr style=\"text-align: right;\">\n",
       "      <th>Content Rating</th>\n",
       "      <th>Everyone</th>\n",
       "      <th>Everyone 10+</th>\n",
       "      <th>Mature 17+</th>\n",
       "      <th>Teen</th>\n",
       "    </tr>\n",
       "    <tr>\n",
       "      <th>Bucket Size</th>\n",
       "      <th></th>\n",
       "      <th></th>\n",
       "      <th></th>\n",
       "      <th></th>\n",
       "    </tr>\n",
       "  </thead>\n",
       "  <tbody>\n",
       "    <tr>\n",
       "      <th>0-20k</th>\n",
       "      <td>3.80</td>\n",
       "      <td>4.02</td>\n",
       "      <td>3.5</td>\n",
       "      <td>3.9</td>\n",
       "    </tr>\n",
       "    <tr>\n",
       "      <th>20k-40k</th>\n",
       "      <td>4.00</td>\n",
       "      <td>4.00</td>\n",
       "      <td>4.0</td>\n",
       "      <td>3.9</td>\n",
       "    </tr>\n",
       "    <tr>\n",
       "      <th>40k-60k</th>\n",
       "      <td>3.90</td>\n",
       "      <td>4.06</td>\n",
       "      <td>4.1</td>\n",
       "      <td>4.0</td>\n",
       "    </tr>\n",
       "    <tr>\n",
       "      <th>60k-80k</th>\n",
       "      <td>4.00</td>\n",
       "      <td>4.00</td>\n",
       "      <td>4.0</td>\n",
       "      <td>4.0</td>\n",
       "    </tr>\n",
       "    <tr>\n",
       "      <th>80k-100k</th>\n",
       "      <td>4.04</td>\n",
       "      <td>4.10</td>\n",
       "      <td>4.0</td>\n",
       "      <td>4.0</td>\n",
       "    </tr>\n",
       "  </tbody>\n",
       "</table>\n",
       "</div>"
      ],
      "text/plain": [
       "Content Rating  Everyone  Everyone 10+  Mature 17+  Teen\n",
       "Bucket Size                                             \n",
       "0-20k               3.80          4.02         3.5   3.9\n",
       "20k-40k             4.00          4.00         4.0   3.9\n",
       "40k-60k             3.90          4.06         4.1   4.0\n",
       "60k-80k             4.00          4.00         4.0   4.0\n",
       "80k-100k            4.04          4.10         4.0   4.0"
      ]
     },
     "execution_count": 60,
     "metadata": {},
     "output_type": "execute_result"
    }
   ],
   "source": [
    "temp3=pd.pivot_table(df, values='Rating', index='Bucket Size', columns='Content Rating', aggfunc=lambda x:np.quantile(x,0.2))\n",
    "temp3"
   ]
  },
  {
   "cell_type": "markdown",
   "id": "3fdc6e42",
   "metadata": {},
   "source": [
    "c. Make a heatmap of this\n",
    "\n",
    "i. Annotated"
   ]
  },
  {
   "cell_type": "code",
   "execution_count": 61,
   "id": "316219cb",
   "metadata": {},
   "outputs": [
    {
     "data": {
      "image/png": "[encoded data removed]",
      "text/plain": [
       "<Figure size 360x360 with 2 Axes>"
      ]
     },
     "metadata": {
      "needs_background": "light"
     },
     "output_type": "display_data"
    }
   ],
   "source": [
    "f,ax = plt.subplots(figsize=(5, 5))\n",
    "sns.heatmap(temp3, annot=True, linewidths=.5, fmt='.1f',ax=ax)\n",
    "plt.show()"
   ]
  },
  {
   "cell_type": "markdown",
   "id": "9dd2a241",
   "metadata": {},
   "source": []
  },
  {
   "cell_type": "code",
   "execution_count": 62,
   "id": "fe9ebe2f",
   "metadata": {},
   "outputs": [
    {
     "data": {
      "image/png": "[encoded data removed]",
      "text/plain": [
       "<Figure size 360x360 with 2 Axes>"
      ]
     },
     "metadata": {
      "needs_background": "light"
     },
     "output_type": "display_data"
    }
   ],
   "source": [
    "f,ax = plt.subplots(figsize=(5, 5))\n",
    "sns.heatmap(temp3, annot=True, linewidths=.5, cmap='Greens',fmt='.1f',ax=ax)\n",
    "plt.show()"
   ]
  },
  {
   "cell_type": "markdown",
   "id": "dfa7d243",
   "metadata": {},
   "source": []
  },
  {
   "cell_type": "markdown",
   "id": "3fbca098",
   "metadata": {},
   "source": []
  },
  {
   "cell_type": "markdown",
   "id": "ecd18f50",
   "metadata": {},
   "source": []
  },
  {
   "cell_type": "markdown",
   "id": "84b47f0d",
   "metadata": {},
   "source": []
  },
  {
   "cell_type": "markdown",
   "id": "9aecb492",
   "metadata": {},
   "source": [
    "Based on analysis, its not true that lighter apps are preferred in all categories. Because apps with size 40k-60k and 80k-100k have got the highest rating in all cateegories. So, in general we can conclude that heavier apps are preferred in all categories."
   ]
  },
  {
   "cell_type": "markdown",
   "id": "c9557fa3",
   "metadata": {},
   "source": []
  }
 ],
 "metadata": {
  "kernelspec": {
   "display_name": "Python 3 (ipykernel)",
   "language": "python",
   "name": "python3"
  },
  "language_info": {
   "codemirror_mode": {
    "name": "ipython",
    "version": 3
   },
   "file_extension": ".py",
   "mimetype": "text/x-python",
   "name": "python",
   "nbconvert_exporter": "python",
   "pygments_lexer": "ipython3",
   "version": "3.9.7"
  }
 },
 "nbformat": 4,
 "nbformat_minor": 5
}
