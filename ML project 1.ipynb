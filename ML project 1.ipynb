{
 "cells": [
  {
   "cell_type": "code",
   "execution_count": 1,
   "id": "b4118d1f",
   "metadata": {},
   "outputs": [],
   "source": [
    "import numpy as np\n",
    "import pandas as pd\n",
    "import matplotlib.pyplot as plt\n",
    "import seaborn as sns\n",
    "import warnings\n",
    "warnings.filterwarnings(\"ignore\")\n",
    "%matplotlib inline"
   ]
  },
  {
   "cell_type": "code",
   "execution_count": 2,
   "id": "99cc6810",
   "metadata": {},
   "outputs": [],
   "source": [
    "df = pd.read_csv(r\"file:///C:\\Users\\ajity\\Downloads\\files%20for%20ML\\ML%20Notes\\ML%20PROJECT%201\\bank-marketing.csv\")"
   ]
  },
  {
   "cell_type": "markdown",
   "id": "95a3263c",
   "metadata": {},
   "source": [
    "# exploratory data analysis"
   ]
  },
  {
   "cell_type": "code",
   "execution_count": 3,
   "id": "30bb8917",
   "metadata": {
    "scrolled": true
   },
   "outputs": [
    {
     "data": {
      "text/html": [
       "<div>\n",
       "<style scoped>\n",
       "    .dataframe tbody tr th:only-of-type {\n",
       "        vertical-align: middle;\n",
       "    }\n",
       "\n",
       "    .dataframe tbody tr th {\n",
       "        vertical-align: top;\n",
       "    }\n",
       "\n",
       "    .dataframe thead th {\n",
       "        text-align: right;\n",
       "    }\n",
       "</style>\n",
       "<table border=\"1\" class=\"dataframe\">\n",
       "  <thead>\n",
       "    <tr style=\"text-align: right;\">\n",
       "      <th></th>\n",
       "      <th>age</th>\n",
       "      <th>job</th>\n",
       "      <th>salary</th>\n",
       "      <th>marital</th>\n",
       "      <th>education</th>\n",
       "      <th>targeted</th>\n",
       "      <th>default</th>\n",
       "      <th>balance</th>\n",
       "      <th>housing</th>\n",
       "      <th>loan</th>\n",
       "      <th>contact</th>\n",
       "      <th>day</th>\n",
       "      <th>month</th>\n",
       "      <th>duration</th>\n",
       "      <th>campaign</th>\n",
       "      <th>pdays</th>\n",
       "      <th>previous</th>\n",
       "      <th>poutcome</th>\n",
       "      <th>response</th>\n",
       "    </tr>\n",
       "  </thead>\n",
       "  <tbody>\n",
       "    <tr>\n",
       "      <th>0</th>\n",
       "      <td>58</td>\n",
       "      <td>management</td>\n",
       "      <td>100000</td>\n",
       "      <td>married</td>\n",
       "      <td>tertiary</td>\n",
       "      <td>yes</td>\n",
       "      <td>no</td>\n",
       "      <td>2143</td>\n",
       "      <td>yes</td>\n",
       "      <td>no</td>\n",
       "      <td>unknown</td>\n",
       "      <td>5</td>\n",
       "      <td>may</td>\n",
       "      <td>261</td>\n",
       "      <td>1</td>\n",
       "      <td>-1</td>\n",
       "      <td>0</td>\n",
       "      <td>unknown</td>\n",
       "      <td>no</td>\n",
       "    </tr>\n",
       "    <tr>\n",
       "      <th>1</th>\n",
       "      <td>44</td>\n",
       "      <td>technician</td>\n",
       "      <td>60000</td>\n",
       "      <td>single</td>\n",
       "      <td>secondary</td>\n",
       "      <td>yes</td>\n",
       "      <td>no</td>\n",
       "      <td>29</td>\n",
       "      <td>yes</td>\n",
       "      <td>no</td>\n",
       "      <td>unknown</td>\n",
       "      <td>5</td>\n",
       "      <td>may</td>\n",
       "      <td>151</td>\n",
       "      <td>1</td>\n",
       "      <td>-1</td>\n",
       "      <td>0</td>\n",
       "      <td>unknown</td>\n",
       "      <td>no</td>\n",
       "    </tr>\n",
       "    <tr>\n",
       "      <th>2</th>\n",
       "      <td>33</td>\n",
       "      <td>entrepreneur</td>\n",
       "      <td>120000</td>\n",
       "      <td>married</td>\n",
       "      <td>secondary</td>\n",
       "      <td>yes</td>\n",
       "      <td>no</td>\n",
       "      <td>2</td>\n",
       "      <td>yes</td>\n",
       "      <td>yes</td>\n",
       "      <td>unknown</td>\n",
       "      <td>5</td>\n",
       "      <td>may</td>\n",
       "      <td>76</td>\n",
       "      <td>1</td>\n",
       "      <td>-1</td>\n",
       "      <td>0</td>\n",
       "      <td>unknown</td>\n",
       "      <td>no</td>\n",
       "    </tr>\n",
       "    <tr>\n",
       "      <th>3</th>\n",
       "      <td>47</td>\n",
       "      <td>blue-collar</td>\n",
       "      <td>20000</td>\n",
       "      <td>married</td>\n",
       "      <td>unknown</td>\n",
       "      <td>no</td>\n",
       "      <td>no</td>\n",
       "      <td>1506</td>\n",
       "      <td>yes</td>\n",
       "      <td>no</td>\n",
       "      <td>unknown</td>\n",
       "      <td>5</td>\n",
       "      <td>may</td>\n",
       "      <td>92</td>\n",
       "      <td>1</td>\n",
       "      <td>-1</td>\n",
       "      <td>0</td>\n",
       "      <td>unknown</td>\n",
       "      <td>no</td>\n",
       "    </tr>\n",
       "    <tr>\n",
       "      <th>4</th>\n",
       "      <td>33</td>\n",
       "      <td>unknown</td>\n",
       "      <td>0</td>\n",
       "      <td>single</td>\n",
       "      <td>unknown</td>\n",
       "      <td>no</td>\n",
       "      <td>no</td>\n",
       "      <td>1</td>\n",
       "      <td>no</td>\n",
       "      <td>no</td>\n",
       "      <td>unknown</td>\n",
       "      <td>5</td>\n",
       "      <td>may</td>\n",
       "      <td>198</td>\n",
       "      <td>1</td>\n",
       "      <td>-1</td>\n",
       "      <td>0</td>\n",
       "      <td>unknown</td>\n",
       "      <td>no</td>\n",
       "    </tr>\n",
       "  </tbody>\n",
       "</table>\n",
       "</div>"
      ],
      "text/plain": [
       "   age           job  salary  marital  education targeted default  balance  \\\n",
       "0   58    management  100000  married   tertiary      yes      no     2143   \n",
       "1   44    technician   60000   single  secondary      yes      no       29   \n",
       "2   33  entrepreneur  120000  married  secondary      yes      no        2   \n",
       "3   47   blue-collar   20000  married    unknown       no      no     1506   \n",
       "4   33       unknown       0   single    unknown       no      no        1   \n",
       "\n",
       "  housing loan  contact  day month  duration  campaign  pdays  previous  \\\n",
       "0     yes   no  unknown    5   may       261         1     -1         0   \n",
       "1     yes   no  unknown    5   may       151         1     -1         0   \n",
       "2     yes  yes  unknown    5   may        76         1     -1         0   \n",
       "3     yes   no  unknown    5   may        92         1     -1         0   \n",
       "4      no   no  unknown    5   may       198         1     -1         0   \n",
       "\n",
       "  poutcome response  \n",
       "0  unknown       no  \n",
       "1  unknown       no  \n",
       "2  unknown       no  \n",
       "3  unknown       no  \n",
       "4  unknown       no  "
      ]
     },
     "execution_count": 3,
     "metadata": {},
     "output_type": "execute_result"
    }
   ],
   "source": [
    "df.head()"
   ]
  },
  {
   "cell_type": "code",
   "execution_count": 4,
   "id": "e635896b",
   "metadata": {},
   "outputs": [
    {
     "data": {
      "text/html": [
       "<div>\n",
       "<style scoped>\n",
       "    .dataframe tbody tr th:only-of-type {\n",
       "        vertical-align: middle;\n",
       "    }\n",
       "\n",
       "    .dataframe tbody tr th {\n",
       "        vertical-align: top;\n",
       "    }\n",
       "\n",
       "    .dataframe thead th {\n",
       "        text-align: right;\n",
       "    }\n",
       "</style>\n",
       "<table border=\"1\" class=\"dataframe\">\n",
       "  <thead>\n",
       "    <tr style=\"text-align: right;\">\n",
       "      <th></th>\n",
       "      <th>age</th>\n",
       "      <th>salary</th>\n",
       "      <th>balance</th>\n",
       "      <th>day</th>\n",
       "      <th>duration</th>\n",
       "      <th>campaign</th>\n",
       "      <th>pdays</th>\n",
       "      <th>previous</th>\n",
       "    </tr>\n",
       "  </thead>\n",
       "  <tbody>\n",
       "    <tr>\n",
       "      <th>count</th>\n",
       "      <td>45211.000000</td>\n",
       "      <td>45211.000000</td>\n",
       "      <td>45211.000000</td>\n",
       "      <td>45211.000000</td>\n",
       "      <td>45211.000000</td>\n",
       "      <td>45211.000000</td>\n",
       "      <td>45211.000000</td>\n",
       "      <td>45211.000000</td>\n",
       "    </tr>\n",
       "    <tr>\n",
       "      <th>mean</th>\n",
       "      <td>40.936210</td>\n",
       "      <td>57006.171065</td>\n",
       "      <td>1362.272058</td>\n",
       "      <td>15.806419</td>\n",
       "      <td>258.163080</td>\n",
       "      <td>2.763841</td>\n",
       "      <td>40.197828</td>\n",
       "      <td>0.580323</td>\n",
       "    </tr>\n",
       "    <tr>\n",
       "      <th>std</th>\n",
       "      <td>10.618762</td>\n",
       "      <td>32085.718415</td>\n",
       "      <td>3044.765829</td>\n",
       "      <td>8.322476</td>\n",
       "      <td>257.527812</td>\n",
       "      <td>3.098021</td>\n",
       "      <td>100.128746</td>\n",
       "      <td>2.303441</td>\n",
       "    </tr>\n",
       "    <tr>\n",
       "      <th>min</th>\n",
       "      <td>18.000000</td>\n",
       "      <td>0.000000</td>\n",
       "      <td>-8019.000000</td>\n",
       "      <td>1.000000</td>\n",
       "      <td>0.000000</td>\n",
       "      <td>1.000000</td>\n",
       "      <td>-1.000000</td>\n",
       "      <td>0.000000</td>\n",
       "    </tr>\n",
       "    <tr>\n",
       "      <th>25%</th>\n",
       "      <td>33.000000</td>\n",
       "      <td>20000.000000</td>\n",
       "      <td>72.000000</td>\n",
       "      <td>8.000000</td>\n",
       "      <td>103.000000</td>\n",
       "      <td>1.000000</td>\n",
       "      <td>-1.000000</td>\n",
       "      <td>0.000000</td>\n",
       "    </tr>\n",
       "    <tr>\n",
       "      <th>50%</th>\n",
       "      <td>39.000000</td>\n",
       "      <td>60000.000000</td>\n",
       "      <td>448.000000</td>\n",
       "      <td>16.000000</td>\n",
       "      <td>180.000000</td>\n",
       "      <td>2.000000</td>\n",
       "      <td>-1.000000</td>\n",
       "      <td>0.000000</td>\n",
       "    </tr>\n",
       "    <tr>\n",
       "      <th>75%</th>\n",
       "      <td>48.000000</td>\n",
       "      <td>70000.000000</td>\n",
       "      <td>1428.000000</td>\n",
       "      <td>21.000000</td>\n",
       "      <td>319.000000</td>\n",
       "      <td>3.000000</td>\n",
       "      <td>-1.000000</td>\n",
       "      <td>0.000000</td>\n",
       "    </tr>\n",
       "    <tr>\n",
       "      <th>max</th>\n",
       "      <td>95.000000</td>\n",
       "      <td>120000.000000</td>\n",
       "      <td>102127.000000</td>\n",
       "      <td>31.000000</td>\n",
       "      <td>4918.000000</td>\n",
       "      <td>63.000000</td>\n",
       "      <td>871.000000</td>\n",
       "      <td>275.000000</td>\n",
       "    </tr>\n",
       "  </tbody>\n",
       "</table>\n",
       "</div>"
      ],
      "text/plain": [
       "                age         salary        balance           day      duration  \\\n",
       "count  45211.000000   45211.000000   45211.000000  45211.000000  45211.000000   \n",
       "mean      40.936210   57006.171065    1362.272058     15.806419    258.163080   \n",
       "std       10.618762   32085.718415    3044.765829      8.322476    257.527812   \n",
       "min       18.000000       0.000000   -8019.000000      1.000000      0.000000   \n",
       "25%       33.000000   20000.000000      72.000000      8.000000    103.000000   \n",
       "50%       39.000000   60000.000000     448.000000     16.000000    180.000000   \n",
       "75%       48.000000   70000.000000    1428.000000     21.000000    319.000000   \n",
       "max       95.000000  120000.000000  102127.000000     31.000000   4918.000000   \n",
       "\n",
       "           campaign         pdays      previous  \n",
       "count  45211.000000  45211.000000  45211.000000  \n",
       "mean       2.763841     40.197828      0.580323  \n",
       "std        3.098021    100.128746      2.303441  \n",
       "min        1.000000     -1.000000      0.000000  \n",
       "25%        1.000000     -1.000000      0.000000  \n",
       "50%        2.000000     -1.000000      0.000000  \n",
       "75%        3.000000     -1.000000      0.000000  \n",
       "max       63.000000    871.000000    275.000000  "
      ]
     },
     "execution_count": 4,
     "metadata": {},
     "output_type": "execute_result"
    }
   ],
   "source": [
    "df.describe()"
   ]
  },
  {
   "cell_type": "markdown",
   "id": "7ea1f488",
   "metadata": {},
   "source": [
    "#here we have got the mean and median value of numerical values but here in (pdays mean, min,25,50,75 is nearby -1 but max value is around 871 which makes clear that the outlier is present also previous column is also looking fishy"
   ]
  },
  {
   "cell_type": "code",
   "execution_count": 5,
   "id": "956631ce",
   "metadata": {},
   "outputs": [
    {
     "name": "stdout",
     "output_type": "stream",
     "text": [
      "<class 'pandas.core.frame.DataFrame'>\n",
      "RangeIndex: 45211 entries, 0 to 45210\n",
      "Data columns (total 19 columns):\n",
      " #   Column     Non-Null Count  Dtype \n",
      "---  ------     --------------  ----- \n",
      " 0   age        45211 non-null  int64 \n",
      " 1   job        45211 non-null  object\n",
      " 2   salary     45211 non-null  int64 \n",
      " 3   marital    45211 non-null  object\n",
      " 4   education  45211 non-null  object\n",
      " 5   targeted   45211 non-null  object\n",
      " 6   default    45211 non-null  object\n",
      " 7   balance    45211 non-null  int64 \n",
      " 8   housing    45211 non-null  object\n",
      " 9   loan       45211 non-null  object\n",
      " 10  contact    45211 non-null  object\n",
      " 11  day        45211 non-null  int64 \n",
      " 12  month      45211 non-null  object\n",
      " 13  duration   45211 non-null  int64 \n",
      " 14  campaign   45211 non-null  int64 \n",
      " 15  pdays      45211 non-null  int64 \n",
      " 16  previous   45211 non-null  int64 \n",
      " 17  poutcome   45211 non-null  object\n",
      " 18  response   45211 non-null  object\n",
      "dtypes: int64(8), object(11)\n",
      "memory usage: 6.6+ MB\n"
     ]
    }
   ],
   "source": [
    "df.info()"
   ]
  },
  {
   "cell_type": "code",
   "execution_count": 6,
   "id": "180193e8",
   "metadata": {},
   "outputs": [
    {
     "data": {
      "text/plain": [
       "(45211, 19)"
      ]
     },
     "execution_count": 6,
     "metadata": {},
     "output_type": "execute_result"
    }
   ],
   "source": [
    "df.shape"
   ]
  },
  {
   "cell_type": "code",
   "execution_count": 7,
   "id": "dbb3463c",
   "metadata": {},
   "outputs": [
    {
     "data": {
      "text/plain": [
       "count    45211.000000\n",
       "mean        40.197828\n",
       "std        100.128746\n",
       "min         -1.000000\n",
       "25%         -1.000000\n",
       "50%         -1.000000\n",
       "75%         -1.000000\n",
       "max        871.000000\n",
       "Name: pdays, dtype: float64"
      ]
     },
     "execution_count": 7,
     "metadata": {},
     "output_type": "execute_result"
    }
   ],
   "source": [
    "df[\"pdays\"].describe()      "
   ]
  },
  {
   "cell_type": "markdown",
   "id": "5c558bec",
   "metadata": {},
   "source": [
    "#here mean value is 40 std is 100 it and max value is 871 so its clear that outlier is present and we need to clear that \n",
    "\n",
    "Here the pdays cannot be -negative, so it should be made to 0"
   ]
  },
  {
   "cell_type": "code",
   "execution_count": 8,
   "id": "8b8fe936",
   "metadata": {},
   "outputs": [
    {
     "data": {
      "text/plain": [
       "count     45211.000000\n",
       "mean       1362.272058\n",
       "std        3044.765829\n",
       "min       -8019.000000\n",
       "25%          72.000000\n",
       "50%         448.000000\n",
       "75%        1428.000000\n",
       "max      102127.000000\n",
       "Name: balance, dtype: float64"
      ]
     },
     "execution_count": 8,
     "metadata": {},
     "output_type": "execute_result"
    }
   ],
   "source": [
    "df[\"balance\"].describe()"
   ]
  },
  {
   "cell_type": "markdown",
   "id": "8887d618",
   "metadata": {},
   "source": [
    "here 75% suggest that 75% values are below or equal to 1428 and mean and std show that outliers are present so we need to c\n",
    "clear this outliers"
   ]
  },
  {
   "cell_type": "markdown",
   "id": "0d6961ad",
   "metadata": {},
   "source": [
    "here the columns\n",
    "\n",
    "previous\n",
    "\n",
    "campaign\n",
    "\n",
    "duration\n",
    "\n",
    "balance\n",
    "\n",
    "pdays \n",
    "have an outliers"
   ]
  },
  {
   "cell_type": "code",
   "execution_count": 12,
   "id": "77971c1a",
   "metadata": {},
   "outputs": [
    {
     "data": {
      "text/plain": [
       "age          0.0\n",
       "job          0.0\n",
       "salary       0.0\n",
       "marital      0.0\n",
       "education    0.0\n",
       "targeted     0.0\n",
       "default      0.0\n",
       "balance      0.0\n",
       "housing      0.0\n",
       "loan         0.0\n",
       "contact      0.0\n",
       "day          0.0\n",
       "month        0.0\n",
       "duration     0.0\n",
       "campaign     0.0\n",
       "pdays        0.0\n",
       "previous     0.0\n",
       "poutcome     0.0\n",
       "response     0.0\n",
       "dtype: float64"
      ]
     },
     "execution_count": 12,
     "metadata": {},
     "output_type": "execute_result"
    }
   ],
   "source": [
    "#here first we will check for the null values\n",
    "df.isnull().sum()/df.shape[0]*100"
   ]
  },
  {
   "cell_type": "markdown",
   "id": "c9b66f87",
   "metadata": {},
   "source": [
    "here the null values are not present "
   ]
  },
  {
   "cell_type": "code",
   "execution_count": 13,
   "id": "a463fff9",
   "metadata": {},
   "outputs": [
    {
     "data": {
      "text/plain": [
       "<function matplotlib.pyplot.tight_layout(*, pad=1.08, h_pad=None, w_pad=None, rect=None)>"
      ]
     },
     "execution_count": 13,
     "metadata": {},
     "output_type": "execute_result"
    },
    {
     "data": {
      "image/png": "[encoded data removed]",
      "text/plain": [
       "<Figure size 1440x2160 with 8 Axes>"
      ]
     },
     "metadata": {
      "needs_background": "light"
     },
     "output_type": "display_data"
    }
   ],
   "source": [
    "# now before moving forward we will analyze again by using pairplot \n",
    "plt.figure(figsize = (20,30))\n",
    "x=1\n",
    "for column in df.describe().columns:\n",
    "    plt.subplot(8,3,x)\n",
    "    sns.boxplot(df[column])\n",
    "    x+=1\n",
    "plt.tight_layout"
   ]
  },
  {
   "cell_type": "markdown",
   "id": "804859d3",
   "metadata": {},
   "source": [
    "# Removing an outliers\n",
    "\n",
    "we are not going to remove the outliers instead of that we are going to fill the outlier values by lower and upper value because the outliers are more and remvoing them affect the data"
   ]
  },
  {
   "cell_type": "code",
   "execution_count": 14,
   "id": "f406c232",
   "metadata": {},
   "outputs": [],
   "source": [
    "# previous\n",
    "#q1 = df.previous.quantile(0.25)\n",
    "#q3 = df.previous.quantile(0.75)\n",
    "#iqr = q3-q1\n",
    "#lower = q1-1.5*iqr\n",
    "#upper = q3+1.5*iqr"
   ]
  },
  {
   "cell_type": "code",
   "execution_count": 15,
   "id": "0bf8fb37",
   "metadata": {},
   "outputs": [],
   "source": [
    "#df[\"previous\"] = np.where(df[\"previous\"]>upper,upper,np.where(df[\"previous\"]<lower,lower,df[\"previous\"]))"
   ]
  },
  {
   "cell_type": "code",
   "execution_count": 16,
   "id": "7c4501e1",
   "metadata": {},
   "outputs": [],
   "source": [
    "#sns.boxplot(y = \"previous\",data = df)"
   ]
  },
  {
   "cell_type": "markdown",
   "id": "aa2ba954",
   "metadata": {},
   "source": [
    "#here as we seee that after doing this the result has changed completely and we lost the data completely, so we need to change out approach\n",
    "and instead of filling with lower and upper values we need to fill it with 0 or na values but here already the mean, 25,50,75% is 0, this proves that we need to keep it untouched."
   ]
  },
  {
   "cell_type": "code",
   "execution_count": 17,
   "id": "f3067f6e",
   "metadata": {},
   "outputs": [],
   "source": [
    "#Campaign\n",
    "q1 = df.campaign.quantile(0.25)\n",
    "q3 = df.campaign.quantile(0.75)\n",
    "iqr = q3-q1\n",
    "lower = q1-1.5*iqr\n",
    "upper = q3+1.5*iqr"
   ]
  },
  {
   "cell_type": "code",
   "execution_count": 18,
   "id": "7feb3d33",
   "metadata": {},
   "outputs": [],
   "source": [
    "df[\"campaign\"] = np.where(df[\"campaign\"]>upper,upper,np.where(df[\"campaign\"]<lower,lower,df[\"campaign\"]))"
   ]
  },
  {
   "cell_type": "code",
   "execution_count": 19,
   "id": "7647e162",
   "metadata": {},
   "outputs": [
    {
     "data": {
      "text/plain": [
       "<AxesSubplot:ylabel='campaign'>"
      ]
     },
     "execution_count": 19,
     "metadata": {},
     "output_type": "execute_result"
    },
    {
     "data": {
      "image/png": "[encoded data removed]",
      "text/plain": [
       "<Figure size 432x288 with 1 Axes>"
      ]
     },
     "metadata": {
      "needs_background": "light"
     },
     "output_type": "display_data"
    }
   ],
   "source": [
    "sns.boxplot(y = \"campaign\",data = df)"
   ]
  },
  {
   "cell_type": "code",
   "execution_count": 20,
   "id": "b801e606",
   "metadata": {},
   "outputs": [],
   "source": [
    "#now here we are done with campaign and now we will solve duration\n",
    "\n",
    "#duration\n",
    "q1 = df.duration.quantile(0.25)\n",
    "q3 = df.duration.quantile(0.75)\n",
    "iqr = q3-q1\n",
    "lower = q1-1.5*iqr\n",
    "upper = q3+1.5*iqr\n"
   ]
  },
  {
   "cell_type": "code",
   "execution_count": 21,
   "id": "d803373a",
   "metadata": {},
   "outputs": [],
   "source": [
    "df[\"duration\"] = np.where(df[\"duration\"]>upper,upper,np.where(df[\"duration\"]<lower,lower,df[\"duration\"]))"
   ]
  },
  {
   "cell_type": "code",
   "execution_count": 22,
   "id": "03cff8a6",
   "metadata": {
    "scrolled": true
   },
   "outputs": [
    {
     "data": {
      "text/plain": [
       "<AxesSubplot:ylabel='duration'>"
      ]
     },
     "execution_count": 22,
     "metadata": {},
     "output_type": "execute_result"
    },
    {
     "data": {
      "image/png": "[encoded data removed]",
      "text/plain": [
       "<Figure size 432x288 with 1 Axes>"
      ]
     },
     "metadata": {
      "needs_background": "light"
     },
     "output_type": "display_data"
    }
   ],
   "source": [
    "sns.boxplot(y = \"duration\",data = df)"
   ]
  },
  {
   "cell_type": "markdown",
   "id": "509630c2",
   "metadata": {},
   "source": [
    "here we have removed the outliers of duration now we will remove the outliers of \n",
    "\n",
    "balance"
   ]
  },
  {
   "cell_type": "code",
   "execution_count": 23,
   "id": "3be55bc9",
   "metadata": {},
   "outputs": [],
   "source": [
    "#balance\n",
    "q1 = df.balance.quantile(0.25)\n",
    "q3 = df.balance.quantile(0.75)\n",
    "iqr = q3-q1\n",
    "lower = q1-1.5*iqr\n",
    "upper = q3+1.5*iqr"
   ]
  },
  {
   "cell_type": "code",
   "execution_count": 24,
   "id": "454a61d7",
   "metadata": {},
   "outputs": [],
   "source": [
    "df[\"balance\"] = np.where(df[\"balance\"]>upper,upper,np.where(df[\"balance\"]<lower,lower,df[\"balance\"]))"
   ]
  },
  {
   "cell_type": "code",
   "execution_count": 25,
   "id": "7197f843",
   "metadata": {},
   "outputs": [
    {
     "data": {
      "text/plain": [
       "<AxesSubplot:ylabel='balance'>"
      ]
     },
     "execution_count": 25,
     "metadata": {},
     "output_type": "execute_result"
    },
    {
     "data": {
      "image/png": "[encoded data removed]",
      "text/plain": [
       "<Figure size 432x288 with 1 Axes>"
      ]
     },
     "metadata": {
      "needs_background": "light"
     },
     "output_type": "display_data"
    }
   ],
   "source": [
    "sns.boxplot(y = \"balance\",data = df)"
   ]
  },
  {
   "cell_type": "code",
   "execution_count": 26,
   "id": "25aa34e4",
   "metadata": {},
   "outputs": [],
   "source": [
    "#q1 = df.pdays.quantile(0.25)\n",
    "#q3 = df.pdays.quantile(0.75)\n",
    "#iqr = q3-q1\n",
    "#lower = q1-1.5*iqr\n",
    "#upper = q3+1.5*iqr"
   ]
  },
  {
   "cell_type": "code",
   "execution_count": 27,
   "id": "1dc2201a",
   "metadata": {},
   "outputs": [],
   "source": [
    "#df[\"pdays\"] = np.where(df[\"pdays\"]>upper,upper,np.where(df[\"pdays\"]<lower,lower,df[\"pdays\"]))"
   ]
  },
  {
   "cell_type": "code",
   "execution_count": 28,
   "id": "a158773b",
   "metadata": {},
   "outputs": [],
   "source": [
    "#sns.boxplot(y = \"pdays\", data = df)"
   ]
  },
  {
   "cell_type": "markdown",
   "id": "bfae98e9",
   "metadata": {},
   "source": [
    "#now we have cleared all the outliers value and filled them with lower and uppper values, so there are not more null and \n",
    "outlier values, now we will see the barplot and conclude our result by which which factor out result is changing\n",
    "\n",
    "But here the result has changed completely and it has became -1 which says that it is wrong approach, so we need to remove \n",
    "-1 and fill it with zero or na values\n",
    "\n",
    "i.e we will drop the values which are less than zero \n"
   ]
  },
  {
   "cell_type": "code",
   "execution_count": 28,
   "id": "cf92ddd1",
   "metadata": {},
   "outputs": [],
   "source": [
    "df.drop(df[df['pdays']<0].index, inplace = True)"
   ]
  },
  {
   "cell_type": "code",
   "execution_count": 29,
   "id": "b95f70e7",
   "metadata": {},
   "outputs": [
    {
     "data": {
      "text/plain": [
       "count    8257.000000\n",
       "mean      224.577692\n",
       "std       115.344035\n",
       "min         1.000000\n",
       "25%       133.000000\n",
       "50%       194.000000\n",
       "75%       327.000000\n",
       "max       871.000000\n",
       "Name: pdays, dtype: float64"
      ]
     },
     "execution_count": 29,
     "metadata": {},
     "output_type": "execute_result"
    }
   ],
   "source": [
    "df.pdays.describe()"
   ]
  },
  {
   "cell_type": "code",
   "execution_count": 30,
   "id": "bb112754",
   "metadata": {},
   "outputs": [
    {
     "data": {
      "text/plain": [
       "<AxesSubplot:ylabel='pdays'>"
      ]
     },
     "execution_count": 30,
     "metadata": {},
     "output_type": "execute_result"
    },
    {
     "data": {
      "image/png": "[encoded data removed]",
      "text/plain": [
       "<Figure size 432x288 with 1 Axes>"
      ]
     },
     "metadata": {
      "needs_background": "light"
     },
     "output_type": "display_data"
    }
   ],
   "source": [
    "sns.boxplot(y= 'pdays',data=df)"
   ]
  },
  {
   "cell_type": "markdown",
   "id": "330df1e1",
   "metadata": {},
   "source": [
    "#here after making the boxplot of pdays we see that the outliers are present"
   ]
  },
  {
   "cell_type": "markdown",
   "id": "7b2fcf37",
   "metadata": {},
   "source": [
    "analyze : Here after finding that the values are wrong we limited ourself within zero and now we see that there is high with\n",
    "in the values. the mean,min,25%,75% have changed significantly"
   ]
  },
  {
   "cell_type": "code",
   "execution_count": 31,
   "id": "c086adaa",
   "metadata": {},
   "outputs": [
    {
     "data": {
      "text/plain": [
       "<AxesSubplot:ylabel='education'>"
      ]
     },
     "execution_count": 31,
     "metadata": {},
     "output_type": "execute_result"
    },
    {
     "data": {
      "image/png": "[encoded data removed]",
      "text/plain": [
       "<Figure size 432x288 with 1 Axes>"
      ]
     },
     "metadata": {
      "needs_background": "light"
     },
     "output_type": "display_data"
    }
   ],
   "source": [
    "#now we will plot the graph for analyzing the balance and education difference\n",
    "df.groupby(['education'])['balance'].median().plot.barh()"
   ]
  },
  {
   "cell_type": "code",
   "execution_count": 33,
   "id": "aa45488d",
   "metadata": {},
   "outputs": [
    {
     "data": {
      "text/plain": [
       "no     0.883015\n",
       "yes    0.116985\n",
       "Name: response, dtype: float64"
      ]
     },
     "execution_count": 33,
     "metadata": {},
     "output_type": "execute_result"
    }
   ],
   "source": [
    "#here we will convert categorical values into numerical values\n",
    "df.response.value_counts(normalize = True)    #"
   ]
  },
  {
   "cell_type": "markdown",
   "id": "c0e8ff3c",
   "metadata": {},
   "source": [
    "#here we are setting normalize = true to get the value in percentage\n",
    "\n",
    "here we have got the percentage value of response, so we can replace them with 0 and 1 instead of using pd.get_dummies"
   ]
  },
  {
   "cell_type": "code",
   "execution_count": 34,
   "id": "84c7a11e",
   "metadata": {},
   "outputs": [],
   "source": [
    "df.replace({'response':{'yes':1,'no':0}},inplace= True)        "
   ]
  },
  {
   "cell_type": "code",
   "execution_count": 35,
   "id": "26bc81cf",
   "metadata": {},
   "outputs": [
    {
     "data": {
      "text/plain": [
       "0    39922\n",
       "1     5289\n",
       "Name: response, dtype: int64"
      ]
     },
     "execution_count": 35,
     "metadata": {},
     "output_type": "execute_result"
    }
   ],
   "source": [
    "df.response.value_counts()"
   ]
  },
  {
   "cell_type": "markdown",
   "id": "3b79b060",
   "metadata": {},
   "source": [
    "# as we all know that we can perform bivarite analysis in foll ways\n",
    "categorical to categorical\n",
    "\n",
    "numerical to numerical\n",
    "\n",
    "categorical to numerical or vice versa"
   ]
  },
  {
   "cell_type": "code",
   "execution_count": 36,
   "id": "6a8692bd",
   "metadata": {},
   "outputs": [
    {
     "data": {
      "text/plain": [
       "<AxesSubplot:xlabel='marital', ylabel='response'>"
      ]
     },
     "execution_count": 36,
     "metadata": {},
     "output_type": "execute_result"
    },
    {
     "data": {
      "image/png": "[encoded data removed]",
      "text/plain": [
       "<Figure size 432x288 with 1 Axes>"
      ]
     },
     "metadata": {
      "needs_background": "light"
     },
     "output_type": "display_data"
    }
   ],
   "source": [
    "sns.barplot(x ='marital', y = 'response', data = df )"
   ]
  },
  {
   "cell_type": "code",
   "execution_count": 37,
   "id": "9f0f9250",
   "metadata": {},
   "outputs": [
    {
     "data": {
      "text/plain": [
       "<AxesSubplot:xlabel='education', ylabel='response'>"
      ]
     },
     "execution_count": 37,
     "metadata": {},
     "output_type": "execute_result"
    },
    {
     "data": {
      "image/png": "[encoded data removed]",
      "text/plain": [
       "<Figure size 432x288 with 1 Axes>"
      ]
     },
     "metadata": {
      "needs_background": "light"
     },
     "output_type": "display_data"
    }
   ],
   "source": [
    "sns.barplot(x = 'education', y = 'response', data = df)"
   ]
  },
  {
   "cell_type": "code",
   "execution_count": 38,
   "id": "25195529",
   "metadata": {},
   "outputs": [
    {
     "data": {
      "text/plain": [
       "<AxesSubplot:xlabel='targeted', ylabel='response'>"
      ]
     },
     "execution_count": 38,
     "metadata": {},
     "output_type": "execute_result"
    },
    {
     "data": {
      "image/png": "[encoded data removed]",
      "text/plain": [
       "<Figure size 432x288 with 1 Axes>"
      ]
     },
     "metadata": {
      "needs_background": "light"
     },
     "output_type": "display_data"
    }
   ],
   "source": [
    "sns.barplot(x = 'targeted', y = \"response\", data = df)"
   ]
  },
  {
   "cell_type": "code",
   "execution_count": 39,
   "id": "d1eeb9d5",
   "metadata": {},
   "outputs": [
    {
     "data": {
      "text/plain": [
       "<AxesSubplot:xlabel='default', ylabel='response'>"
      ]
     },
     "execution_count": 39,
     "metadata": {},
     "output_type": "execute_result"
    },
    {
     "data": {
      "image/png": "[encoded data removed]",
      "text/plain": [
       "<Figure size 432x288 with 1 Axes>"
      ]
     },
     "metadata": {
      "needs_background": "light"
     },
     "output_type": "display_data"
    }
   ],
   "source": [
    "sns.barplot(x = 'default', y = 'response', data = df)"
   ]
  },
  {
   "cell_type": "code",
   "execution_count": 40,
   "id": "a723f8b7",
   "metadata": {},
   "outputs": [
    {
     "data": {
      "text/plain": [
       "<AxesSubplot:xlabel='housing', ylabel='response'>"
      ]
     },
     "execution_count": 40,
     "metadata": {},
     "output_type": "execute_result"
    },
    {
     "data": {
      "image/png": "[encoded data removed]",
      "text/plain": [
       "<Figure size 432x288 with 1 Axes>"
      ]
     },
     "metadata": {
      "needs_background": "light"
     },
     "output_type": "display_data"
    }
   ],
   "source": [
    "sns.barplot(x = 'housing', y = 'response', data = df)"
   ]
  },
  {
   "cell_type": "code",
   "execution_count": 41,
   "id": "6a646077",
   "metadata": {},
   "outputs": [
    {
     "data": {
      "text/plain": [
       "<AxesSubplot:xlabel='loan', ylabel='response'>"
      ]
     },
     "execution_count": 41,
     "metadata": {},
     "output_type": "execute_result"
    },
    {
     "data": {
      "image/png": "[encoded data removed]",
      "text/plain": [
       "<Figure size 432x288 with 1 Axes>"
      ]
     },
     "metadata": {
      "needs_background": "light"
     },
     "output_type": "display_data"
    }
   ],
   "source": [
    "sns.barplot(x = 'loan', y = 'response', data = df)"
   ]
  },
  {
   "cell_type": "code",
   "execution_count": 42,
   "id": "e9500341",
   "metadata": {},
   "outputs": [
    {
     "data": {
      "text/plain": [
       "<AxesSubplot:xlabel='contact', ylabel='response'>"
      ]
     },
     "execution_count": 42,
     "metadata": {},
     "output_type": "execute_result"
    },
    {
     "data": {
      "image/png": "[encoded data removed]",
      "text/plain": [
       "<Figure size 432x288 with 1 Axes>"
      ]
     },
     "metadata": {
      "needs_background": "light"
     },
     "output_type": "display_data"
    }
   ],
   "source": [
    "sns.barplot(x = 'contact', y = 'response', data = df)"
   ]
  },
  {
   "cell_type": "code",
   "execution_count": 43,
   "id": "91acd281",
   "metadata": {},
   "outputs": [
    {
     "data": {
      "text/plain": [
       "<AxesSubplot:xlabel='month', ylabel='response'>"
      ]
     },
     "execution_count": 43,
     "metadata": {},
     "output_type": "execute_result"
    },
    {
     "data": {
      "image/png": "[encoded data removed]",
      "text/plain": [
       "<Figure size 432x288 with 1 Axes>"
      ]
     },
     "metadata": {
      "needs_background": "light"
     },
     "output_type": "display_data"
    }
   ],
   "source": [
    "sns.barplot(x='month', y = 'response', data = df)"
   ]
  },
  {
   "cell_type": "code",
   "execution_count": 44,
   "id": "87f42386",
   "metadata": {},
   "outputs": [
    {
     "data": {
      "text/plain": [
       "<AxesSubplot:xlabel='poutcome', ylabel='response'>"
      ]
     },
     "execution_count": 44,
     "metadata": {},
     "output_type": "execute_result"
    },
    {
     "data": {
      "image/png": "[encoded data removed]",
      "text/plain": [
       "<Figure size 432x288 with 1 Axes>"
      ]
     },
     "metadata": {
      "needs_background": "light"
     },
     "output_type": "display_data"
    }
   ],
   "source": [
    "sns.barplot(x = 'poutcome',y= 'response',data = df)"
   ]
  },
  {
   "cell_type": "code",
   "execution_count": 45,
   "id": "0fe0b246",
   "metadata": {},
   "outputs": [
    {
     "data": {
      "text/plain": [
       "array(['management', 'technician', 'entrepreneur', 'blue-collar',\n",
       "       'unknown', 'retired', 'admin.', 'services', 'self-employed',\n",
       "       'unemployed', 'housemaid', 'student'], dtype=object)"
      ]
     },
     "execution_count": 45,
     "metadata": {},
     "output_type": "execute_result"
    }
   ],
   "source": [
    "df[\"job\"].unique()"
   ]
  },
  {
   "cell_type": "code",
   "execution_count": 35,
   "id": "dc4b3a8d",
   "metadata": {},
   "outputs": [
    {
     "data": {
      "text/plain": [
       "<AxesSubplot:xlabel='job', ylabel='count'>"
      ]
     },
     "execution_count": 35,
     "metadata": {},
     "output_type": "execute_result"
    },
    {
     "data": {
      "image/png": "[encoded data removed]",
      "text/plain": [
       "<Figure size 432x288 with 1 Axes>"
      ]
     },
     "metadata": {
      "needs_background": "light"
     },
     "output_type": "display_data"
    }
   ],
   "source": [
    "#now we will drop that previous response column and add new response column of numerical values\n",
    "sns.countplot(data = df, x = \"job\",hue = \"response\")"
   ]
  },
  {
   "cell_type": "code",
   "execution_count": 47,
   "id": "fb4f5b20",
   "metadata": {},
   "outputs": [],
   "source": [
    "#here we can see that 90% the response is \"no \" in every column, so we ca drop this because it doesn't matter much"
   ]
  },
  {
   "cell_type": "code",
   "execution_count": 48,
   "id": "1b9799c7",
   "metadata": {},
   "outputs": [
    {
     "data": {
      "text/plain": [
       "<AxesSubplot:xlabel='marital', ylabel='count'>"
      ]
     },
     "execution_count": 48,
     "metadata": {},
     "output_type": "execute_result"
    },
    {
     "data": {
      "image/png": "[encoded data removed]",
      "text/plain": [
       "<Figure size 432x288 with 1 Axes>"
      ]
     },
     "metadata": {
      "needs_background": "light"
     },
     "output_type": "display_data"
    }
   ],
   "source": [
    "# now we will see the visualization of marital\n",
    "sns.countplot(data = df, x = \"marital\", hue = \"response\")"
   ]
  },
  {
   "cell_type": "markdown",
   "id": "d7b53920",
   "metadata": {},
   "source": [
    "#here also we see that the maximum response is \"no\" but as per graph we can see that married people has moere response of yes \n",
    "\"than single and the least response is of divorced people, so we will drop this column also"
   ]
  },
  {
   "cell_type": "code",
   "execution_count": 49,
   "id": "52bcc9f8",
   "metadata": {},
   "outputs": [
    {
     "data": {
      "text/plain": [
       "<AxesSubplot:xlabel='education', ylabel='count'>"
      ]
     },
     "execution_count": 49,
     "metadata": {},
     "output_type": "execute_result"
    },
    {
     "data": {
      "image/png": "[encoded data removed]",
      "text/plain": [
       "<Figure size 432x288 with 1 Axes>"
      ]
     },
     "metadata": {
      "needs_background": "light"
     },
     "output_type": "display_data"
    }
   ],
   "source": [
    "# now we will visualize with education\n",
    "sns.countplot(data = df,x = \"education\", hue = \"response\")"
   ]
  },
  {
   "cell_type": "markdown",
   "id": "b1d26a9c",
   "metadata": {},
   "source": [
    "here also its clear than 90% respons no we can drop that too here the secondary education students and given more no response "
   ]
  },
  {
   "cell_type": "code",
   "execution_count": 50,
   "id": "03fe968e",
   "metadata": {},
   "outputs": [
    {
     "data": {
      "text/plain": [
       "<AxesSubplot:xlabel='poutcome', ylabel='count'>"
      ]
     },
     "execution_count": 50,
     "metadata": {},
     "output_type": "execute_result"
    },
    {
     "data": {
      "image/png": "[encoded data removed]",
      "text/plain": [
       "<Figure size 432x288 with 1 Axes>"
      ]
     },
     "metadata": {
      "needs_background": "light"
     },
     "output_type": "display_data"
    }
   ],
   "source": [
    "# now we will visualize about poutcome\n",
    "sns.countplot(data = df,x = \"poutcome\", hue=\"response\")"
   ]
  },
  {
   "cell_type": "code",
   "execution_count": null,
   "id": "cd84f018",
   "metadata": {},
   "outputs": [],
   "source": []
  },
  {
   "cell_type": "code",
   "execution_count": 51,
   "id": "067768ff",
   "metadata": {},
   "outputs": [
    {
     "data": {
      "image/png": "[encoded data removed]",
      "text/plain": [
       "<Figure size 432x288 with 2 Axes>"
      ]
     },
     "metadata": {
      "needs_background": "light"
     },
     "output_type": "display_data"
    }
   ],
   "source": [
    "sns.heatmap(df.corr(),annot = True,cmap='Blues')\n",
    "plt.title(\"corelation\")\n",
    "plt.show()\n",
    "\n",
    "\n",
    "#we conclude that pdays are not much related but poutcome is related"
   ]
  },
  {
   "cell_type": "markdown",
   "id": "f2091811",
   "metadata": {},
   "source": [
    "now we need to convert the categorical values into numerical values and for that we can use\n",
    "\n",
    "label encoder\n",
    "\n",
    "onehot encoder\n",
    "\n",
    "pd.get_dummies"
   ]
  },
  {
   "cell_type": "code",
   "execution_count": 52,
   "id": "ba3fb7ed",
   "metadata": {},
   "outputs": [],
   "source": [
    "#we will use label encoder because in pd.get dummies we need to first convert the values then delete that specific columns \n",
    "#and then we need to concat that converted columns\n",
    "from sklearn.preprocessing import LabelEncoder"
   ]
  },
  {
   "cell_type": "code",
   "execution_count": 56,
   "id": "61ee37a7",
   "metadata": {},
   "outputs": [],
   "source": [
    "#now we are going to seprate categorical and umerical value\n",
    "  #for numerical value"
   ]
  },
  {
   "cell_type": "code",
   "execution_count": 58,
   "id": "7b263c5e",
   "metadata": {
    "scrolled": true
   },
   "outputs": [],
   "source": [
    "df1 = df[obj_col].apply(LabelEncoder().fit_transform)      #after applying label encoder we converted into numerical value"
   ]
  },
  {
   "cell_type": "code",
   "execution_count": 59,
   "id": "6c200295",
   "metadata": {
    "scrolled": true
   },
   "outputs": [
    {
     "data": {
      "text/html": [
       "<div>\n",
       "<style scoped>\n",
       "    .dataframe tbody tr th:only-of-type {\n",
       "        vertical-align: middle;\n",
       "    }\n",
       "\n",
       "    .dataframe tbody tr th {\n",
       "        vertical-align: top;\n",
       "    }\n",
       "\n",
       "    .dataframe thead th {\n",
       "        text-align: right;\n",
       "    }\n",
       "</style>\n",
       "<table border=\"1\" class=\"dataframe\">\n",
       "  <thead>\n",
       "    <tr style=\"text-align: right;\">\n",
       "      <th></th>\n",
       "      <th>job</th>\n",
       "      <th>marital</th>\n",
       "      <th>education</th>\n",
       "      <th>targeted</th>\n",
       "      <th>default</th>\n",
       "      <th>housing</th>\n",
       "      <th>loan</th>\n",
       "      <th>contact</th>\n",
       "      <th>month</th>\n",
       "      <th>poutcome</th>\n",
       "    </tr>\n",
       "  </thead>\n",
       "  <tbody>\n",
       "    <tr>\n",
       "      <th>0</th>\n",
       "      <td>4</td>\n",
       "      <td>1</td>\n",
       "      <td>2</td>\n",
       "      <td>1</td>\n",
       "      <td>0</td>\n",
       "      <td>1</td>\n",
       "      <td>0</td>\n",
       "      <td>2</td>\n",
       "      <td>8</td>\n",
       "      <td>3</td>\n",
       "    </tr>\n",
       "    <tr>\n",
       "      <th>1</th>\n",
       "      <td>9</td>\n",
       "      <td>2</td>\n",
       "      <td>1</td>\n",
       "      <td>1</td>\n",
       "      <td>0</td>\n",
       "      <td>1</td>\n",
       "      <td>0</td>\n",
       "      <td>2</td>\n",
       "      <td>8</td>\n",
       "      <td>3</td>\n",
       "    </tr>\n",
       "    <tr>\n",
       "      <th>2</th>\n",
       "      <td>2</td>\n",
       "      <td>1</td>\n",
       "      <td>1</td>\n",
       "      <td>1</td>\n",
       "      <td>0</td>\n",
       "      <td>1</td>\n",
       "      <td>1</td>\n",
       "      <td>2</td>\n",
       "      <td>8</td>\n",
       "      <td>3</td>\n",
       "    </tr>\n",
       "    <tr>\n",
       "      <th>3</th>\n",
       "      <td>1</td>\n",
       "      <td>1</td>\n",
       "      <td>3</td>\n",
       "      <td>0</td>\n",
       "      <td>0</td>\n",
       "      <td>1</td>\n",
       "      <td>0</td>\n",
       "      <td>2</td>\n",
       "      <td>8</td>\n",
       "      <td>3</td>\n",
       "    </tr>\n",
       "    <tr>\n",
       "      <th>4</th>\n",
       "      <td>11</td>\n",
       "      <td>2</td>\n",
       "      <td>3</td>\n",
       "      <td>0</td>\n",
       "      <td>0</td>\n",
       "      <td>0</td>\n",
       "      <td>0</td>\n",
       "      <td>2</td>\n",
       "      <td>8</td>\n",
       "      <td>3</td>\n",
       "    </tr>\n",
       "  </tbody>\n",
       "</table>\n",
       "</div>"
      ],
      "text/plain": [
       "   job  marital  education  targeted  default  housing  loan  contact  month  \\\n",
       "0    4        1          2         1        0        1     0        2      8   \n",
       "1    9        2          1         1        0        1     0        2      8   \n",
       "2    2        1          1         1        0        1     1        2      8   \n",
       "3    1        1          3         0        0        1     0        2      8   \n",
       "4   11        2          3         0        0        0     0        2      8   \n",
       "\n",
       "   poutcome  \n",
       "0         3  \n",
       "1         3  \n",
       "2         3  \n",
       "3         3  \n",
       "4         3  "
      ]
     },
     "execution_count": 59,
     "metadata": {},
     "output_type": "execute_result"
    }
   ],
   "source": [
    "df1.head()"
   ]
  },
  {
   "cell_type": "code",
   "execution_count": 62,
   "id": "3f9d1028",
   "metadata": {},
   "outputs": [],
   "source": [
    "df2 = df1.join(df[num_col])     #here we are joining df1 which we converted categorical to nuerical and num_col from df"
   ]
  },
  {
   "cell_type": "code",
   "execution_count": 63,
   "id": "c1f106e3",
   "metadata": {},
   "outputs": [
    {
     "data": {
      "text/html": [
       "<div>\n",
       "<style scoped>\n",
       "    .dataframe tbody tr th:only-of-type {\n",
       "        vertical-align: middle;\n",
       "    }\n",
       "\n",
       "    .dataframe tbody tr th {\n",
       "        vertical-align: top;\n",
       "    }\n",
       "\n",
       "    .dataframe thead th {\n",
       "        text-align: right;\n",
       "    }\n",
       "</style>\n",
       "<table border=\"1\" class=\"dataframe\">\n",
       "  <thead>\n",
       "    <tr style=\"text-align: right;\">\n",
       "      <th></th>\n",
       "      <th>job</th>\n",
       "      <th>marital</th>\n",
       "      <th>education</th>\n",
       "      <th>targeted</th>\n",
       "      <th>default</th>\n",
       "      <th>housing</th>\n",
       "      <th>loan</th>\n",
       "      <th>contact</th>\n",
       "      <th>month</th>\n",
       "      <th>poutcome</th>\n",
       "      <th>age</th>\n",
       "      <th>salary</th>\n",
       "      <th>balance</th>\n",
       "      <th>day</th>\n",
       "      <th>duration</th>\n",
       "      <th>campaign</th>\n",
       "      <th>pdays</th>\n",
       "      <th>previous</th>\n",
       "      <th>response</th>\n",
       "    </tr>\n",
       "  </thead>\n",
       "  <tbody>\n",
       "    <tr>\n",
       "      <th>0</th>\n",
       "      <td>4</td>\n",
       "      <td>1</td>\n",
       "      <td>2</td>\n",
       "      <td>1</td>\n",
       "      <td>0</td>\n",
       "      <td>1</td>\n",
       "      <td>0</td>\n",
       "      <td>2</td>\n",
       "      <td>8</td>\n",
       "      <td>3</td>\n",
       "      <td>58</td>\n",
       "      <td>100000</td>\n",
       "      <td>2143.0</td>\n",
       "      <td>5</td>\n",
       "      <td>261.0</td>\n",
       "      <td>1.0</td>\n",
       "      <td>-1</td>\n",
       "      <td>0</td>\n",
       "      <td>0</td>\n",
       "    </tr>\n",
       "    <tr>\n",
       "      <th>1</th>\n",
       "      <td>9</td>\n",
       "      <td>2</td>\n",
       "      <td>1</td>\n",
       "      <td>1</td>\n",
       "      <td>0</td>\n",
       "      <td>1</td>\n",
       "      <td>0</td>\n",
       "      <td>2</td>\n",
       "      <td>8</td>\n",
       "      <td>3</td>\n",
       "      <td>44</td>\n",
       "      <td>60000</td>\n",
       "      <td>29.0</td>\n",
       "      <td>5</td>\n",
       "      <td>151.0</td>\n",
       "      <td>1.0</td>\n",
       "      <td>-1</td>\n",
       "      <td>0</td>\n",
       "      <td>0</td>\n",
       "    </tr>\n",
       "    <tr>\n",
       "      <th>2</th>\n",
       "      <td>2</td>\n",
       "      <td>1</td>\n",
       "      <td>1</td>\n",
       "      <td>1</td>\n",
       "      <td>0</td>\n",
       "      <td>1</td>\n",
       "      <td>1</td>\n",
       "      <td>2</td>\n",
       "      <td>8</td>\n",
       "      <td>3</td>\n",
       "      <td>33</td>\n",
       "      <td>120000</td>\n",
       "      <td>2.0</td>\n",
       "      <td>5</td>\n",
       "      <td>76.0</td>\n",
       "      <td>1.0</td>\n",
       "      <td>-1</td>\n",
       "      <td>0</td>\n",
       "      <td>0</td>\n",
       "    </tr>\n",
       "    <tr>\n",
       "      <th>3</th>\n",
       "      <td>1</td>\n",
       "      <td>1</td>\n",
       "      <td>3</td>\n",
       "      <td>0</td>\n",
       "      <td>0</td>\n",
       "      <td>1</td>\n",
       "      <td>0</td>\n",
       "      <td>2</td>\n",
       "      <td>8</td>\n",
       "      <td>3</td>\n",
       "      <td>47</td>\n",
       "      <td>20000</td>\n",
       "      <td>1506.0</td>\n",
       "      <td>5</td>\n",
       "      <td>92.0</td>\n",
       "      <td>1.0</td>\n",
       "      <td>-1</td>\n",
       "      <td>0</td>\n",
       "      <td>0</td>\n",
       "    </tr>\n",
       "    <tr>\n",
       "      <th>4</th>\n",
       "      <td>11</td>\n",
       "      <td>2</td>\n",
       "      <td>3</td>\n",
       "      <td>0</td>\n",
       "      <td>0</td>\n",
       "      <td>0</td>\n",
       "      <td>0</td>\n",
       "      <td>2</td>\n",
       "      <td>8</td>\n",
       "      <td>3</td>\n",
       "      <td>33</td>\n",
       "      <td>0</td>\n",
       "      <td>1.0</td>\n",
       "      <td>5</td>\n",
       "      <td>198.0</td>\n",
       "      <td>1.0</td>\n",
       "      <td>-1</td>\n",
       "      <td>0</td>\n",
       "      <td>0</td>\n",
       "    </tr>\n",
       "    <tr>\n",
       "      <th>...</th>\n",
       "      <td>...</td>\n",
       "      <td>...</td>\n",
       "      <td>...</td>\n",
       "      <td>...</td>\n",
       "      <td>...</td>\n",
       "      <td>...</td>\n",
       "      <td>...</td>\n",
       "      <td>...</td>\n",
       "      <td>...</td>\n",
       "      <td>...</td>\n",
       "      <td>...</td>\n",
       "      <td>...</td>\n",
       "      <td>...</td>\n",
       "      <td>...</td>\n",
       "      <td>...</td>\n",
       "      <td>...</td>\n",
       "      <td>...</td>\n",
       "      <td>...</td>\n",
       "      <td>...</td>\n",
       "    </tr>\n",
       "    <tr>\n",
       "      <th>45206</th>\n",
       "      <td>9</td>\n",
       "      <td>1</td>\n",
       "      <td>2</td>\n",
       "      <td>1</td>\n",
       "      <td>0</td>\n",
       "      <td>0</td>\n",
       "      <td>0</td>\n",
       "      <td>0</td>\n",
       "      <td>9</td>\n",
       "      <td>3</td>\n",
       "      <td>51</td>\n",
       "      <td>60000</td>\n",
       "      <td>825.0</td>\n",
       "      <td>17</td>\n",
       "      <td>643.0</td>\n",
       "      <td>3.0</td>\n",
       "      <td>-1</td>\n",
       "      <td>0</td>\n",
       "      <td>1</td>\n",
       "    </tr>\n",
       "    <tr>\n",
       "      <th>45207</th>\n",
       "      <td>5</td>\n",
       "      <td>0</td>\n",
       "      <td>0</td>\n",
       "      <td>1</td>\n",
       "      <td>0</td>\n",
       "      <td>0</td>\n",
       "      <td>0</td>\n",
       "      <td>0</td>\n",
       "      <td>9</td>\n",
       "      <td>3</td>\n",
       "      <td>71</td>\n",
       "      <td>55000</td>\n",
       "      <td>1729.0</td>\n",
       "      <td>17</td>\n",
       "      <td>456.0</td>\n",
       "      <td>2.0</td>\n",
       "      <td>-1</td>\n",
       "      <td>0</td>\n",
       "      <td>1</td>\n",
       "    </tr>\n",
       "    <tr>\n",
       "      <th>45208</th>\n",
       "      <td>5</td>\n",
       "      <td>1</td>\n",
       "      <td>1</td>\n",
       "      <td>1</td>\n",
       "      <td>0</td>\n",
       "      <td>0</td>\n",
       "      <td>0</td>\n",
       "      <td>0</td>\n",
       "      <td>9</td>\n",
       "      <td>2</td>\n",
       "      <td>72</td>\n",
       "      <td>55000</td>\n",
       "      <td>3462.0</td>\n",
       "      <td>17</td>\n",
       "      <td>643.0</td>\n",
       "      <td>5.0</td>\n",
       "      <td>184</td>\n",
       "      <td>3</td>\n",
       "      <td>1</td>\n",
       "    </tr>\n",
       "    <tr>\n",
       "      <th>45209</th>\n",
       "      <td>1</td>\n",
       "      <td>1</td>\n",
       "      <td>1</td>\n",
       "      <td>1</td>\n",
       "      <td>0</td>\n",
       "      <td>0</td>\n",
       "      <td>0</td>\n",
       "      <td>1</td>\n",
       "      <td>9</td>\n",
       "      <td>3</td>\n",
       "      <td>57</td>\n",
       "      <td>20000</td>\n",
       "      <td>668.0</td>\n",
       "      <td>17</td>\n",
       "      <td>508.0</td>\n",
       "      <td>4.0</td>\n",
       "      <td>-1</td>\n",
       "      <td>0</td>\n",
       "      <td>0</td>\n",
       "    </tr>\n",
       "    <tr>\n",
       "      <th>45210</th>\n",
       "      <td>2</td>\n",
       "      <td>1</td>\n",
       "      <td>1</td>\n",
       "      <td>1</td>\n",
       "      <td>0</td>\n",
       "      <td>0</td>\n",
       "      <td>0</td>\n",
       "      <td>0</td>\n",
       "      <td>9</td>\n",
       "      <td>1</td>\n",
       "      <td>37</td>\n",
       "      <td>120000</td>\n",
       "      <td>2971.0</td>\n",
       "      <td>17</td>\n",
       "      <td>361.0</td>\n",
       "      <td>2.0</td>\n",
       "      <td>188</td>\n",
       "      <td>11</td>\n",
       "      <td>0</td>\n",
       "    </tr>\n",
       "  </tbody>\n",
       "</table>\n",
       "<p>45211 rows × 19 columns</p>\n",
       "</div>"
      ],
      "text/plain": [
       "       job  marital  education  targeted  default  housing  loan  contact  \\\n",
       "0        4        1          2         1        0        1     0        2   \n",
       "1        9        2          1         1        0        1     0        2   \n",
       "2        2        1          1         1        0        1     1        2   \n",
       "3        1        1          3         0        0        1     0        2   \n",
       "4       11        2          3         0        0        0     0        2   \n",
       "...    ...      ...        ...       ...      ...      ...   ...      ...   \n",
       "45206    9        1          2         1        0        0     0        0   \n",
       "45207    5        0          0         1        0        0     0        0   \n",
       "45208    5        1          1         1        0        0     0        0   \n",
       "45209    1        1          1         1        0        0     0        1   \n",
       "45210    2        1          1         1        0        0     0        0   \n",
       "\n",
       "       month  poutcome  age  salary  balance  day  duration  campaign  pdays  \\\n",
       "0          8         3   58  100000   2143.0    5     261.0       1.0     -1   \n",
       "1          8         3   44   60000     29.0    5     151.0       1.0     -1   \n",
       "2          8         3   33  120000      2.0    5      76.0       1.0     -1   \n",
       "3          8         3   47   20000   1506.0    5      92.0       1.0     -1   \n",
       "4          8         3   33       0      1.0    5     198.0       1.0     -1   \n",
       "...      ...       ...  ...     ...      ...  ...       ...       ...    ...   \n",
       "45206      9         3   51   60000    825.0   17     643.0       3.0     -1   \n",
       "45207      9         3   71   55000   1729.0   17     456.0       2.0     -1   \n",
       "45208      9         2   72   55000   3462.0   17     643.0       5.0    184   \n",
       "45209      9         3   57   20000    668.0   17     508.0       4.0     -1   \n",
       "45210      9         1   37  120000   2971.0   17     361.0       2.0    188   \n",
       "\n",
       "       previous  response  \n",
       "0             0         0  \n",
       "1             0         0  \n",
       "2             0         0  \n",
       "3             0         0  \n",
       "4             0         0  \n",
       "...         ...       ...  \n",
       "45206         0         1  \n",
       "45207         0         1  \n",
       "45208         3         1  \n",
       "45209         0         0  \n",
       "45210        11         0  \n",
       "\n",
       "[45211 rows x 19 columns]"
      ]
     },
     "execution_count": 63,
     "metadata": {},
     "output_type": "execute_result"
    }
   ],
   "source": [
    "df2"
   ]
  },
  {
   "cell_type": "code",
   "execution_count": 65,
   "id": "5a03a9c8",
   "metadata": {},
   "outputs": [
    {
     "data": {
      "text/html": [
       "<div>\n",
       "<style scoped>\n",
       "    .dataframe tbody tr th:only-of-type {\n",
       "        vertical-align: middle;\n",
       "    }\n",
       "\n",
       "    .dataframe tbody tr th {\n",
       "        vertical-align: top;\n",
       "    }\n",
       "\n",
       "    .dataframe thead th {\n",
       "        text-align: right;\n",
       "    }\n",
       "</style>\n",
       "<table border=\"1\" class=\"dataframe\">\n",
       "  <thead>\n",
       "    <tr style=\"text-align: right;\">\n",
       "      <th></th>\n",
       "      <th>job</th>\n",
       "      <th>marital</th>\n",
       "      <th>education</th>\n",
       "      <th>targeted</th>\n",
       "      <th>default</th>\n",
       "      <th>housing</th>\n",
       "      <th>loan</th>\n",
       "      <th>contact</th>\n",
       "      <th>month</th>\n",
       "      <th>poutcome</th>\n",
       "      <th>age</th>\n",
       "      <th>salary</th>\n",
       "      <th>balance</th>\n",
       "      <th>day</th>\n",
       "      <th>duration</th>\n",
       "      <th>campaign</th>\n",
       "      <th>pdays</th>\n",
       "      <th>previous</th>\n",
       "      <th>response</th>\n",
       "    </tr>\n",
       "  </thead>\n",
       "  <tbody>\n",
       "    <tr>\n",
       "      <th>job</th>\n",
       "      <td>1.000000</td>\n",
       "      <td>0.062045</td>\n",
       "      <td>0.166707</td>\n",
       "      <td>-0.085926</td>\n",
       "      <td>-0.006853</td>\n",
       "      <td>-0.125363</td>\n",
       "      <td>-0.033004</td>\n",
       "      <td>-0.082063</td>\n",
       "      <td>-0.092870</td>\n",
       "      <td>0.011010</td>\n",
       "      <td>-0.021868</td>\n",
       "      <td>0.141655</td>\n",
       "      <td>0.023913</td>\n",
       "      <td>0.022856</td>\n",
       "      <td>0.002272</td>\n",
       "      <td>0.009462</td>\n",
       "      <td>-0.024455</td>\n",
       "      <td>-0.000911</td>\n",
       "      <td>0.040438</td>\n",
       "    </tr>\n",
       "    <tr>\n",
       "      <th>marital</th>\n",
       "      <td>0.062045</td>\n",
       "      <td>1.000000</td>\n",
       "      <td>0.108576</td>\n",
       "      <td>-0.219610</td>\n",
       "      <td>-0.007023</td>\n",
       "      <td>-0.016096</td>\n",
       "      <td>-0.046893</td>\n",
       "      <td>-0.039201</td>\n",
       "      <td>-0.006991</td>\n",
       "      <td>-0.016850</td>\n",
       "      <td>-0.403240</td>\n",
       "      <td>-0.016633</td>\n",
       "      <td>0.007754</td>\n",
       "      <td>-0.005261</td>\n",
       "      <td>0.014829</td>\n",
       "      <td>-0.022779</td>\n",
       "      <td>0.019172</td>\n",
       "      <td>0.014973</td>\n",
       "      <td>0.045588</td>\n",
       "    </tr>\n",
       "    <tr>\n",
       "      <th>education</th>\n",
       "      <td>0.166707</td>\n",
       "      <td>0.108576</td>\n",
       "      <td>1.000000</td>\n",
       "      <td>-0.627959</td>\n",
       "      <td>-0.010718</td>\n",
       "      <td>-0.090790</td>\n",
       "      <td>-0.048574</td>\n",
       "      <td>-0.110928</td>\n",
       "      <td>-0.057304</td>\n",
       "      <td>-0.019361</td>\n",
       "      <td>-0.106807</td>\n",
       "      <td>0.425256</td>\n",
       "      <td>0.067476</td>\n",
       "      <td>0.022671</td>\n",
       "      <td>0.001252</td>\n",
       "      <td>-0.001767</td>\n",
       "      <td>0.000052</td>\n",
       "      <td>0.017570</td>\n",
       "      <td>0.066241</td>\n",
       "    </tr>\n",
       "    <tr>\n",
       "      <th>targeted</th>\n",
       "      <td>-0.085926</td>\n",
       "      <td>-0.219610</td>\n",
       "      <td>-0.627959</td>\n",
       "      <td>1.000000</td>\n",
       "      <td>0.008825</td>\n",
       "      <td>0.075543</td>\n",
       "      <td>0.066297</td>\n",
       "      <td>0.053247</td>\n",
       "      <td>0.031828</td>\n",
       "      <td>0.011885</td>\n",
       "      <td>0.113202</td>\n",
       "      <td>-0.222868</td>\n",
       "      <td>-0.047823</td>\n",
       "      <td>-0.012891</td>\n",
       "      <td>-0.011140</td>\n",
       "      <td>0.007882</td>\n",
       "      <td>-0.004350</td>\n",
       "      <td>-0.013253</td>\n",
       "      <td>-0.069039</td>\n",
       "    </tr>\n",
       "    <tr>\n",
       "      <th>default</th>\n",
       "      <td>-0.006853</td>\n",
       "      <td>-0.007023</td>\n",
       "      <td>-0.010718</td>\n",
       "      <td>0.008825</td>\n",
       "      <td>1.000000</td>\n",
       "      <td>-0.006025</td>\n",
       "      <td>0.077234</td>\n",
       "      <td>0.015404</td>\n",
       "      <td>0.011486</td>\n",
       "      <td>0.034898</td>\n",
       "      <td>-0.017879</td>\n",
       "      <td>0.006860</td>\n",
       "      <td>-0.123657</td>\n",
       "      <td>0.009424</td>\n",
       "      <td>-0.006710</td>\n",
       "      <td>0.015827</td>\n",
       "      <td>-0.029979</td>\n",
       "      <td>-0.018329</td>\n",
       "      <td>-0.022419</td>\n",
       "    </tr>\n",
       "    <tr>\n",
       "      <th>housing</th>\n",
       "      <td>-0.125363</td>\n",
       "      <td>-0.016096</td>\n",
       "      <td>-0.090790</td>\n",
       "      <td>0.075543</td>\n",
       "      <td>-0.006025</td>\n",
       "      <td>1.000000</td>\n",
       "      <td>0.041323</td>\n",
       "      <td>0.188123</td>\n",
       "      <td>0.271481</td>\n",
       "      <td>-0.099971</td>\n",
       "      <td>-0.185513</td>\n",
       "      <td>-0.048965</td>\n",
       "      <td>-0.080840</td>\n",
       "      <td>-0.027982</td>\n",
       "      <td>0.004855</td>\n",
       "      <td>-0.038689</td>\n",
       "      <td>0.124178</td>\n",
       "      <td>0.037076</td>\n",
       "      <td>-0.139173</td>\n",
       "    </tr>\n",
       "    <tr>\n",
       "      <th>loan</th>\n",
       "      <td>-0.033004</td>\n",
       "      <td>-0.046893</td>\n",
       "      <td>-0.048574</td>\n",
       "      <td>0.066297</td>\n",
       "      <td>0.077234</td>\n",
       "      <td>0.041323</td>\n",
       "      <td>1.000000</td>\n",
       "      <td>-0.010873</td>\n",
       "      <td>0.022145</td>\n",
       "      <td>0.015458</td>\n",
       "      <td>-0.015655</td>\n",
       "      <td>0.017749</td>\n",
       "      <td>-0.119742</td>\n",
       "      <td>0.011370</td>\n",
       "      <td>-0.015421</td>\n",
       "      <td>0.003230</td>\n",
       "      <td>-0.022754</td>\n",
       "      <td>-0.011043</td>\n",
       "      <td>-0.068185</td>\n",
       "    </tr>\n",
       "    <tr>\n",
       "      <th>contact</th>\n",
       "      <td>-0.082063</td>\n",
       "      <td>-0.039201</td>\n",
       "      <td>-0.110928</td>\n",
       "      <td>0.053247</td>\n",
       "      <td>0.015404</td>\n",
       "      <td>0.188123</td>\n",
       "      <td>-0.010873</td>\n",
       "      <td>1.000000</td>\n",
       "      <td>0.361145</td>\n",
       "      <td>0.272214</td>\n",
       "      <td>0.026221</td>\n",
       "      <td>-0.108612</td>\n",
       "      <td>-0.037029</td>\n",
       "      <td>-0.027936</td>\n",
       "      <td>-0.030374</td>\n",
       "      <td>0.004242</td>\n",
       "      <td>-0.244816</td>\n",
       "      <td>-0.147811</td>\n",
       "      <td>-0.148395</td>\n",
       "    </tr>\n",
       "    <tr>\n",
       "      <th>month</th>\n",
       "      <td>-0.092870</td>\n",
       "      <td>-0.006991</td>\n",
       "      <td>-0.057304</td>\n",
       "      <td>0.031828</td>\n",
       "      <td>0.011486</td>\n",
       "      <td>0.271481</td>\n",
       "      <td>0.022145</td>\n",
       "      <td>0.361145</td>\n",
       "      <td>1.000000</td>\n",
       "      <td>-0.033038</td>\n",
       "      <td>-0.042357</td>\n",
       "      <td>-0.050723</td>\n",
       "      <td>0.018928</td>\n",
       "      <td>-0.006028</td>\n",
       "      <td>0.007998</td>\n",
       "      <td>-0.137349</td>\n",
       "      <td>0.033065</td>\n",
       "      <td>0.022727</td>\n",
       "      <td>-0.024471</td>\n",
       "    </tr>\n",
       "    <tr>\n",
       "      <th>poutcome</th>\n",
       "      <td>0.011010</td>\n",
       "      <td>-0.016850</td>\n",
       "      <td>-0.019361</td>\n",
       "      <td>0.011885</td>\n",
       "      <td>0.034898</td>\n",
       "      <td>-0.099971</td>\n",
       "      <td>0.015458</td>\n",
       "      <td>0.272214</td>\n",
       "      <td>-0.033038</td>\n",
       "      <td>1.000000</td>\n",
       "      <td>0.007367</td>\n",
       "      <td>-0.005864</td>\n",
       "      <td>-0.046272</td>\n",
       "      <td>0.083460</td>\n",
       "      <td>0.003037</td>\n",
       "      <td>0.108694</td>\n",
       "      <td>-0.858362</td>\n",
       "      <td>-0.489752</td>\n",
       "      <td>-0.077840</td>\n",
       "    </tr>\n",
       "    <tr>\n",
       "      <th>age</th>\n",
       "      <td>-0.021868</td>\n",
       "      <td>-0.403240</td>\n",
       "      <td>-0.106807</td>\n",
       "      <td>0.113202</td>\n",
       "      <td>-0.017879</td>\n",
       "      <td>-0.185513</td>\n",
       "      <td>-0.015655</td>\n",
       "      <td>0.026221</td>\n",
       "      <td>-0.042357</td>\n",
       "      <td>0.007367</td>\n",
       "      <td>1.000000</td>\n",
       "      <td>0.024357</td>\n",
       "      <td>0.122118</td>\n",
       "      <td>-0.009120</td>\n",
       "      <td>-0.011735</td>\n",
       "      <td>0.023922</td>\n",
       "      <td>-0.023758</td>\n",
       "      <td>0.001288</td>\n",
       "      <td>0.025155</td>\n",
       "    </tr>\n",
       "    <tr>\n",
       "      <th>salary</th>\n",
       "      <td>0.141655</td>\n",
       "      <td>-0.016633</td>\n",
       "      <td>0.425256</td>\n",
       "      <td>-0.222868</td>\n",
       "      <td>0.006860</td>\n",
       "      <td>-0.048965</td>\n",
       "      <td>0.017749</td>\n",
       "      <td>-0.108612</td>\n",
       "      <td>-0.050723</td>\n",
       "      <td>-0.005864</td>\n",
       "      <td>0.024357</td>\n",
       "      <td>1.000000</td>\n",
       "      <td>0.046403</td>\n",
       "      <td>0.027864</td>\n",
       "      <td>-0.013292</td>\n",
       "      <td>0.020599</td>\n",
       "      <td>-0.014968</td>\n",
       "      <td>0.014564</td>\n",
       "      <td>0.020012</td>\n",
       "    </tr>\n",
       "    <tr>\n",
       "      <th>balance</th>\n",
       "      <td>0.023913</td>\n",
       "      <td>0.007754</td>\n",
       "      <td>0.067476</td>\n",
       "      <td>-0.047823</td>\n",
       "      <td>-0.123657</td>\n",
       "      <td>-0.080840</td>\n",
       "      <td>-0.119742</td>\n",
       "      <td>-0.037029</td>\n",
       "      <td>0.018928</td>\n",
       "      <td>-0.046272</td>\n",
       "      <td>0.122118</td>\n",
       "      <td>0.046403</td>\n",
       "      <td>1.000000</td>\n",
       "      <td>0.009971</td>\n",
       "      <td>0.041942</td>\n",
       "      <td>-0.026531</td>\n",
       "      <td>0.017160</td>\n",
       "      <td>0.035308</td>\n",
       "      <td>0.092924</td>\n",
       "    </tr>\n",
       "    <tr>\n",
       "      <th>day</th>\n",
       "      <td>0.022856</td>\n",
       "      <td>-0.005261</td>\n",
       "      <td>0.022671</td>\n",
       "      <td>-0.012891</td>\n",
       "      <td>0.009424</td>\n",
       "      <td>-0.027982</td>\n",
       "      <td>0.011370</td>\n",
       "      <td>-0.027936</td>\n",
       "      <td>-0.006028</td>\n",
       "      <td>0.083460</td>\n",
       "      <td>-0.009120</td>\n",
       "      <td>0.027864</td>\n",
       "      <td>0.009971</td>\n",
       "      <td>1.000000</td>\n",
       "      <td>-0.039285</td>\n",
       "      <td>0.152975</td>\n",
       "      <td>-0.093044</td>\n",
       "      <td>-0.051710</td>\n",
       "      <td>-0.028348</td>\n",
       "    </tr>\n",
       "    <tr>\n",
       "      <th>duration</th>\n",
       "      <td>0.002272</td>\n",
       "      <td>0.014829</td>\n",
       "      <td>0.001252</td>\n",
       "      <td>-0.011140</td>\n",
       "      <td>-0.006710</td>\n",
       "      <td>0.004855</td>\n",
       "      <td>-0.015421</td>\n",
       "      <td>-0.030374</td>\n",
       "      <td>0.007998</td>\n",
       "      <td>0.003037</td>\n",
       "      <td>-0.011735</td>\n",
       "      <td>-0.013292</td>\n",
       "      <td>0.041942</td>\n",
       "      <td>-0.039285</td>\n",
       "      <td>1.000000</td>\n",
       "      <td>-0.100049</td>\n",
       "      <td>0.008057</td>\n",
       "      <td>0.007081</td>\n",
       "      <td>0.390659</td>\n",
       "    </tr>\n",
       "    <tr>\n",
       "      <th>campaign</th>\n",
       "      <td>0.009462</td>\n",
       "      <td>-0.022779</td>\n",
       "      <td>-0.001767</td>\n",
       "      <td>0.007882</td>\n",
       "      <td>0.015827</td>\n",
       "      <td>-0.038689</td>\n",
       "      <td>0.003230</td>\n",
       "      <td>0.004242</td>\n",
       "      <td>-0.137349</td>\n",
       "      <td>0.108694</td>\n",
       "      <td>0.023922</td>\n",
       "      <td>0.020599</td>\n",
       "      <td>-0.026531</td>\n",
       "      <td>0.152975</td>\n",
       "      <td>-0.100049</td>\n",
       "      <td>1.000000</td>\n",
       "      <td>-0.091851</td>\n",
       "      <td>-0.020061</td>\n",
       "      <td>-0.084061</td>\n",
       "    </tr>\n",
       "    <tr>\n",
       "      <th>pdays</th>\n",
       "      <td>-0.024455</td>\n",
       "      <td>0.019172</td>\n",
       "      <td>0.000052</td>\n",
       "      <td>-0.004350</td>\n",
       "      <td>-0.029979</td>\n",
       "      <td>0.124178</td>\n",
       "      <td>-0.022754</td>\n",
       "      <td>-0.244816</td>\n",
       "      <td>0.033065</td>\n",
       "      <td>-0.858362</td>\n",
       "      <td>-0.023758</td>\n",
       "      <td>-0.014968</td>\n",
       "      <td>0.017160</td>\n",
       "      <td>-0.093044</td>\n",
       "      <td>0.008057</td>\n",
       "      <td>-0.091851</td>\n",
       "      <td>1.000000</td>\n",
       "      <td>0.454820</td>\n",
       "      <td>0.103621</td>\n",
       "    </tr>\n",
       "    <tr>\n",
       "      <th>previous</th>\n",
       "      <td>-0.000911</td>\n",
       "      <td>0.014973</td>\n",
       "      <td>0.017570</td>\n",
       "      <td>-0.013253</td>\n",
       "      <td>-0.018329</td>\n",
       "      <td>0.037076</td>\n",
       "      <td>-0.011043</td>\n",
       "      <td>-0.147811</td>\n",
       "      <td>0.022727</td>\n",
       "      <td>-0.489752</td>\n",
       "      <td>0.001288</td>\n",
       "      <td>0.014564</td>\n",
       "      <td>0.035308</td>\n",
       "      <td>-0.051710</td>\n",
       "      <td>0.007081</td>\n",
       "      <td>-0.020061</td>\n",
       "      <td>0.454820</td>\n",
       "      <td>1.000000</td>\n",
       "      <td>0.093236</td>\n",
       "    </tr>\n",
       "    <tr>\n",
       "      <th>response</th>\n",
       "      <td>0.040438</td>\n",
       "      <td>0.045588</td>\n",
       "      <td>0.066241</td>\n",
       "      <td>-0.069039</td>\n",
       "      <td>-0.022419</td>\n",
       "      <td>-0.139173</td>\n",
       "      <td>-0.068185</td>\n",
       "      <td>-0.148395</td>\n",
       "      <td>-0.024471</td>\n",
       "      <td>-0.077840</td>\n",
       "      <td>0.025155</td>\n",
       "      <td>0.020012</td>\n",
       "      <td>0.092924</td>\n",
       "      <td>-0.028348</td>\n",
       "      <td>0.390659</td>\n",
       "      <td>-0.084061</td>\n",
       "      <td>0.103621</td>\n",
       "      <td>0.093236</td>\n",
       "      <td>1.000000</td>\n",
       "    </tr>\n",
       "  </tbody>\n",
       "</table>\n",
       "</div>"
      ],
      "text/plain": [
       "                job   marital  education  targeted   default   housing  \\\n",
       "job        1.000000  0.062045   0.166707 -0.085926 -0.006853 -0.125363   \n",
       "marital    0.062045  1.000000   0.108576 -0.219610 -0.007023 -0.016096   \n",
       "education  0.166707  0.108576   1.000000 -0.627959 -0.010718 -0.090790   \n",
       "targeted  -0.085926 -0.219610  -0.627959  1.000000  0.008825  0.075543   \n",
       "default   -0.006853 -0.007023  -0.010718  0.008825  1.000000 -0.006025   \n",
       "housing   -0.125363 -0.016096  -0.090790  0.075543 -0.006025  1.000000   \n",
       "loan      -0.033004 -0.046893  -0.048574  0.066297  0.077234  0.041323   \n",
       "contact   -0.082063 -0.039201  -0.110928  0.053247  0.015404  0.188123   \n",
       "month     -0.092870 -0.006991  -0.057304  0.031828  0.011486  0.271481   \n",
       "poutcome   0.011010 -0.016850  -0.019361  0.011885  0.034898 -0.099971   \n",
       "age       -0.021868 -0.403240  -0.106807  0.113202 -0.017879 -0.185513   \n",
       "salary     0.141655 -0.016633   0.425256 -0.222868  0.006860 -0.048965   \n",
       "balance    0.023913  0.007754   0.067476 -0.047823 -0.123657 -0.080840   \n",
       "day        0.022856 -0.005261   0.022671 -0.012891  0.009424 -0.027982   \n",
       "duration   0.002272  0.014829   0.001252 -0.011140 -0.006710  0.004855   \n",
       "campaign   0.009462 -0.022779  -0.001767  0.007882  0.015827 -0.038689   \n",
       "pdays     -0.024455  0.019172   0.000052 -0.004350 -0.029979  0.124178   \n",
       "previous  -0.000911  0.014973   0.017570 -0.013253 -0.018329  0.037076   \n",
       "response   0.040438  0.045588   0.066241 -0.069039 -0.022419 -0.139173   \n",
       "\n",
       "               loan   contact     month  poutcome       age    salary  \\\n",
       "job       -0.033004 -0.082063 -0.092870  0.011010 -0.021868  0.141655   \n",
       "marital   -0.046893 -0.039201 -0.006991 -0.016850 -0.403240 -0.016633   \n",
       "education -0.048574 -0.110928 -0.057304 -0.019361 -0.106807  0.425256   \n",
       "targeted   0.066297  0.053247  0.031828  0.011885  0.113202 -0.222868   \n",
       "default    0.077234  0.015404  0.011486  0.034898 -0.017879  0.006860   \n",
       "housing    0.041323  0.188123  0.271481 -0.099971 -0.185513 -0.048965   \n",
       "loan       1.000000 -0.010873  0.022145  0.015458 -0.015655  0.017749   \n",
       "contact   -0.010873  1.000000  0.361145  0.272214  0.026221 -0.108612   \n",
       "month      0.022145  0.361145  1.000000 -0.033038 -0.042357 -0.050723   \n",
       "poutcome   0.015458  0.272214 -0.033038  1.000000  0.007367 -0.005864   \n",
       "age       -0.015655  0.026221 -0.042357  0.007367  1.000000  0.024357   \n",
       "salary     0.017749 -0.108612 -0.050723 -0.005864  0.024357  1.000000   \n",
       "balance   -0.119742 -0.037029  0.018928 -0.046272  0.122118  0.046403   \n",
       "day        0.011370 -0.027936 -0.006028  0.083460 -0.009120  0.027864   \n",
       "duration  -0.015421 -0.030374  0.007998  0.003037 -0.011735 -0.013292   \n",
       "campaign   0.003230  0.004242 -0.137349  0.108694  0.023922  0.020599   \n",
       "pdays     -0.022754 -0.244816  0.033065 -0.858362 -0.023758 -0.014968   \n",
       "previous  -0.011043 -0.147811  0.022727 -0.489752  0.001288  0.014564   \n",
       "response  -0.068185 -0.148395 -0.024471 -0.077840  0.025155  0.020012   \n",
       "\n",
       "            balance       day  duration  campaign     pdays  previous  \\\n",
       "job        0.023913  0.022856  0.002272  0.009462 -0.024455 -0.000911   \n",
       "marital    0.007754 -0.005261  0.014829 -0.022779  0.019172  0.014973   \n",
       "education  0.067476  0.022671  0.001252 -0.001767  0.000052  0.017570   \n",
       "targeted  -0.047823 -0.012891 -0.011140  0.007882 -0.004350 -0.013253   \n",
       "default   -0.123657  0.009424 -0.006710  0.015827 -0.029979 -0.018329   \n",
       "housing   -0.080840 -0.027982  0.004855 -0.038689  0.124178  0.037076   \n",
       "loan      -0.119742  0.011370 -0.015421  0.003230 -0.022754 -0.011043   \n",
       "contact   -0.037029 -0.027936 -0.030374  0.004242 -0.244816 -0.147811   \n",
       "month      0.018928 -0.006028  0.007998 -0.137349  0.033065  0.022727   \n",
       "poutcome  -0.046272  0.083460  0.003037  0.108694 -0.858362 -0.489752   \n",
       "age        0.122118 -0.009120 -0.011735  0.023922 -0.023758  0.001288   \n",
       "salary     0.046403  0.027864 -0.013292  0.020599 -0.014968  0.014564   \n",
       "balance    1.000000  0.009971  0.041942 -0.026531  0.017160  0.035308   \n",
       "day        0.009971  1.000000 -0.039285  0.152975 -0.093044 -0.051710   \n",
       "duration   0.041942 -0.039285  1.000000 -0.100049  0.008057  0.007081   \n",
       "campaign  -0.026531  0.152975 -0.100049  1.000000 -0.091851 -0.020061   \n",
       "pdays      0.017160 -0.093044  0.008057 -0.091851  1.000000  0.454820   \n",
       "previous   0.035308 -0.051710  0.007081 -0.020061  0.454820  1.000000   \n",
       "response   0.092924 -0.028348  0.390659 -0.084061  0.103621  0.093236   \n",
       "\n",
       "           response  \n",
       "job        0.040438  \n",
       "marital    0.045588  \n",
       "education  0.066241  \n",
       "targeted  -0.069039  \n",
       "default   -0.022419  \n",
       "housing   -0.139173  \n",
       "loan      -0.068185  \n",
       "contact   -0.148395  \n",
       "month     -0.024471  \n",
       "poutcome  -0.077840  \n",
       "age        0.025155  \n",
       "salary     0.020012  \n",
       "balance    0.092924  \n",
       "day       -0.028348  \n",
       "duration   0.390659  \n",
       "campaign  -0.084061  \n",
       "pdays      0.103621  \n",
       "previous   0.093236  \n",
       "response   1.000000  "
      ]
     },
     "execution_count": 65,
     "metadata": {},
     "output_type": "execute_result"
    }
   ],
   "source": [
    "df2.corr()   #to get the corelation between data"
   ]
  },
  {
   "cell_type": "code",
   "execution_count": 66,
   "id": "2dad072d",
   "metadata": {},
   "outputs": [],
   "source": [
    "#  now we have done all the processing and now we will train our data into train test split\n",
    "from sklearn.model_selection import train_test_split"
   ]
  },
  {
   "cell_type": "code",
   "execution_count": 67,
   "id": "b41b0ec7",
   "metadata": {},
   "outputs": [],
   "source": [
    "#first we need to define x and y\n",
    "x = df3.drop(\"response\",axis=1)"
   ]
  },
  {
   "cell_type": "code",
   "execution_count": 68,
   "id": "6dbd4a10",
   "metadata": {},
   "outputs": [],
   "source": [
    "y = df[\"response\"]"
   ]
  },
  {
   "cell_type": "code",
   "execution_count": 69,
   "id": "801d316c",
   "metadata": {},
   "outputs": [],
   "source": [
    "x_train,x_test,y_train,y_test = train_test_split(x,y,train_size = 0.70, random_state =100) "
   ]
  },
  {
   "cell_type": "code",
   "execution_count": 70,
   "id": "d0db3648",
   "metadata": {},
   "outputs": [
    {
     "data": {
      "text/html": [
       "<div>\n",
       "<style scoped>\n",
       "    .dataframe tbody tr th:only-of-type {\n",
       "        vertical-align: middle;\n",
       "    }\n",
       "\n",
       "    .dataframe tbody tr th {\n",
       "        vertical-align: top;\n",
       "    }\n",
       "\n",
       "    .dataframe thead th {\n",
       "        text-align: right;\n",
       "    }\n",
       "</style>\n",
       "<table border=\"1\" class=\"dataframe\">\n",
       "  <thead>\n",
       "    <tr style=\"text-align: right;\">\n",
       "      <th></th>\n",
       "      <th>job</th>\n",
       "      <th>marital</th>\n",
       "      <th>education</th>\n",
       "      <th>targeted</th>\n",
       "      <th>default</th>\n",
       "      <th>housing</th>\n",
       "      <th>loan</th>\n",
       "      <th>contact</th>\n",
       "      <th>month</th>\n",
       "      <th>poutcome</th>\n",
       "      <th>age</th>\n",
       "      <th>salary</th>\n",
       "      <th>balance</th>\n",
       "      <th>day</th>\n",
       "      <th>duration</th>\n",
       "      <th>campaign</th>\n",
       "      <th>pdays</th>\n",
       "      <th>previous</th>\n",
       "    </tr>\n",
       "  </thead>\n",
       "  <tbody>\n",
       "    <tr>\n",
       "      <th>18391</th>\n",
       "      <td>1</td>\n",
       "      <td>1</td>\n",
       "      <td>1</td>\n",
       "      <td>1</td>\n",
       "      <td>0</td>\n",
       "      <td>0</td>\n",
       "      <td>0</td>\n",
       "      <td>0</td>\n",
       "      <td>5</td>\n",
       "      <td>3</td>\n",
       "      <td>40</td>\n",
       "      <td>20000</td>\n",
       "      <td>3462.0</td>\n",
       "      <td>31</td>\n",
       "      <td>234.0</td>\n",
       "      <td>2.0</td>\n",
       "      <td>-1</td>\n",
       "      <td>0</td>\n",
       "    </tr>\n",
       "    <tr>\n",
       "      <th>13056</th>\n",
       "      <td>0</td>\n",
       "      <td>2</td>\n",
       "      <td>1</td>\n",
       "      <td>1</td>\n",
       "      <td>0</td>\n",
       "      <td>0</td>\n",
       "      <td>1</td>\n",
       "      <td>0</td>\n",
       "      <td>5</td>\n",
       "      <td>3</td>\n",
       "      <td>26</td>\n",
       "      <td>50000</td>\n",
       "      <td>-378.0</td>\n",
       "      <td>8</td>\n",
       "      <td>165.0</td>\n",
       "      <td>1.0</td>\n",
       "      <td>-1</td>\n",
       "      <td>0</td>\n",
       "    </tr>\n",
       "    <tr>\n",
       "      <th>13415</th>\n",
       "      <td>9</td>\n",
       "      <td>1</td>\n",
       "      <td>2</td>\n",
       "      <td>1</td>\n",
       "      <td>0</td>\n",
       "      <td>1</td>\n",
       "      <td>0</td>\n",
       "      <td>0</td>\n",
       "      <td>5</td>\n",
       "      <td>3</td>\n",
       "      <td>52</td>\n",
       "      <td>60000</td>\n",
       "      <td>3440.0</td>\n",
       "      <td>9</td>\n",
       "      <td>194.0</td>\n",
       "      <td>1.0</td>\n",
       "      <td>-1</td>\n",
       "      <td>0</td>\n",
       "    </tr>\n",
       "    <tr>\n",
       "      <th>21022</th>\n",
       "      <td>4</td>\n",
       "      <td>2</td>\n",
       "      <td>2</td>\n",
       "      <td>0</td>\n",
       "      <td>0</td>\n",
       "      <td>0</td>\n",
       "      <td>0</td>\n",
       "      <td>0</td>\n",
       "      <td>1</td>\n",
       "      <td>3</td>\n",
       "      <td>39</td>\n",
       "      <td>100000</td>\n",
       "      <td>668.0</td>\n",
       "      <td>14</td>\n",
       "      <td>297.0</td>\n",
       "      <td>2.0</td>\n",
       "      <td>-1</td>\n",
       "      <td>0</td>\n",
       "    </tr>\n",
       "    <tr>\n",
       "      <th>24510</th>\n",
       "      <td>4</td>\n",
       "      <td>1</td>\n",
       "      <td>2</td>\n",
       "      <td>1</td>\n",
       "      <td>0</td>\n",
       "      <td>0</td>\n",
       "      <td>0</td>\n",
       "      <td>0</td>\n",
       "      <td>9</td>\n",
       "      <td>0</td>\n",
       "      <td>50</td>\n",
       "      <td>100000</td>\n",
       "      <td>830.0</td>\n",
       "      <td>17</td>\n",
       "      <td>71.0</td>\n",
       "      <td>1.0</td>\n",
       "      <td>138</td>\n",
       "      <td>2</td>\n",
       "    </tr>\n",
       "  </tbody>\n",
       "</table>\n",
       "</div>"
      ],
      "text/plain": [
       "       job  marital  education  targeted  default  housing  loan  contact  \\\n",
       "18391    1        1          1         1        0        0     0        0   \n",
       "13056    0        2          1         1        0        0     1        0   \n",
       "13415    9        1          2         1        0        1     0        0   \n",
       "21022    4        2          2         0        0        0     0        0   \n",
       "24510    4        1          2         1        0        0     0        0   \n",
       "\n",
       "       month  poutcome  age  salary  balance  day  duration  campaign  pdays  \\\n",
       "18391      5         3   40   20000   3462.0   31     234.0       2.0     -1   \n",
       "13056      5         3   26   50000   -378.0    8     165.0       1.0     -1   \n",
       "13415      5         3   52   60000   3440.0    9     194.0       1.0     -1   \n",
       "21022      1         3   39  100000    668.0   14     297.0       2.0     -1   \n",
       "24510      9         0   50  100000    830.0   17      71.0       1.0    138   \n",
       "\n",
       "       previous  \n",
       "18391         0  \n",
       "13056         0  \n",
       "13415         0  \n",
       "21022         0  \n",
       "24510         2  "
      ]
     },
     "execution_count": 70,
     "metadata": {},
     "output_type": "execute_result"
    }
   ],
   "source": [
    "x_train[:5]"
   ]
  },
  {
   "cell_type": "code",
   "execution_count": 71,
   "id": "e3547976",
   "metadata": {},
   "outputs": [
    {
     "data": {
      "text/html": [
       "<div>\n",
       "<style scoped>\n",
       "    .dataframe tbody tr th:only-of-type {\n",
       "        vertical-align: middle;\n",
       "    }\n",
       "\n",
       "    .dataframe tbody tr th {\n",
       "        vertical-align: top;\n",
       "    }\n",
       "\n",
       "    .dataframe thead th {\n",
       "        text-align: right;\n",
       "    }\n",
       "</style>\n",
       "<table border=\"1\" class=\"dataframe\">\n",
       "  <thead>\n",
       "    <tr style=\"text-align: right;\">\n",
       "      <th></th>\n",
       "      <th>job</th>\n",
       "      <th>marital</th>\n",
       "      <th>education</th>\n",
       "      <th>targeted</th>\n",
       "      <th>default</th>\n",
       "      <th>housing</th>\n",
       "      <th>loan</th>\n",
       "      <th>contact</th>\n",
       "      <th>month</th>\n",
       "      <th>poutcome</th>\n",
       "      <th>age</th>\n",
       "      <th>salary</th>\n",
       "      <th>balance</th>\n",
       "      <th>day</th>\n",
       "      <th>duration</th>\n",
       "      <th>campaign</th>\n",
       "      <th>pdays</th>\n",
       "      <th>previous</th>\n",
       "    </tr>\n",
       "  </thead>\n",
       "  <tbody>\n",
       "    <tr>\n",
       "      <th>14789</th>\n",
       "      <td>1</td>\n",
       "      <td>2</td>\n",
       "      <td>1</td>\n",
       "      <td>1</td>\n",
       "      <td>1</td>\n",
       "      <td>0</td>\n",
       "      <td>1</td>\n",
       "      <td>0</td>\n",
       "      <td>5</td>\n",
       "      <td>3</td>\n",
       "      <td>45</td>\n",
       "      <td>20000</td>\n",
       "      <td>0.0</td>\n",
       "      <td>16</td>\n",
       "      <td>154.0</td>\n",
       "      <td>2.0</td>\n",
       "      <td>-1</td>\n",
       "      <td>0</td>\n",
       "    </tr>\n",
       "    <tr>\n",
       "      <th>8968</th>\n",
       "      <td>4</td>\n",
       "      <td>1</td>\n",
       "      <td>2</td>\n",
       "      <td>1</td>\n",
       "      <td>0</td>\n",
       "      <td>0</td>\n",
       "      <td>0</td>\n",
       "      <td>2</td>\n",
       "      <td>6</td>\n",
       "      <td>3</td>\n",
       "      <td>41</td>\n",
       "      <td>100000</td>\n",
       "      <td>5.0</td>\n",
       "      <td>5</td>\n",
       "      <td>178.0</td>\n",
       "      <td>1.0</td>\n",
       "      <td>-1</td>\n",
       "      <td>0</td>\n",
       "    </tr>\n",
       "    <tr>\n",
       "      <th>34685</th>\n",
       "      <td>4</td>\n",
       "      <td>2</td>\n",
       "      <td>1</td>\n",
       "      <td>1</td>\n",
       "      <td>0</td>\n",
       "      <td>1</td>\n",
       "      <td>0</td>\n",
       "      <td>0</td>\n",
       "      <td>8</td>\n",
       "      <td>3</td>\n",
       "      <td>40</td>\n",
       "      <td>100000</td>\n",
       "      <td>906.0</td>\n",
       "      <td>5</td>\n",
       "      <td>67.0</td>\n",
       "      <td>4.0</td>\n",
       "      <td>-1</td>\n",
       "      <td>0</td>\n",
       "    </tr>\n",
       "    <tr>\n",
       "      <th>2369</th>\n",
       "      <td>0</td>\n",
       "      <td>2</td>\n",
       "      <td>1</td>\n",
       "      <td>1</td>\n",
       "      <td>0</td>\n",
       "      <td>1</td>\n",
       "      <td>0</td>\n",
       "      <td>2</td>\n",
       "      <td>8</td>\n",
       "      <td>3</td>\n",
       "      <td>25</td>\n",
       "      <td>50000</td>\n",
       "      <td>768.0</td>\n",
       "      <td>13</td>\n",
       "      <td>203.0</td>\n",
       "      <td>1.0</td>\n",
       "      <td>-1</td>\n",
       "      <td>0</td>\n",
       "    </tr>\n",
       "    <tr>\n",
       "      <th>36561</th>\n",
       "      <td>7</td>\n",
       "      <td>1</td>\n",
       "      <td>0</td>\n",
       "      <td>1</td>\n",
       "      <td>0</td>\n",
       "      <td>1</td>\n",
       "      <td>0</td>\n",
       "      <td>0</td>\n",
       "      <td>8</td>\n",
       "      <td>2</td>\n",
       "      <td>37</td>\n",
       "      <td>70000</td>\n",
       "      <td>0.0</td>\n",
       "      <td>12</td>\n",
       "      <td>631.0</td>\n",
       "      <td>1.0</td>\n",
       "      <td>344</td>\n",
       "      <td>1</td>\n",
       "    </tr>\n",
       "  </tbody>\n",
       "</table>\n",
       "</div>"
      ],
      "text/plain": [
       "       job  marital  education  targeted  default  housing  loan  contact  \\\n",
       "14789    1        2          1         1        1        0     1        0   \n",
       "8968     4        1          2         1        0        0     0        2   \n",
       "34685    4        2          1         1        0        1     0        0   \n",
       "2369     0        2          1         1        0        1     0        2   \n",
       "36561    7        1          0         1        0        1     0        0   \n",
       "\n",
       "       month  poutcome  age  salary  balance  day  duration  campaign  pdays  \\\n",
       "14789      5         3   45   20000      0.0   16     154.0       2.0     -1   \n",
       "8968       6         3   41  100000      5.0    5     178.0       1.0     -1   \n",
       "34685      8         3   40  100000    906.0    5      67.0       4.0     -1   \n",
       "2369       8         3   25   50000    768.0   13     203.0       1.0     -1   \n",
       "36561      8         2   37   70000      0.0   12     631.0       1.0    344   \n",
       "\n",
       "       previous  \n",
       "14789         0  \n",
       "8968          0  \n",
       "34685         0  \n",
       "2369          0  \n",
       "36561         1  "
      ]
     },
     "execution_count": 71,
     "metadata": {},
     "output_type": "execute_result"
    }
   ],
   "source": [
    "x_test[:5]"
   ]
  },
  {
   "cell_type": "code",
   "execution_count": 72,
   "id": "7af072e3",
   "metadata": {},
   "outputs": [
    {
     "data": {
      "text/plain": [
       "18391    0\n",
       "13056    0\n",
       "13415    0\n",
       "21022    0\n",
       "24510    0\n",
       "Name: response, dtype: int64"
      ]
     },
     "execution_count": 72,
     "metadata": {},
     "output_type": "execute_result"
    }
   ],
   "source": [
    "y_train[:5]"
   ]
  },
  {
   "cell_type": "markdown",
   "id": "099b55e0",
   "metadata": {},
   "source": [
    "Now we will perform the model building operation"
   ]
  },
  {
   "cell_type": "code",
   "execution_count": 74,
   "id": "2f69c7a1",
   "metadata": {},
   "outputs": [],
   "source": [
    "from sklearn.linear_model import LogisticRegression\n"
   ]
  },
  {
   "cell_type": "code",
   "execution_count": 75,
   "id": "d4b91bcf",
   "metadata": {},
   "outputs": [],
   "source": [
    "lr = LogisticRegression()"
   ]
  },
  {
   "cell_type": "code",
   "execution_count": 76,
   "id": "24ee764d",
   "metadata": {
    "scrolled": true
   },
   "outputs": [
    {
     "data": {
      "text/plain": [
       "LogisticRegression()"
      ]
     },
     "execution_count": 76,
     "metadata": {},
     "output_type": "execute_result"
    }
   ],
   "source": [
    "lr.fit(x_train,y_train)"
   ]
  },
  {
   "cell_type": "code",
   "execution_count": 78,
   "id": "873a3c21",
   "metadata": {},
   "outputs": [],
   "source": [
    "y_pred = lr.predict(x_test)"
   ]
  },
  {
   "cell_type": "code",
   "execution_count": 79,
   "id": "48007d94",
   "metadata": {},
   "outputs": [
    {
     "data": {
      "text/plain": [
       "array([0, 0, 0, 0, 1], dtype=int64)"
      ]
     },
     "execution_count": 79,
     "metadata": {},
     "output_type": "execute_result"
    }
   ],
   "source": [
    "y_pred[:5]"
   ]
  },
  {
   "cell_type": "code",
   "execution_count": 80,
   "id": "57ecb9c3",
   "metadata": {},
   "outputs": [
    {
     "data": {
      "text/plain": [
       "14789    0\n",
       "8968     0\n",
       "34685    0\n",
       "2369     0\n",
       "36561    0\n",
       "Name: response, dtype: int64"
      ]
     },
     "execution_count": 80,
     "metadata": {},
     "output_type": "execute_result"
    }
   ],
   "source": [
    "y_test[:5]"
   ]
  },
  {
   "cell_type": "code",
   "execution_count": 86,
   "id": "bc58e3bd",
   "metadata": {},
   "outputs": [],
   "source": [
    "from sklearn.metrics import classification_report\n",
    "from sklearn.metrics import confusion_matrix\n",
    "from sklearn.metrics import f1_score\n",
    "from sklearn.metrics import accuracy_score\n",
    "from sklearn.metrics import r2_score"
   ]
  },
  {
   "cell_type": "code",
   "execution_count": 82,
   "id": "755c90a8",
   "metadata": {},
   "outputs": [
    {
     "name": "stdout",
     "output_type": "stream",
     "text": [
      "[[11696   289]\n",
      " [ 1329   250]]\n"
     ]
    }
   ],
   "source": [
    "print(confusion_matrix(y_test,y_pred))"
   ]
  },
  {
   "cell_type": "code",
   "execution_count": 83,
   "id": "4c3ae1de",
   "metadata": {},
   "outputs": [
    {
     "name": "stdout",
     "output_type": "stream",
     "text": [
      "0.23607176581680836\n"
     ]
    }
   ],
   "source": [
    "print(f1_score(y_test,y_pred))"
   ]
  },
  {
   "cell_type": "code",
   "execution_count": 84,
   "id": "6561e4b4",
   "metadata": {},
   "outputs": [
    {
     "name": "stdout",
     "output_type": "stream",
     "text": [
      "0.8807136537894427\n"
     ]
    }
   ],
   "source": [
    "print(accuracy_score(y_test,y_pred))"
   ]
  },
  {
   "cell_type": "code",
   "execution_count": 85,
   "id": "650b53f9",
   "metadata": {},
   "outputs": [
    {
     "name": "stdout",
     "output_type": "stream",
     "text": [
      "              precision    recall  f1-score   support\n",
      "\n",
      "           0       0.90      0.98      0.94     11985\n",
      "           1       0.46      0.16      0.24      1579\n",
      "\n",
      "    accuracy                           0.88     13564\n",
      "   macro avg       0.68      0.57      0.59     13564\n",
      "weighted avg       0.85      0.88      0.85     13564\n",
      "\n"
     ]
    }
   ],
   "source": [
    "print(classification_report(y_test,y_pred))"
   ]
  },
  {
   "cell_type": "markdown",
   "id": "e8328b45",
   "metadata": {},
   "source": [
    "precision = to check how many outcomes are actuaally positive outcomes\n",
    "precision = tp/tp+fp\n",
    "\n",
    "recall = to check correctly positive predicted outcomes\n",
    "tp/tp+fn\n",
    "\n",
    "f1_score = where the contribution of precision and recall are same\n"
   ]
  },
  {
   "cell_type": "code",
   "execution_count": 87,
   "id": "dab8f475",
   "metadata": {},
   "outputs": [
    {
     "name": "stdout",
     "output_type": "stream",
     "text": [
      "-0.1597012626348695\n"
     ]
    }
   ],
   "source": [
    "print(r2_score(y_test,y_pred))      #here the if the score is less then the accuracy is more "
   ]
  },
  {
   "cell_type": "code",
   "execution_count": 89,
   "id": "b3f90011",
   "metadata": {},
   "outputs": [],
   "source": [
    "from sklearn.feature_selection import RFE    #rfe  = recursive feature selection it should be not less and not much high"
   ]
  },
  {
   "cell_type": "code",
   "execution_count": 92,
   "id": "1c12a0bb",
   "metadata": {},
   "outputs": [],
   "source": [
    "rfe = RFE(lr,5)      #here we are passing lr into it and we are passing 5 for performing 5 different analysis"
   ]
  },
  {
   "cell_type": "code",
   "execution_count": 94,
   "id": "0eed94a2",
   "metadata": {},
   "outputs": [
    {
     "data": {
      "text/plain": [
       "RFE(estimator=LogisticRegression(), n_features_to_select=5)"
      ]
     },
     "execution_count": 94,
     "metadata": {},
     "output_type": "execute_result"
    }
   ],
   "source": [
    "rfe.fit(x_train,y_train)"
   ]
  },
  {
   "cell_type": "code",
   "execution_count": null,
   "id": "51f8967a",
   "metadata": {},
   "outputs": [],
   "source": [
    "from sklearn.model_selection import cross_val_score"
   ]
  },
  {
   "cell_type": "code",
   "execution_count": 97,
   "id": "03d982c0",
   "metadata": {},
   "outputs": [
    {
     "name": "stdout",
     "output_type": "stream",
     "text": [
      "[0.88309637 0.88262243 0.87533576 0.87738979 0.88197188]\n"
     ]
    }
   ],
   "source": [
    "print(cross_val_score(lr,x_train,y_train,cv=5))"
   ]
  },
  {
   "cell_type": "code",
   "execution_count": 98,
   "id": "d2aa1c3a",
   "metadata": {},
   "outputs": [
    {
     "name": "stdout",
     "output_type": "stream",
     "text": [
      "0.8800832447843462\n"
     ]
    }
   ],
   "source": [
    "#here we are finding the mean value of cross validation score\n",
    "print(np.mean(cross_val_score(lr,x_train,y_train,cv=5)))"
   ]
  },
  {
   "cell_type": "code",
   "execution_count": null,
   "id": "e20904ec",
   "metadata": {},
   "outputs": [],
   "source": []
  },
  {
   "cell_type": "markdown",
   "id": "49831768",
   "metadata": {},
   "source": [
    "#we have one different method which we can perform for getting all the results at a single place by using only few lines of\n",
    "codes"
   ]
  },
  {
   "cell_type": "code",
   "execution_count": 100,
   "id": "4ad41ddc",
   "metadata": {},
   "outputs": [],
   "source": [
    "import statsmodels.api as sm\n",
    "x_train_sm = sm.add_constant(x_train)"
   ]
  },
  {
   "cell_type": "code",
   "execution_count": 101,
   "id": "c6d39c6a",
   "metadata": {},
   "outputs": [],
   "source": [
    "#fitting the reg line using ols\n",
    "lr  = sm.OLS(y_train,x_train_sm).fit()"
   ]
  },
  {
   "cell_type": "code",
   "execution_count": 102,
   "id": "a5893b95",
   "metadata": {},
   "outputs": [
    {
     "data": {
      "text/plain": [
       "const       -1.172419e-01\n",
       "job          1.329033e-03\n",
       "marital      1.726475e-02\n",
       "education    1.052477e-02\n",
       "targeted    -2.372368e-02\n",
       "default     -1.937201e-02\n",
       "housing     -8.355828e-02\n",
       "loan        -4.130371e-02\n",
       "contact     -3.849905e-02\n",
       "month        4.602469e-03\n",
       "poutcome     2.602628e-02\n",
       "age          8.900620e-04\n",
       "salary      -1.402481e-07\n",
       "balance      1.410558e-05\n",
       "day         -4.171643e-04\n",
       "duration     6.885614e-04\n",
       "campaign    -6.673196e-03\n",
       "pdays        4.100545e-04\n",
       "previous     6.857106e-03\n",
       "dtype: float64"
      ]
     },
     "execution_count": 102,
     "metadata": {},
     "output_type": "execute_result"
    }
   ],
   "source": [
    "lr.params"
   ]
  },
  {
   "cell_type": "code",
   "execution_count": 104,
   "id": "c816c51c",
   "metadata": {},
   "outputs": [
    {
     "data": {
      "text/html": [
       "<table class=\"simpletable\">\n",
       "<caption>OLS Regression Results</caption>\n",
       "<tr>\n",
       "  <th>Dep. Variable:</th>        <td>response</td>     <th>  R-squared:         </th> <td>   0.211</td> \n",
       "</tr>\n",
       "<tr>\n",
       "  <th>Model:</th>                   <td>OLS</td>       <th>  Adj. R-squared:    </th> <td>   0.210</td> \n",
       "</tr>\n",
       "<tr>\n",
       "  <th>Method:</th>             <td>Least Squares</td>  <th>  F-statistic:       </th> <td>   469.5</td> \n",
       "</tr>\n",
       "<tr>\n",
       "  <th>Date:</th>             <td>Mon, 28 Mar 2022</td> <th>  Prob (F-statistic):</th>  <td>  0.00</td>  \n",
       "</tr>\n",
       "<tr>\n",
       "  <th>Time:</th>                 <td>23:17:53</td>     <th>  Log-Likelihood:    </th> <td> -5265.2</td> \n",
       "</tr>\n",
       "<tr>\n",
       "  <th>No. Observations:</th>      <td> 31647</td>      <th>  AIC:               </th> <td>1.057e+04</td>\n",
       "</tr>\n",
       "<tr>\n",
       "  <th>Df Residuals:</th>          <td> 31628</td>      <th>  BIC:               </th> <td>1.073e+04</td>\n",
       "</tr>\n",
       "<tr>\n",
       "  <th>Df Model:</th>              <td>    18</td>      <th>                     </th>     <td> </td>    \n",
       "</tr>\n",
       "<tr>\n",
       "  <th>Covariance Type:</th>      <td>nonrobust</td>    <th>                     </th>     <td> </td>    \n",
       "</tr>\n",
       "</table>\n",
       "<table class=\"simpletable\">\n",
       "<tr>\n",
       "      <td></td>         <th>coef</th>     <th>std err</th>      <th>t</th>      <th>P>|t|</th>  <th>[0.025</th>    <th>0.975]</th>  \n",
       "</tr>\n",
       "<tr>\n",
       "  <th>const</th>     <td>   -0.1172</td> <td>    0.017</td> <td>   -6.928</td> <td> 0.000</td> <td>   -0.150</td> <td>   -0.084</td>\n",
       "</tr>\n",
       "<tr>\n",
       "  <th>job</th>       <td>    0.0013</td> <td>    0.001</td> <td>    2.634</td> <td> 0.008</td> <td>    0.000</td> <td>    0.002</td>\n",
       "</tr>\n",
       "<tr>\n",
       "  <th>marital</th>   <td>    0.0173</td> <td>    0.003</td> <td>    5.806</td> <td> 0.000</td> <td>    0.011</td> <td>    0.023</td>\n",
       "</tr>\n",
       "<tr>\n",
       "  <th>education</th> <td>    0.0105</td> <td>    0.003</td> <td>    3.486</td> <td> 0.000</td> <td>    0.005</td> <td>    0.016</td>\n",
       "</tr>\n",
       "<tr>\n",
       "  <th>targeted</th>  <td>   -0.0237</td> <td>    0.006</td> <td>   -4.301</td> <td> 0.000</td> <td>   -0.035</td> <td>   -0.013</td>\n",
       "</tr>\n",
       "<tr>\n",
       "  <th>default</th>   <td>   -0.0194</td> <td>    0.012</td> <td>   -1.568</td> <td> 0.117</td> <td>   -0.044</td> <td>    0.005</td>\n",
       "</tr>\n",
       "<tr>\n",
       "  <th>housing</th>   <td>   -0.0836</td> <td>    0.004</td> <td>  -23.646</td> <td> 0.000</td> <td>   -0.090</td> <td>   -0.077</td>\n",
       "</tr>\n",
       "<tr>\n",
       "  <th>loan</th>      <td>   -0.0413</td> <td>    0.004</td> <td>   -9.254</td> <td> 0.000</td> <td>   -0.050</td> <td>   -0.033</td>\n",
       "</tr>\n",
       "<tr>\n",
       "  <th>contact</th>   <td>   -0.0385</td> <td>    0.002</td> <td>  -18.698</td> <td> 0.000</td> <td>   -0.043</td> <td>   -0.034</td>\n",
       "</tr>\n",
       "<tr>\n",
       "  <th>month</th>     <td>    0.0046</td> <td>    0.001</td> <td>    7.674</td> <td> 0.000</td> <td>    0.003</td> <td>    0.006</td>\n",
       "</tr>\n",
       "<tr>\n",
       "  <th>poutcome</th>  <td>    0.0260</td> <td>    0.003</td> <td>    7.918</td> <td> 0.000</td> <td>    0.020</td> <td>    0.032</td>\n",
       "</tr>\n",
       "<tr>\n",
       "  <th>age</th>       <td>    0.0009</td> <td>    0.000</td> <td>    5.177</td> <td> 0.000</td> <td>    0.001</td> <td>    0.001</td>\n",
       "</tr>\n",
       "<tr>\n",
       "  <th>salary</th>    <td>-1.402e-07</td> <td> 5.62e-08</td> <td>   -2.496</td> <td> 0.013</td> <td> -2.5e-07</td> <td>-3.01e-08</td>\n",
       "</tr>\n",
       "<tr>\n",
       "  <th>balance</th>   <td> 1.411e-05</td> <td> 1.41e-06</td> <td>   10.012</td> <td> 0.000</td> <td> 1.13e-05</td> <td> 1.69e-05</td>\n",
       "</tr>\n",
       "<tr>\n",
       "  <th>day</th>       <td>   -0.0004</td> <td>    0.000</td> <td>   -2.123</td> <td> 0.034</td> <td>   -0.001</td> <td> -3.2e-05</td>\n",
       "</tr>\n",
       "<tr>\n",
       "  <th>duration</th>  <td>    0.0007</td> <td> 9.16e-06</td> <td>   75.189</td> <td> 0.000</td> <td>    0.001</td> <td>    0.001</td>\n",
       "</tr>\n",
       "<tr>\n",
       "  <th>campaign</th>  <td>   -0.0067</td> <td>    0.001</td> <td>   -6.472</td> <td> 0.000</td> <td>   -0.009</td> <td>   -0.005</td>\n",
       "</tr>\n",
       "<tr>\n",
       "  <th>pdays</th>     <td>    0.0004</td> <td> 3.17e-05</td> <td>   12.918</td> <td> 0.000</td> <td>    0.000</td> <td>    0.000</td>\n",
       "</tr>\n",
       "<tr>\n",
       "  <th>previous</th>  <td>    0.0069</td> <td>    0.001</td> <td>    9.219</td> <td> 0.000</td> <td>    0.005</td> <td>    0.008</td>\n",
       "</tr>\n",
       "</table>\n",
       "<table class=\"simpletable\">\n",
       "<tr>\n",
       "  <th>Omnibus:</th>       <td>8930.650</td> <th>  Durbin-Watson:     </th> <td>   2.022</td> \n",
       "</tr>\n",
       "<tr>\n",
       "  <th>Prob(Omnibus):</th>  <td> 0.000</td>  <th>  Jarque-Bera (JB):  </th> <td>21346.059</td>\n",
       "</tr>\n",
       "<tr>\n",
       "  <th>Skew:</th>           <td> 1.590</td>  <th>  Prob(JB):          </th> <td>    0.00</td> \n",
       "</tr>\n",
       "<tr>\n",
       "  <th>Kurtosis:</th>       <td> 5.464</td>  <th>  Cond. No.          </th> <td>7.05e+05</td> \n",
       "</tr>\n",
       "</table><br/><br/>Notes:<br/>[1] Standard Errors assume that the covariance matrix of the errors is correctly specified.<br/>[2] The condition number is large, 7.05e+05. This might indicate that there are<br/>strong multicollinearity or other numerical problems."
      ],
      "text/plain": [
       "<class 'statsmodels.iolib.summary.Summary'>\n",
       "\"\"\"\n",
       "                            OLS Regression Results                            \n",
       "==============================================================================\n",
       "Dep. Variable:               response   R-squared:                       0.211\n",
       "Model:                            OLS   Adj. R-squared:                  0.210\n",
       "Method:                 Least Squares   F-statistic:                     469.5\n",
       "Date:                Mon, 28 Mar 2022   Prob (F-statistic):               0.00\n",
       "Time:                        23:17:53   Log-Likelihood:                -5265.2\n",
       "No. Observations:               31647   AIC:                         1.057e+04\n",
       "Df Residuals:                   31628   BIC:                         1.073e+04\n",
       "Df Model:                          18                                         \n",
       "Covariance Type:            nonrobust                                         \n",
       "==============================================================================\n",
       "                 coef    std err          t      P>|t|      [0.025      0.975]\n",
       "------------------------------------------------------------------------------\n",
       "const         -0.1172      0.017     -6.928      0.000      -0.150      -0.084\n",
       "job            0.0013      0.001      2.634      0.008       0.000       0.002\n",
       "marital        0.0173      0.003      5.806      0.000       0.011       0.023\n",
       "education      0.0105      0.003      3.486      0.000       0.005       0.016\n",
       "targeted      -0.0237      0.006     -4.301      0.000      -0.035      -0.013\n",
       "default       -0.0194      0.012     -1.568      0.117      -0.044       0.005\n",
       "housing       -0.0836      0.004    -23.646      0.000      -0.090      -0.077\n",
       "loan          -0.0413      0.004     -9.254      0.000      -0.050      -0.033\n",
       "contact       -0.0385      0.002    -18.698      0.000      -0.043      -0.034\n",
       "month          0.0046      0.001      7.674      0.000       0.003       0.006\n",
       "poutcome       0.0260      0.003      7.918      0.000       0.020       0.032\n",
       "age            0.0009      0.000      5.177      0.000       0.001       0.001\n",
       "salary     -1.402e-07   5.62e-08     -2.496      0.013    -2.5e-07   -3.01e-08\n",
       "balance     1.411e-05   1.41e-06     10.012      0.000    1.13e-05    1.69e-05\n",
       "day           -0.0004      0.000     -2.123      0.034      -0.001    -3.2e-05\n",
       "duration       0.0007   9.16e-06     75.189      0.000       0.001       0.001\n",
       "campaign      -0.0067      0.001     -6.472      0.000      -0.009      -0.005\n",
       "pdays          0.0004   3.17e-05     12.918      0.000       0.000       0.000\n",
       "previous       0.0069      0.001      9.219      0.000       0.005       0.008\n",
       "==============================================================================\n",
       "Omnibus:                     8930.650   Durbin-Watson:                   2.022\n",
       "Prob(Omnibus):                  0.000   Jarque-Bera (JB):            21346.059\n",
       "Skew:                           1.590   Prob(JB):                         0.00\n",
       "Kurtosis:                       5.464   Cond. No.                     7.05e+05\n",
       "==============================================================================\n",
       "\n",
       "Notes:\n",
       "[1] Standard Errors assume that the covariance matrix of the errors is correctly specified.\n",
       "[2] The condition number is large, 7.05e+05. This might indicate that there are\n",
       "strong multicollinearity or other numerical problems.\n",
       "\"\"\""
      ]
     },
     "execution_count": 104,
     "metadata": {},
     "output_type": "execute_result"
    }
   ],
   "source": [
    "lr.summary()"
   ]
  },
  {
   "cell_type": "code",
   "execution_count": null,
   "id": "a81eba16",
   "metadata": {},
   "outputs": [],
   "source": []
  },
  {
   "cell_type": "markdown",
   "id": "dee292b6",
   "metadata": {},
   "source": [
    "# now we will perform this by using Random forest"
   ]
  },
  {
   "cell_type": "code",
   "execution_count": 106,
   "id": "43730339",
   "metadata": {},
   "outputs": [],
   "source": [
    "from sklearn.ensemble import RandomForestClassifier"
   ]
  },
  {
   "cell_type": "code",
   "execution_count": 107,
   "id": "bcddd2f3",
   "metadata": {},
   "outputs": [],
   "source": [
    "rfc = RandomForestClassifier()"
   ]
  },
  {
   "cell_type": "code",
   "execution_count": 108,
   "id": "de0c8a57",
   "metadata": {},
   "outputs": [
    {
     "data": {
      "text/plain": [
       "RandomForestClassifier()"
      ]
     },
     "execution_count": 108,
     "metadata": {},
     "output_type": "execute_result"
    }
   ],
   "source": [
    "rfc.fit(x_train,y_train)"
   ]
  },
  {
   "cell_type": "code",
   "execution_count": 110,
   "id": "f62b7b93",
   "metadata": {},
   "outputs": [],
   "source": [
    "y_pred1 = rfc.predict(x_test)"
   ]
  },
  {
   "cell_type": "code",
   "execution_count": 109,
   "id": "a5f12bbc",
   "metadata": {},
   "outputs": [
    {
     "name": "stdout",
     "output_type": "stream",
     "text": [
      "0.9016651702574249\n"
     ]
    }
   ],
   "source": [
    "print(np.mean(cross_val_score(rfc,x_train,y_train,cv = 5)))"
   ]
  },
  {
   "cell_type": "code",
   "execution_count": 113,
   "id": "4b706d6c",
   "metadata": {},
   "outputs": [
    {
     "name": "stdout",
     "output_type": "stream",
     "text": [
      "[[11616   369]\n",
      " [  965   614]]\n"
     ]
    }
   ],
   "source": [
    "print(confusion_matrix(y_test,y_pred1))"
   ]
  },
  {
   "cell_type": "code",
   "execution_count": 115,
   "id": "78e654d7",
   "metadata": {},
   "outputs": [
    {
     "name": "stdout",
     "output_type": "stream",
     "text": [
      "              precision    recall  f1-score   support\n",
      "\n",
      "           0       0.92      0.97      0.95     11985\n",
      "           1       0.62      0.39      0.48      1579\n",
      "\n",
      "    accuracy                           0.90     13564\n",
      "   macro avg       0.77      0.68      0.71     13564\n",
      "weighted avg       0.89      0.90      0.89     13564\n",
      "\n"
     ]
    }
   ],
   "source": [
    "print(classification_report(y_test,y_pred1))"
   ]
  },
  {
   "cell_type": "code",
   "execution_count": 116,
   "id": "6d22bfce",
   "metadata": {},
   "outputs": [],
   "source": [
    "import statsmodels.api as sm\n",
    "x_train_sm = sm.add_constant(x_train)"
   ]
  },
  {
   "cell_type": "code",
   "execution_count": 117,
   "id": "f00ba2aa",
   "metadata": {},
   "outputs": [],
   "source": [
    "rfc = sm.OLS(y_train,x_train_sm).fit()"
   ]
  },
  {
   "cell_type": "code",
   "execution_count": 120,
   "id": "6afdc54d",
   "metadata": {},
   "outputs": [
    {
     "data": {
      "text/plain": [
       "const       -1.172419e-01\n",
       "job          1.329033e-03\n",
       "marital      1.726475e-02\n",
       "education    1.052477e-02\n",
       "targeted    -2.372368e-02\n",
       "default     -1.937201e-02\n",
       "housing     -8.355828e-02\n",
       "loan        -4.130371e-02\n",
       "contact     -3.849905e-02\n",
       "month        4.602469e-03\n",
       "poutcome     2.602628e-02\n",
       "age          8.900620e-04\n",
       "salary      -1.402481e-07\n",
       "balance      1.410558e-05\n",
       "day         -4.171643e-04\n",
       "duration     6.885614e-04\n",
       "campaign    -6.673196e-03\n",
       "pdays        4.100545e-04\n",
       "previous     6.857106e-03\n",
       "dtype: float64"
      ]
     },
     "execution_count": 120,
     "metadata": {},
     "output_type": "execute_result"
    }
   ],
   "source": [
    "rfc.params"
   ]
  },
  {
   "cell_type": "code",
   "execution_count": 122,
   "id": "18d3ee41",
   "metadata": {},
   "outputs": [
    {
     "data": {
      "text/html": [
       "<table class=\"simpletable\">\n",
       "<caption>OLS Regression Results</caption>\n",
       "<tr>\n",
       "  <th>Dep. Variable:</th>        <td>response</td>     <th>  R-squared:         </th> <td>   0.211</td> \n",
       "</tr>\n",
       "<tr>\n",
       "  <th>Model:</th>                   <td>OLS</td>       <th>  Adj. R-squared:    </th> <td>   0.210</td> \n",
       "</tr>\n",
       "<tr>\n",
       "  <th>Method:</th>             <td>Least Squares</td>  <th>  F-statistic:       </th> <td>   469.5</td> \n",
       "</tr>\n",
       "<tr>\n",
       "  <th>Date:</th>             <td>Mon, 28 Mar 2022</td> <th>  Prob (F-statistic):</th>  <td>  0.00</td>  \n",
       "</tr>\n",
       "<tr>\n",
       "  <th>Time:</th>                 <td>23:31:29</td>     <th>  Log-Likelihood:    </th> <td> -5265.2</td> \n",
       "</tr>\n",
       "<tr>\n",
       "  <th>No. Observations:</th>      <td> 31647</td>      <th>  AIC:               </th> <td>1.057e+04</td>\n",
       "</tr>\n",
       "<tr>\n",
       "  <th>Df Residuals:</th>          <td> 31628</td>      <th>  BIC:               </th> <td>1.073e+04</td>\n",
       "</tr>\n",
       "<tr>\n",
       "  <th>Df Model:</th>              <td>    18</td>      <th>                     </th>     <td> </td>    \n",
       "</tr>\n",
       "<tr>\n",
       "  <th>Covariance Type:</th>      <td>nonrobust</td>    <th>                     </th>     <td> </td>    \n",
       "</tr>\n",
       "</table>\n",
       "<table class=\"simpletable\">\n",
       "<tr>\n",
       "      <td></td>         <th>coef</th>     <th>std err</th>      <th>t</th>      <th>P>|t|</th>  <th>[0.025</th>    <th>0.975]</th>  \n",
       "</tr>\n",
       "<tr>\n",
       "  <th>const</th>     <td>   -0.1172</td> <td>    0.017</td> <td>   -6.928</td> <td> 0.000</td> <td>   -0.150</td> <td>   -0.084</td>\n",
       "</tr>\n",
       "<tr>\n",
       "  <th>job</th>       <td>    0.0013</td> <td>    0.001</td> <td>    2.634</td> <td> 0.008</td> <td>    0.000</td> <td>    0.002</td>\n",
       "</tr>\n",
       "<tr>\n",
       "  <th>marital</th>   <td>    0.0173</td> <td>    0.003</td> <td>    5.806</td> <td> 0.000</td> <td>    0.011</td> <td>    0.023</td>\n",
       "</tr>\n",
       "<tr>\n",
       "  <th>education</th> <td>    0.0105</td> <td>    0.003</td> <td>    3.486</td> <td> 0.000</td> <td>    0.005</td> <td>    0.016</td>\n",
       "</tr>\n",
       "<tr>\n",
       "  <th>targeted</th>  <td>   -0.0237</td> <td>    0.006</td> <td>   -4.301</td> <td> 0.000</td> <td>   -0.035</td> <td>   -0.013</td>\n",
       "</tr>\n",
       "<tr>\n",
       "  <th>default</th>   <td>   -0.0194</td> <td>    0.012</td> <td>   -1.568</td> <td> 0.117</td> <td>   -0.044</td> <td>    0.005</td>\n",
       "</tr>\n",
       "<tr>\n",
       "  <th>housing</th>   <td>   -0.0836</td> <td>    0.004</td> <td>  -23.646</td> <td> 0.000</td> <td>   -0.090</td> <td>   -0.077</td>\n",
       "</tr>\n",
       "<tr>\n",
       "  <th>loan</th>      <td>   -0.0413</td> <td>    0.004</td> <td>   -9.254</td> <td> 0.000</td> <td>   -0.050</td> <td>   -0.033</td>\n",
       "</tr>\n",
       "<tr>\n",
       "  <th>contact</th>   <td>   -0.0385</td> <td>    0.002</td> <td>  -18.698</td> <td> 0.000</td> <td>   -0.043</td> <td>   -0.034</td>\n",
       "</tr>\n",
       "<tr>\n",
       "  <th>month</th>     <td>    0.0046</td> <td>    0.001</td> <td>    7.674</td> <td> 0.000</td> <td>    0.003</td> <td>    0.006</td>\n",
       "</tr>\n",
       "<tr>\n",
       "  <th>poutcome</th>  <td>    0.0260</td> <td>    0.003</td> <td>    7.918</td> <td> 0.000</td> <td>    0.020</td> <td>    0.032</td>\n",
       "</tr>\n",
       "<tr>\n",
       "  <th>age</th>       <td>    0.0009</td> <td>    0.000</td> <td>    5.177</td> <td> 0.000</td> <td>    0.001</td> <td>    0.001</td>\n",
       "</tr>\n",
       "<tr>\n",
       "  <th>salary</th>    <td>-1.402e-07</td> <td> 5.62e-08</td> <td>   -2.496</td> <td> 0.013</td> <td> -2.5e-07</td> <td>-3.01e-08</td>\n",
       "</tr>\n",
       "<tr>\n",
       "  <th>balance</th>   <td> 1.411e-05</td> <td> 1.41e-06</td> <td>   10.012</td> <td> 0.000</td> <td> 1.13e-05</td> <td> 1.69e-05</td>\n",
       "</tr>\n",
       "<tr>\n",
       "  <th>day</th>       <td>   -0.0004</td> <td>    0.000</td> <td>   -2.123</td> <td> 0.034</td> <td>   -0.001</td> <td> -3.2e-05</td>\n",
       "</tr>\n",
       "<tr>\n",
       "  <th>duration</th>  <td>    0.0007</td> <td> 9.16e-06</td> <td>   75.189</td> <td> 0.000</td> <td>    0.001</td> <td>    0.001</td>\n",
       "</tr>\n",
       "<tr>\n",
       "  <th>campaign</th>  <td>   -0.0067</td> <td>    0.001</td> <td>   -6.472</td> <td> 0.000</td> <td>   -0.009</td> <td>   -0.005</td>\n",
       "</tr>\n",
       "<tr>\n",
       "  <th>pdays</th>     <td>    0.0004</td> <td> 3.17e-05</td> <td>   12.918</td> <td> 0.000</td> <td>    0.000</td> <td>    0.000</td>\n",
       "</tr>\n",
       "<tr>\n",
       "  <th>previous</th>  <td>    0.0069</td> <td>    0.001</td> <td>    9.219</td> <td> 0.000</td> <td>    0.005</td> <td>    0.008</td>\n",
       "</tr>\n",
       "</table>\n",
       "<table class=\"simpletable\">\n",
       "<tr>\n",
       "  <th>Omnibus:</th>       <td>8930.650</td> <th>  Durbin-Watson:     </th> <td>   2.022</td> \n",
       "</tr>\n",
       "<tr>\n",
       "  <th>Prob(Omnibus):</th>  <td> 0.000</td>  <th>  Jarque-Bera (JB):  </th> <td>21346.059</td>\n",
       "</tr>\n",
       "<tr>\n",
       "  <th>Skew:</th>           <td> 1.590</td>  <th>  Prob(JB):          </th> <td>    0.00</td> \n",
       "</tr>\n",
       "<tr>\n",
       "  <th>Kurtosis:</th>       <td> 5.464</td>  <th>  Cond. No.          </th> <td>7.05e+05</td> \n",
       "</tr>\n",
       "</table><br/><br/>Notes:<br/>[1] Standard Errors assume that the covariance matrix of the errors is correctly specified.<br/>[2] The condition number is large, 7.05e+05. This might indicate that there are<br/>strong multicollinearity or other numerical problems."
      ],
      "text/plain": [
       "<class 'statsmodels.iolib.summary.Summary'>\n",
       "\"\"\"\n",
       "                            OLS Regression Results                            \n",
       "==============================================================================\n",
       "Dep. Variable:               response   R-squared:                       0.211\n",
       "Model:                            OLS   Adj. R-squared:                  0.210\n",
       "Method:                 Least Squares   F-statistic:                     469.5\n",
       "Date:                Mon, 28 Mar 2022   Prob (F-statistic):               0.00\n",
       "Time:                        23:31:29   Log-Likelihood:                -5265.2\n",
       "No. Observations:               31647   AIC:                         1.057e+04\n",
       "Df Residuals:                   31628   BIC:                         1.073e+04\n",
       "Df Model:                          18                                         \n",
       "Covariance Type:            nonrobust                                         \n",
       "==============================================================================\n",
       "                 coef    std err          t      P>|t|      [0.025      0.975]\n",
       "------------------------------------------------------------------------------\n",
       "const         -0.1172      0.017     -6.928      0.000      -0.150      -0.084\n",
       "job            0.0013      0.001      2.634      0.008       0.000       0.002\n",
       "marital        0.0173      0.003      5.806      0.000       0.011       0.023\n",
       "education      0.0105      0.003      3.486      0.000       0.005       0.016\n",
       "targeted      -0.0237      0.006     -4.301      0.000      -0.035      -0.013\n",
       "default       -0.0194      0.012     -1.568      0.117      -0.044       0.005\n",
       "housing       -0.0836      0.004    -23.646      0.000      -0.090      -0.077\n",
       "loan          -0.0413      0.004     -9.254      0.000      -0.050      -0.033\n",
       "contact       -0.0385      0.002    -18.698      0.000      -0.043      -0.034\n",
       "month          0.0046      0.001      7.674      0.000       0.003       0.006\n",
       "poutcome       0.0260      0.003      7.918      0.000       0.020       0.032\n",
       "age            0.0009      0.000      5.177      0.000       0.001       0.001\n",
       "salary     -1.402e-07   5.62e-08     -2.496      0.013    -2.5e-07   -3.01e-08\n",
       "balance     1.411e-05   1.41e-06     10.012      0.000    1.13e-05    1.69e-05\n",
       "day           -0.0004      0.000     -2.123      0.034      -0.001    -3.2e-05\n",
       "duration       0.0007   9.16e-06     75.189      0.000       0.001       0.001\n",
       "campaign      -0.0067      0.001     -6.472      0.000      -0.009      -0.005\n",
       "pdays          0.0004   3.17e-05     12.918      0.000       0.000       0.000\n",
       "previous       0.0069      0.001      9.219      0.000       0.005       0.008\n",
       "==============================================================================\n",
       "Omnibus:                     8930.650   Durbin-Watson:                   2.022\n",
       "Prob(Omnibus):                  0.000   Jarque-Bera (JB):            21346.059\n",
       "Skew:                           1.590   Prob(JB):                         0.00\n",
       "Kurtosis:                       5.464   Cond. No.                     7.05e+05\n",
       "==============================================================================\n",
       "\n",
       "Notes:\n",
       "[1] Standard Errors assume that the covariance matrix of the errors is correctly specified.\n",
       "[2] The condition number is large, 7.05e+05. This might indicate that there are\n",
       "strong multicollinearity or other numerical problems.\n",
       "\"\"\""
      ]
     },
     "execution_count": 122,
     "metadata": {},
     "output_type": "execute_result"
    }
   ],
   "source": [
    "rfc.summary()"
   ]
  },
  {
   "cell_type": "code",
   "execution_count": null,
   "id": "69a071f7",
   "metadata": {},
   "outputs": [],
   "source": []
  }
 ],
 "metadata": {
  "kernelspec": {
   "display_name": "Python 3 (ipykernel)",
   "language": "python",
   "name": "python3"
  },
  "language_info": {
   "codemirror_mode": {
    "name": "ipython",
    "version": 3
   },
   "file_extension": ".py",
   "mimetype": "text/x-python",
   "name": "python",
   "nbconvert_exporter": "python",
   "pygments_lexer": "ipython3",
   "version": "3.9.7"
  }
 },
 "nbformat": 4,
 "nbformat_minor": 5
}
